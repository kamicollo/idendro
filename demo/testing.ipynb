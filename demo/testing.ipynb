{
 "cells": [
  {
   "cell_type": "code",
   "execution_count": 1,
   "metadata": {},
   "outputs": [],
   "source": [
    "import sys\n",
    "from pathlib import Path\n",
    "path = Path(\"./\").absolute().parent\n",
    "sys.path.insert(1, str(path))"
   ]
  },
  {
   "cell_type": "code",
   "execution_count": 2,
   "metadata": {},
   "outputs": [],
   "source": [
    "from demo_func import DemoData\n",
    "import numpy as np\n",
    "import scipy.cluster.hierarchy as sch\n",
    "\n",
    "signals_to_generate = 100\n",
    "network_cluster_count = 12\n",
    "x_plot_labels = np.linspace(1, 1000, 1000)\n",
    "\n",
    "demo = DemoData(no_signals=signals_to_generate, seed=833142, no_network_clusters = network_cluster_count)\n",
    "signals = demo.generate_raw_data()\n",
    "\n",
    "impairments = {\n",
    "            \"Suckout\" : (20, \"green\", np.arange(300,370), 0.5 * (np.abs(np.arange(-35, 35)) - 35)),\n",
    "            \"Wave\" : (12, \"orange\", np.arange(580,700), 3*np.sin(np.arange(120)/5)),\n",
    "        }\n",
    "\n",
    "tilt_x = np.arange(1000)\n",
    "tilt_y = np.zeros(1000,)\n",
    "tilt_y[demo.ideal_signal > 0] = -tilt_x[demo.ideal_signal > 0] * 0.02\n",
    "impairments[\"Tilt\"] = (19, \"red\", tilt_x, tilt_y)\n",
    "\n",
    "graph, impaired_signals, network_clusters = demo.generate_impaired_graph(impairments=impairments)\n",
    "sparse_matrix = demo.get_sparse_wavelet_matrix(impaired_signals)\n",
    "dists = demo.get_adjacency_matrix(sparse_matrix)"
   ]
  },
  {
   "cell_type": "code",
   "execution_count": 3,
   "metadata": {},
   "outputs": [
    {
     "data": {
      "text/plain": [
       "{1, 2, 3, 4, 5, 6, 7}"
      ]
     },
     "execution_count": 3,
     "metadata": {},
     "output_type": "execute_result"
    }
   ],
   "source": [
    "model = sch.linkage(dists, method='average')\n",
    "threshold = 70\n",
    "cluster_assignments = sch.fcluster(model, threshold, criterion='distance')\n",
    "set(cluster_assignments)"
   ]
  },
  {
   "cell_type": "code",
   "execution_count": 4,
   "metadata": {},
   "outputs": [
    {
     "data": {
      "text/plain": [
       "{'C0': '#1f77b4',\n",
       " 'C1': '#ff7f0e',\n",
       " 'C2': '#2ca02c',\n",
       " 'C3': '#d62728',\n",
       " 'C4': '#9467bd',\n",
       " 'C5': '#8c564b',\n",
       " 'C6': '#e377c2',\n",
       " 'C7': '#7f7f7f',\n",
       " 'C8': '#bcbd22',\n",
       " 'C9': '#17becf'}"
      ]
     },
     "execution_count": 4,
     "metadata": {},
     "output_type": "execute_result"
    }
   ],
   "source": [
    "L, M = sch.leaders(model, cluster_assignments)\n",
    "M[L == 161]\n",
    "from matplotlib.colors import to_hex\n",
    "{'C' + str(x): to_hex('C' + str(x)) for x in range(10)}"
   ]
  },
  {
   "cell_type": "code",
   "execution_count": 33,
   "metadata": {},
   "outputs": [
    {
     "name": "stdout",
     "output_type": "stream",
     "text": [
      "foo\n"
     ]
    }
   ],
   "source": [
    "import idendro\n",
    "import importlib as imp\n",
    "imp.reload(idendro)"
   ]
  },
  {
   "cell_type": "code",
   "execution_count": 34,
   "metadata": {},
   "outputs": [],
   "source": [
    "from dataclasses import dataclass\n",
    "import importlib as imp\n",
    "imp.reload(idendro)\n",
    "\n",
    "@dataclass\n",
    "class MyLink(idendro.ClusterLink):\n",
    "    strokewidth: float = 0.5\n",
    "\n",
    "\n",
    "cdata = idendro.ClusteringData(linkage_matrix=model, cluster_assignments=cluster_assignments, threshold=threshold)\n",
    "\n",
    "dd = idendro.Idendro(link_factory=lambda x: MyLink(**x))\n",
    "dd.set_cluster_info(cdata)"
   ]
  },
  {
   "cell_type": "code",
   "execution_count": 36,
   "metadata": {},
   "outputs": [
    {
     "data": {
      "text/html": [
       "\n",
       "<div id=\"altair-viz-9280d55dd05f4a0d9088c9118887d733\"></div>\n",
       "<script type=\"text/javascript\">\n",
       "  var VEGA_DEBUG = (typeof VEGA_DEBUG == \"undefined\") ? {} : VEGA_DEBUG;\n",
       "  (function(spec, embedOpt){\n",
       "    let outputDiv = document.currentScript.previousElementSibling;\n",
       "    if (outputDiv.id !== \"altair-viz-9280d55dd05f4a0d9088c9118887d733\") {\n",
       "      outputDiv = document.getElementById(\"altair-viz-9280d55dd05f4a0d9088c9118887d733\");\n",
       "    }\n",
       "    const paths = {\n",
       "      \"vega\": \"https://cdn.jsdelivr.net/npm//vega@5?noext\",\n",
       "      \"vega-lib\": \"https://cdn.jsdelivr.net/npm//vega-lib?noext\",\n",
       "      \"vega-lite\": \"https://cdn.jsdelivr.net/npm//vega-lite@4.17.0?noext\",\n",
       "      \"vega-embed\": \"https://cdn.jsdelivr.net/npm//vega-embed@6?noext\",\n",
       "    };\n",
       "\n",
       "    function maybeLoadScript(lib, version) {\n",
       "      var key = `${lib.replace(\"-\", \"\")}_version`;\n",
       "      return (VEGA_DEBUG[key] == version) ?\n",
       "        Promise.resolve(paths[lib]) :\n",
       "        new Promise(function(resolve, reject) {\n",
       "          var s = document.createElement('script');\n",
       "          document.getElementsByTagName(\"head\")[0].appendChild(s);\n",
       "          s.async = true;\n",
       "          s.onload = () => {\n",
       "            VEGA_DEBUG[key] = version;\n",
       "            return resolve(paths[lib]);\n",
       "          };\n",
       "          s.onerror = () => reject(`Error loading script: ${paths[lib]}`);\n",
       "          s.src = paths[lib];\n",
       "        });\n",
       "    }\n",
       "\n",
       "    function showError(err) {\n",
       "      outputDiv.innerHTML = `<div class=\"error\" style=\"color:red;\">${err}</div>`;\n",
       "      throw err;\n",
       "    }\n",
       "\n",
       "    function displayChart(vegaEmbed) {\n",
       "      vegaEmbed(outputDiv, spec, embedOpt)\n",
       "        .catch(err => showError(`Javascript Error: ${err.message}<br>This usually means there's a typo in your chart specification. See the javascript console for the full traceback.`));\n",
       "    }\n",
       "\n",
       "    if(typeof define === \"function\" && define.amd) {\n",
       "      requirejs.config({paths});\n",
       "      require([\"vega-embed\"], displayChart, err => showError(`Error loading script: ${err.message}`));\n",
       "    } else {\n",
       "      maybeLoadScript(\"vega\", \"5\")\n",
       "        .then(() => maybeLoadScript(\"vega-lite\", \"4.17.0\"))\n",
       "        .then(() => maybeLoadScript(\"vega-embed\", \"6\"))\n",
       "        .catch(showError)\n",
       "        .then(() => displayChart(vegaEmbed));\n",
       "    }\n",
       "  })({\"layer\": [{\"data\": {\"name\": \"data-76a080f59961510974033990a505abd2\"}, \"mark\": \"line\", \"encoding\": {\"color\": {\"field\": \"fillcolor\", \"legend\": null, \"scale\": null, \"type\": \"nominal\"}, \"detail\": {\"field\": \"index\", \"type\": \"quantitative\"}, \"order\": {\"field\": \"_order_helper\", \"type\": \"quantitative\"}, \"strokeDash\": {\"field\": \"strokedash\", \"legend\": null, \"scale\": null, \"type\": \"nominal\"}, \"strokeOpacity\": {\"field\": \"strokeopacity\", \"legend\": null, \"scale\": null, \"type\": \"quantitative\"}, \"strokeWidth\": {\"field\": \"strokewidth\", \"legend\": null, \"scale\": null, \"type\": \"quantitative\"}, \"x\": {\"axis\": {\"grid\": false, \"labelExpr\": \"datum.value == 5.0 ? '66' : datum.value == 15.0 ? '68' : datum.value == 25.0 ? '20' : datum.value == 35.0 ? '71' : datum.value == 45.0 ? '(4)' : datum.value == 55.0 ? '3' : datum.value == 65.0 ? '39' : datum.value == 75.0 ? '(2)' : datum.value == 85.0 ? '(11)' : datum.value == 95.0 ? '77' : datum.value == 105.0 ? '60' : datum.value == 115.0 ? '(7)' : datum.value == 125.0 ? '58' : datum.value == 135.0 ? '50' : datum.value == 145.0 ? '(4)' : datum.value == 155.0 ? '52' : datum.value == 165.0 ? '(2)' : datum.value == 175.0 ? '90' : datum.value == 185.0 ? '(2)' : datum.value == 195.0 ? '18' : datum.value == 205.0 ? '(2)' : datum.value == 215.0 ? '67' : datum.value == 225.0 ? '(15)' : datum.value == 235.0 ? '9' : datum.value == 245.0 ? '69' : datum.value == 255.0 ? '24' : datum.value == 265.0 ? '(34)' : ''\", \"labelPadding\": 10, \"orient\": \"bottom\", \"ticks\": false, \"values\": [5.0, 15.0, 25.0, 35.0, 45.0, 55.0, 65.0, 75.0, 85.0, 95.0, 105.0, 115.0, 125.0, 135.0, 145.0, 155.0, 165.0, 175.0, 185.0, 195.0, 205.0, 215.0, 225.0, 235.0, 245.0, 255.0, 265.0]}, \"field\": \"x\", \"title\": null, \"type\": \"quantitative\"}, \"y\": {\"axis\": {\"grid\": false}, \"field\": \"y\", \"scale\": {\"reverse\": false}, \"title\": null, \"type\": \"quantitative\"}}}, {\"layer\": [{\"layer\": [{\"mark\": {\"type\": \"point\", \"opacity\": 1, \"size\": 100}, \"encoding\": {\"fill\": {\"field\": \"fillcolor\", \"scale\": null, \"type\": \"nominal\"}, \"radius\": {\"field\": \"radius\", \"type\": \"quantitative\"}, \"stroke\": {\"field\": \"edgecolor\", \"scale\": null, \"type\": \"nominal\"}, \"tooltip\": {\"field\": \"hovertext\", \"type\": \"nominal\"}, \"x\": {\"axis\": {\"grid\": false, \"labelExpr\": \"datum.value == 5.0 ? '66' : datum.value == 15.0 ? '68' : datum.value == 25.0 ? '20' : datum.value == 35.0 ? '71' : datum.value == 45.0 ? '(4)' : datum.value == 55.0 ? '3' : datum.value == 65.0 ? '39' : datum.value == 75.0 ? '(2)' : datum.value == 85.0 ? '(11)' : datum.value == 95.0 ? '77' : datum.value == 105.0 ? '60' : datum.value == 115.0 ? '(7)' : datum.value == 125.0 ? '58' : datum.value == 135.0 ? '50' : datum.value == 145.0 ? '(4)' : datum.value == 155.0 ? '52' : datum.value == 165.0 ? '(2)' : datum.value == 175.0 ? '90' : datum.value == 185.0 ? '(2)' : datum.value == 195.0 ? '18' : datum.value == 205.0 ? '(2)' : datum.value == 215.0 ? '67' : datum.value == 225.0 ? '(15)' : datum.value == 235.0 ? '9' : datum.value == 245.0 ? '69' : datum.value == 255.0 ? '24' : datum.value == 265.0 ? '(34)' : ''\", \"labelPadding\": 10, \"orient\": \"bottom\", \"ticks\": false, \"values\": [5.0, 15.0, 25.0, 35.0, 45.0, 55.0, 65.0, 75.0, 85.0, 95.0, 105.0, 115.0, 125.0, 135.0, 145.0, 155.0, 165.0, 175.0, 185.0, 195.0, 205.0, 215.0, 225.0, 235.0, 245.0, 255.0, 265.0]}, \"field\": \"x\", \"title\": null, \"type\": \"quantitative\"}, \"y\": {\"axis\": {\"grid\": false}, \"field\": \"y\", \"scale\": {\"reverse\": false}, \"title\": null, \"type\": \"quantitative\"}}}, {\"mark\": {\"type\": \"text\", \"color\": \"white\", \"fontWeight\": \"bold\", \"size\": 9}, \"encoding\": {\"text\": {\"field\": \"label\", \"type\": \"nominal\"}, \"tooltip\": {\"field\": \"hovertext\", \"type\": \"nominal\"}, \"x\": {\"axis\": {\"grid\": false, \"labelExpr\": \"datum.value == 5.0 ? '66' : datum.value == 15.0 ? '68' : datum.value == 25.0 ? '20' : datum.value == 35.0 ? '71' : datum.value == 45.0 ? '(4)' : datum.value == 55.0 ? '3' : datum.value == 65.0 ? '39' : datum.value == 75.0 ? '(2)' : datum.value == 85.0 ? '(11)' : datum.value == 95.0 ? '77' : datum.value == 105.0 ? '60' : datum.value == 115.0 ? '(7)' : datum.value == 125.0 ? '58' : datum.value == 135.0 ? '50' : datum.value == 145.0 ? '(4)' : datum.value == 155.0 ? '52' : datum.value == 165.0 ? '(2)' : datum.value == 175.0 ? '90' : datum.value == 185.0 ? '(2)' : datum.value == 195.0 ? '18' : datum.value == 205.0 ? '(2)' : datum.value == 215.0 ? '67' : datum.value == 225.0 ? '(15)' : datum.value == 235.0 ? '9' : datum.value == 245.0 ? '69' : datum.value == 255.0 ? '24' : datum.value == 265.0 ? '(34)' : ''\", \"labelPadding\": 10, \"orient\": \"bottom\", \"ticks\": false, \"values\": [5.0, 15.0, 25.0, 35.0, 45.0, 55.0, 65.0, 75.0, 85.0, 95.0, 105.0, 115.0, 125.0, 135.0, 145.0, 155.0, 165.0, 175.0, 185.0, 195.0, 205.0, 215.0, 225.0, 235.0, 245.0, 255.0, 265.0]}, \"field\": \"x\", \"title\": null, \"type\": \"quantitative\"}, \"y\": {\"axis\": {\"grid\": false}, \"field\": \"y\", \"scale\": {\"reverse\": false}, \"title\": null, \"type\": \"quantitative\"}}}]}], \"data\": {\"name\": \"data-9144057c1e31a36af303d5c3254c8f2f\"}}], \"$schema\": \"https://vega.github.io/schema/vega-lite/v4.17.0.json\", \"datasets\": {\"data-76a080f59961510974033990a505abd2\": [{\"index\": 0, \"x\": 5.0, \"y\": 0.0, \"fillcolor\": \"#ff7f0e\", \"id\": 161, \"children_id\": [66, 68], \"cluster_id\": 1.0, \"strokewidth\": 0.5, \"strokedash\": [1, 1], \"strokeopacity\": 1.0, \"_order_helper\": 0}, {\"index\": 0, \"x\": 5.0, \"y\": 48.917474793394035, \"fillcolor\": \"#ff7f0e\", \"id\": 161, \"children_id\": [66, 68], \"cluster_id\": 1.0, \"strokewidth\": 0.5, \"strokedash\": [1, 1], \"strokeopacity\": 1.0, \"_order_helper\": 1}, {\"index\": 0, \"x\": 15.0, \"y\": 48.917474793394035, \"fillcolor\": \"#ff7f0e\", \"id\": 161, \"children_id\": [66, 68], \"cluster_id\": 1.0, \"strokewidth\": 0.5, \"strokedash\": [1, 1], \"strokeopacity\": 1.0, \"_order_helper\": 2}, {\"index\": 0, \"x\": 15.0, \"y\": 0.0, \"fillcolor\": \"#ff7f0e\", \"id\": 161, \"children_id\": [66, 68], \"cluster_id\": 1.0, \"strokewidth\": 0.5, \"strokedash\": [1, 1], \"strokeopacity\": 1.0, \"_order_helper\": 3}, {\"index\": 1, \"x\": 35.0, \"y\": 0.0, \"fillcolor\": \"#ff7f0e\", \"id\": 159, \"children_id\": [71, 124], \"cluster_id\": null, \"strokewidth\": 0.5, \"strokedash\": [1, 1], \"strokeopacity\": 1.0, \"_order_helper\": 0}, {\"index\": 1, \"x\": 35.0, \"y\": 48.80866682587825, \"fillcolor\": \"#ff7f0e\", \"id\": 159, \"children_id\": [71, 124], \"cluster_id\": null, \"strokewidth\": 0.5, \"strokedash\": [1, 1], \"strokeopacity\": 1.0, \"_order_helper\": 1}, {\"index\": 1, \"x\": 45.0, \"y\": 48.80866682587825, \"fillcolor\": \"#ff7f0e\", \"id\": 159, \"children_id\": [71, 124], \"cluster_id\": null, \"strokewidth\": 0.5, \"strokedash\": [1, 1], \"strokeopacity\": 1.0, \"_order_helper\": 2}, {\"index\": 1, \"x\": 45.0, \"y\": 0.0, \"fillcolor\": \"#ff7f0e\", \"id\": 159, \"children_id\": [71, 124], \"cluster_id\": null, \"strokewidth\": 0.5, \"strokedash\": [1, 1], \"strokeopacity\": 1.0, \"_order_helper\": 3}, {\"index\": 2, \"x\": 25.0, \"y\": 0.0, \"fillcolor\": \"#ff7f0e\", \"id\": 182, \"children_id\": [20, 159], \"cluster_id\": 2.0, \"strokewidth\": 0.5, \"strokedash\": [1, 1], \"strokeopacity\": 1.0, \"_order_helper\": 0}, {\"index\": 2, \"x\": 25.0, \"y\": 53.299791833714245, \"fillcolor\": \"#ff7f0e\", \"id\": 182, \"children_id\": [20, 159], \"cluster_id\": 2.0, \"strokewidth\": 0.5, \"strokedash\": [1, 1], \"strokeopacity\": 1.0, \"_order_helper\": 1}, {\"index\": 2, \"x\": 40.0, \"y\": 53.299791833714245, \"fillcolor\": \"#ff7f0e\", \"id\": 182, \"children_id\": [20, 159], \"cluster_id\": 2.0, \"strokewidth\": 0.5, \"strokedash\": [1, 1], \"strokeopacity\": 1.0, \"_order_helper\": 2}, {\"index\": 2, \"x\": 40.0, \"y\": 48.80866682587825, \"fillcolor\": \"#ff7f0e\", \"id\": 182, \"children_id\": [20, 159], \"cluster_id\": 2.0, \"strokewidth\": 0.5, \"strokedash\": [1, 1], \"strokeopacity\": 1.0, \"_order_helper\": 3}, {\"index\": 3, \"x\": 10.0, \"y\": 48.917474793394035, \"fillcolor\": \"#ff7f0e\", \"id\": 194, \"children_id\": [161, 182], \"cluster_id\": null, \"strokewidth\": 0.5, \"strokedash\": [1, 1], \"strokeopacity\": 1.0, \"_order_helper\": 0}, {\"index\": 3, \"x\": 10.0, \"y\": 77.35316507275142, \"fillcolor\": \"#ff7f0e\", \"id\": 194, \"children_id\": [161, 182], \"cluster_id\": null, \"strokewidth\": 0.5, \"strokedash\": [1, 1], \"strokeopacity\": 1.0, \"_order_helper\": 1}, {\"index\": 3, \"x\": 32.5, \"y\": 77.35316507275142, \"fillcolor\": \"#ff7f0e\", \"id\": 194, \"children_id\": [161, 182], \"cluster_id\": null, \"strokewidth\": 0.5, \"strokedash\": [1, 1], \"strokeopacity\": 1.0, \"_order_helper\": 2}, {\"index\": 3, \"x\": 32.5, \"y\": 53.299791833714245, \"fillcolor\": \"#ff7f0e\", \"id\": 194, \"children_id\": [161, 182], \"cluster_id\": null, \"strokewidth\": 0.5, \"strokedash\": [1, 1], \"strokeopacity\": 1.0, \"_order_helper\": 3}, {\"index\": 4, \"x\": 55.0, \"y\": 0.0, \"fillcolor\": \"#ff7f0e\", \"id\": 177, \"children_id\": [3, 39], \"cluster_id\": null, \"strokewidth\": 0.5, \"strokedash\": [1, 1], \"strokeopacity\": 1.0, \"_order_helper\": 0}, {\"index\": 4, \"x\": 55.0, \"y\": 52.41581927520318, \"fillcolor\": \"#ff7f0e\", \"id\": 177, \"children_id\": [3, 39], \"cluster_id\": null, \"strokewidth\": 0.5, \"strokedash\": [1, 1], \"strokeopacity\": 1.0, \"_order_helper\": 1}, {\"index\": 4, \"x\": 65.0, \"y\": 52.41581927520318, \"fillcolor\": \"#ff7f0e\", \"id\": 177, \"children_id\": [3, 39], \"cluster_id\": null, \"strokewidth\": 0.5, \"strokedash\": [1, 1], \"strokeopacity\": 1.0, \"_order_helper\": 2}, {\"index\": 4, \"x\": 65.0, \"y\": 0.0, \"fillcolor\": \"#ff7f0e\", \"id\": 177, \"children_id\": [3, 39], \"cluster_id\": null, \"strokewidth\": 0.5, \"strokedash\": [1, 1], \"strokeopacity\": 1.0, \"_order_helper\": 3}, {\"index\": 5, \"x\": 75.0, \"y\": 0.0, \"fillcolor\": \"#ff7f0e\", \"id\": 180, \"children_id\": [157, 174], \"cluster_id\": null, \"strokewidth\": 0.5, \"strokedash\": [1, 1], \"strokeopacity\": 1.0, \"_order_helper\": 0}, {\"index\": 5, \"x\": 75.0, \"y\": 52.97481103956573, \"fillcolor\": \"#ff7f0e\", \"id\": 180, \"children_id\": [157, 174], \"cluster_id\": null, \"strokewidth\": 0.5, \"strokedash\": [1, 1], \"strokeopacity\": 1.0, \"_order_helper\": 1}, {\"index\": 5, \"x\": 85.0, \"y\": 52.97481103956573, \"fillcolor\": \"#ff7f0e\", \"id\": 180, \"children_id\": [157, 174], \"cluster_id\": null, \"strokewidth\": 0.5, \"strokedash\": [1, 1], \"strokeopacity\": 1.0, \"_order_helper\": 2}, {\"index\": 5, \"x\": 85.0, \"y\": 0.0, \"fillcolor\": \"#ff7f0e\", \"id\": 180, \"children_id\": [157, 174], \"cluster_id\": null, \"strokewidth\": 0.5, \"strokedash\": [1, 1], \"strokeopacity\": 1.0, \"_order_helper\": 3}, {\"index\": 6, \"x\": 60.0, \"y\": 52.41581927520318, \"fillcolor\": \"#ff7f0e\", \"id\": 185, \"children_id\": [177, 180], \"cluster_id\": 3.0, \"strokewidth\": 0.5, \"strokedash\": [1, 1], \"strokeopacity\": 1.0, \"_order_helper\": 0}, {\"index\": 6, \"x\": 60.0, \"y\": 53.759713706828, \"fillcolor\": \"#ff7f0e\", \"id\": 185, \"children_id\": [177, 180], \"cluster_id\": 3.0, \"strokewidth\": 0.5, \"strokedash\": [1, 1], \"strokeopacity\": 1.0, \"_order_helper\": 1}, {\"index\": 6, \"x\": 80.0, \"y\": 53.759713706828, \"fillcolor\": \"#ff7f0e\", \"id\": 185, \"children_id\": [177, 180], \"cluster_id\": 3.0, \"strokewidth\": 0.5, \"strokedash\": [1, 1], \"strokeopacity\": 1.0, \"_order_helper\": 2}, {\"index\": 6, \"x\": 80.0, \"y\": 52.97481103956573, \"fillcolor\": \"#ff7f0e\", \"id\": 185, \"children_id\": [177, 180], \"cluster_id\": 3.0, \"strokewidth\": 0.5, \"strokedash\": [1, 1], \"strokeopacity\": 1.0, \"_order_helper\": 3}, {\"index\": 7, \"x\": 105.0, \"y\": 0.0, \"fillcolor\": \"#ff7f0e\", \"id\": 186, \"children_id\": [60, 171], \"cluster_id\": null, \"strokewidth\": 0.5, \"strokedash\": [1, 1], \"strokeopacity\": 1.0, \"_order_helper\": 0}, {\"index\": 7, \"x\": 105.0, \"y\": 53.83196893882111, \"fillcolor\": \"#ff7f0e\", \"id\": 186, \"children_id\": [60, 171], \"cluster_id\": null, \"strokewidth\": 0.5, \"strokedash\": [1, 1], \"strokeopacity\": 1.0, \"_order_helper\": 1}, {\"index\": 7, \"x\": 115.0, \"y\": 53.83196893882111, \"fillcolor\": \"#ff7f0e\", \"id\": 186, \"children_id\": [60, 171], \"cluster_id\": null, \"strokewidth\": 0.5, \"strokedash\": [1, 1], \"strokeopacity\": 1.0, \"_order_helper\": 2}, {\"index\": 7, \"x\": 115.0, \"y\": 0.0, \"fillcolor\": \"#ff7f0e\", \"id\": 186, \"children_id\": [60, 171], \"cluster_id\": null, \"strokewidth\": 0.5, \"strokedash\": [1, 1], \"strokeopacity\": 1.0, \"_order_helper\": 3}, {\"index\": 8, \"x\": 95.0, \"y\": 0.0, \"fillcolor\": \"#ff7f0e\", \"id\": 192, \"children_id\": [77, 186], \"cluster_id\": 4.0, \"strokewidth\": 0.5, \"strokedash\": [1, 1], \"strokeopacity\": 1.0, \"_order_helper\": 0}, {\"index\": 8, \"x\": 95.0, \"y\": 59.13407865049273, \"fillcolor\": \"#ff7f0e\", \"id\": 192, \"children_id\": [77, 186], \"cluster_id\": 4.0, \"strokewidth\": 0.5, \"strokedash\": [1, 1], \"strokeopacity\": 1.0, \"_order_helper\": 1}, {\"index\": 8, \"x\": 110.0, \"y\": 59.13407865049273, \"fillcolor\": \"#ff7f0e\", \"id\": 192, \"children_id\": [77, 186], \"cluster_id\": 4.0, \"strokewidth\": 0.5, \"strokedash\": [1, 1], \"strokeopacity\": 1.0, \"_order_helper\": 2}, {\"index\": 8, \"x\": 110.0, \"y\": 53.83196893882111, \"fillcolor\": \"#ff7f0e\", \"id\": 192, \"children_id\": [77, 186], \"cluster_id\": 4.0, \"strokewidth\": 0.5, \"strokedash\": [1, 1], \"strokeopacity\": 1.0, \"_order_helper\": 3}, {\"index\": 9, \"x\": 70.0, \"y\": 53.759713706828, \"fillcolor\": \"#ff7f0e\", \"id\": 195, \"children_id\": [185, 192], \"cluster_id\": null, \"strokewidth\": 0.5, \"strokedash\": [1, 1], \"strokeopacity\": 1.0, \"_order_helper\": 0}, {\"index\": 9, \"x\": 70.0, \"y\": 82.53370970584, \"fillcolor\": \"#ff7f0e\", \"id\": 195, \"children_id\": [185, 192], \"cluster_id\": null, \"strokewidth\": 0.5, \"strokedash\": [1, 1], \"strokeopacity\": 1.0, \"_order_helper\": 1}, {\"index\": 9, \"x\": 102.5, \"y\": 82.53370970584, \"fillcolor\": \"#ff7f0e\", \"id\": 195, \"children_id\": [185, 192], \"cluster_id\": null, \"strokewidth\": 0.5, \"strokedash\": [1, 1], \"strokeopacity\": 1.0, \"_order_helper\": 2}, {\"index\": 9, \"x\": 102.5, \"y\": 59.13407865049273, \"fillcolor\": \"#ff7f0e\", \"id\": 195, \"children_id\": [185, 192], \"cluster_id\": null, \"strokewidth\": 0.5, \"strokedash\": [1, 1], \"strokeopacity\": 1.0, \"_order_helper\": 3}, {\"index\": 10, \"x\": 21.25, \"y\": 77.35316507275142, \"fillcolor\": \"#ff7f0e\", \"id\": 196, \"children_id\": [194, 195], \"cluster_id\": null, \"strokewidth\": 0.5, \"strokedash\": [1, 1], \"strokeopacity\": 1.0, \"_order_helper\": 0}, {\"index\": 10, \"x\": 21.25, \"y\": 93.05467284204461, \"fillcolor\": \"#ff7f0e\", \"id\": 196, \"children_id\": [194, 195], \"cluster_id\": null, \"strokewidth\": 0.5, \"strokedash\": [1, 1], \"strokeopacity\": 1.0, \"_order_helper\": 1}, {\"index\": 10, \"x\": 86.25, \"y\": 93.05467284204461, \"fillcolor\": \"#ff7f0e\", \"id\": 196, \"children_id\": [194, 195], \"cluster_id\": null, \"strokewidth\": 0.5, \"strokedash\": [1, 1], \"strokeopacity\": 1.0, \"_order_helper\": 2}, {\"index\": 10, \"x\": 86.25, \"y\": 82.53370970584, \"fillcolor\": \"#ff7f0e\", \"id\": 196, \"children_id\": [194, 195], \"cluster_id\": null, \"strokewidth\": 0.5, \"strokedash\": [1, 1], \"strokeopacity\": 1.0, \"_order_helper\": 3}, {\"index\": 11, \"x\": 135.0, \"y\": 0.0, \"fillcolor\": \"#2ca02c\", \"id\": 158, \"children_id\": [50, 150], \"cluster_id\": null, \"strokewidth\": 0.5, \"strokedash\": [1, 1], \"strokeopacity\": 1.0, \"_order_helper\": 0}, {\"index\": 11, \"x\": 135.0, \"y\": 48.752819203410326, \"fillcolor\": \"#2ca02c\", \"id\": 158, \"children_id\": [50, 150], \"cluster_id\": null, \"strokewidth\": 0.5, \"strokedash\": [1, 1], \"strokeopacity\": 1.0, \"_order_helper\": 1}, {\"index\": 11, \"x\": 145.0, \"y\": 48.752819203410326, \"fillcolor\": \"#2ca02c\", \"id\": 158, \"children_id\": [50, 150], \"cluster_id\": null, \"strokewidth\": 0.5, \"strokedash\": [1, 1], \"strokeopacity\": 1.0, \"_order_helper\": 2}, {\"index\": 11, \"x\": 145.0, \"y\": 0.0, \"fillcolor\": \"#2ca02c\", \"id\": 158, \"children_id\": [50, 150], \"cluster_id\": null, \"strokewidth\": 0.5, \"strokedash\": [1, 1], \"strokeopacity\": 1.0, \"_order_helper\": 3}, {\"index\": 12, \"x\": 125.0, \"y\": 0.0, \"fillcolor\": \"#2ca02c\", \"id\": 176, \"children_id\": [58, 158], \"cluster_id\": null, \"strokewidth\": 0.5, \"strokedash\": [1, 1], \"strokeopacity\": 1.0, \"_order_helper\": 0}, {\"index\": 12, \"x\": 125.0, \"y\": 51.81033304869588, \"fillcolor\": \"#2ca02c\", \"id\": 176, \"children_id\": [58, 158], \"cluster_id\": null, \"strokewidth\": 0.5, \"strokedash\": [1, 1], \"strokeopacity\": 1.0, \"_order_helper\": 1}, {\"index\": 12, \"x\": 140.0, \"y\": 51.81033304869588, \"fillcolor\": \"#2ca02c\", \"id\": 176, \"children_id\": [58, 158], \"cluster_id\": null, \"strokewidth\": 0.5, \"strokedash\": [1, 1], \"strokeopacity\": 1.0, \"_order_helper\": 2}, {\"index\": 12, \"x\": 140.0, \"y\": 48.752819203410326, \"fillcolor\": \"#2ca02c\", \"id\": 176, \"children_id\": [58, 158], \"cluster_id\": null, \"strokewidth\": 0.5, \"strokedash\": [1, 1], \"strokeopacity\": 1.0, \"_order_helper\": 3}, {\"index\": 13, \"x\": 155.0, \"y\": 0.0, \"fillcolor\": \"#2ca02c\", \"id\": 164, \"children_id\": [52, 145], \"cluster_id\": null, \"strokewidth\": 0.5, \"strokedash\": [1, 1], \"strokeopacity\": 1.0, \"_order_helper\": 0}, {\"index\": 13, \"x\": 155.0, \"y\": 49.02986650445658, \"fillcolor\": \"#2ca02c\", \"id\": 164, \"children_id\": [52, 145], \"cluster_id\": null, \"strokewidth\": 0.5, \"strokedash\": [1, 1], \"strokeopacity\": 1.0, \"_order_helper\": 1}, {\"index\": 13, \"x\": 165.0, \"y\": 49.02986650445658, \"fillcolor\": \"#2ca02c\", \"id\": 164, \"children_id\": [52, 145], \"cluster_id\": null, \"strokewidth\": 0.5, \"strokedash\": [1, 1], \"strokeopacity\": 1.0, \"_order_helper\": 2}, {\"index\": 13, \"x\": 165.0, \"y\": 0.0, \"fillcolor\": \"#2ca02c\", \"id\": 164, \"children_id\": [52, 145], \"cluster_id\": null, \"strokewidth\": 0.5, \"strokedash\": [1, 1], \"strokeopacity\": 1.0, \"_order_helper\": 3}, {\"index\": 14, \"x\": 175.0, \"y\": 0.0, \"fillcolor\": \"#2ca02c\", \"id\": 165, \"children_id\": [90, 118], \"cluster_id\": null, \"strokewidth\": 0.5, \"strokedash\": [1, 1], \"strokeopacity\": 1.0, \"_order_helper\": 0}, {\"index\": 14, \"x\": 175.0, \"y\": 49.46360949137839, \"fillcolor\": \"#2ca02c\", \"id\": 165, \"children_id\": [90, 118], \"cluster_id\": null, \"strokewidth\": 0.5, \"strokedash\": [1, 1], \"strokeopacity\": 1.0, \"_order_helper\": 1}, {\"index\": 14, \"x\": 185.0, \"y\": 49.46360949137839, \"fillcolor\": \"#2ca02c\", \"id\": 165, \"children_id\": [90, 118], \"cluster_id\": null, \"strokewidth\": 0.5, \"strokedash\": [1, 1], \"strokeopacity\": 1.0, \"_order_helper\": 2}, {\"index\": 14, \"x\": 185.0, \"y\": 0.0, \"fillcolor\": \"#2ca02c\", \"id\": 165, \"children_id\": [90, 118], \"cluster_id\": null, \"strokewidth\": 0.5, \"strokedash\": [1, 1], \"strokeopacity\": 1.0, \"_order_helper\": 3}, {\"index\": 15, \"x\": 160.0, \"y\": 49.02986650445658, \"fillcolor\": \"#2ca02c\", \"id\": 183, \"children_id\": [164, 165], \"cluster_id\": null, \"strokewidth\": 0.5, \"strokedash\": [1, 1], \"strokeopacity\": 1.0, \"_order_helper\": 0}, {\"index\": 15, \"x\": 160.0, \"y\": 53.34220906767658, \"fillcolor\": \"#2ca02c\", \"id\": 183, \"children_id\": [164, 165], \"cluster_id\": null, \"strokewidth\": 0.5, \"strokedash\": [1, 1], \"strokeopacity\": 1.0, \"_order_helper\": 1}, {\"index\": 15, \"x\": 180.0, \"y\": 53.34220906767658, \"fillcolor\": \"#2ca02c\", \"id\": 183, \"children_id\": [164, 165], \"cluster_id\": null, \"strokewidth\": 0.5, \"strokedash\": [1, 1], \"strokeopacity\": 1.0, \"_order_helper\": 2}, {\"index\": 15, \"x\": 180.0, \"y\": 49.46360949137839, \"fillcolor\": \"#2ca02c\", \"id\": 183, \"children_id\": [164, 165], \"cluster_id\": null, \"strokewidth\": 0.5, \"strokedash\": [1, 1], \"strokeopacity\": 1.0, \"_order_helper\": 3}, {\"index\": 16, \"x\": 132.5, \"y\": 51.81033304869588, \"fillcolor\": \"#2ca02c\", \"id\": 188, \"children_id\": [176, 183], \"cluster_id\": 5.0, \"strokewidth\": 0.5, \"strokedash\": [1, 1], \"strokeopacity\": 1.0, \"_order_helper\": 0}, {\"index\": 16, \"x\": 132.5, \"y\": 54.73273184728699, \"fillcolor\": \"#2ca02c\", \"id\": 188, \"children_id\": [176, 183], \"cluster_id\": 5.0, \"strokewidth\": 0.5, \"strokedash\": [1, 1], \"strokeopacity\": 1.0, \"_order_helper\": 1}, {\"index\": 16, \"x\": 170.0, \"y\": 54.73273184728699, \"fillcolor\": \"#2ca02c\", \"id\": 188, \"children_id\": [176, 183], \"cluster_id\": 5.0, \"strokewidth\": 0.5, \"strokedash\": [1, 1], \"strokeopacity\": 1.0, \"_order_helper\": 2}, {\"index\": 16, \"x\": 170.0, \"y\": 53.34220906767658, \"fillcolor\": \"#2ca02c\", \"id\": 188, \"children_id\": [176, 183], \"cluster_id\": 5.0, \"strokewidth\": 0.5, \"strokedash\": [1, 1], \"strokeopacity\": 1.0, \"_order_helper\": 3}, {\"index\": 17, \"x\": 195.0, \"y\": 0.0, \"fillcolor\": \"#2ca02c\", \"id\": 162, \"children_id\": [18, 113], \"cluster_id\": null, \"strokewidth\": 0.5, \"strokedash\": [1, 1], \"strokeopacity\": 1.0, \"_order_helper\": 0}, {\"index\": 17, \"x\": 195.0, \"y\": 48.928268781492136, \"fillcolor\": \"#2ca02c\", \"id\": 162, \"children_id\": [18, 113], \"cluster_id\": null, \"strokewidth\": 0.5, \"strokedash\": [1, 1], \"strokeopacity\": 1.0, \"_order_helper\": 1}, {\"index\": 17, \"x\": 205.0, \"y\": 48.928268781492136, \"fillcolor\": \"#2ca02c\", \"id\": 162, \"children_id\": [18, 113], \"cluster_id\": null, \"strokewidth\": 0.5, \"strokedash\": [1, 1], \"strokeopacity\": 1.0, \"_order_helper\": 2}, {\"index\": 17, \"x\": 205.0, \"y\": 0.0, \"fillcolor\": \"#2ca02c\", \"id\": 162, \"children_id\": [18, 113], \"cluster_id\": null, \"strokewidth\": 0.5, \"strokedash\": [1, 1], \"strokeopacity\": 1.0, \"_order_helper\": 3}, {\"index\": 18, \"x\": 215.0, \"y\": 0.0, \"fillcolor\": \"#2ca02c\", \"id\": 189, \"children_id\": [67, 187], \"cluster_id\": null, \"strokewidth\": 0.5, \"strokedash\": [1, 1], \"strokeopacity\": 1.0, \"_order_helper\": 0}, {\"index\": 18, \"x\": 215.0, \"y\": 54.81711563263866, \"fillcolor\": \"#2ca02c\", \"id\": 189, \"children_id\": [67, 187], \"cluster_id\": null, \"strokewidth\": 0.5, \"strokedash\": [1, 1], \"strokeopacity\": 1.0, \"_order_helper\": 1}, {\"index\": 18, \"x\": 225.0, \"y\": 54.81711563263866, \"fillcolor\": \"#2ca02c\", \"id\": 189, \"children_id\": [67, 187], \"cluster_id\": null, \"strokewidth\": 0.5, \"strokedash\": [1, 1], \"strokeopacity\": 1.0, \"_order_helper\": 2}, {\"index\": 18, \"x\": 225.0, \"y\": 0.0, \"fillcolor\": \"#2ca02c\", \"id\": 189, \"children_id\": [67, 187], \"cluster_id\": null, \"strokewidth\": 0.5, \"strokedash\": [1, 1], \"strokeopacity\": 1.0, \"_order_helper\": 3}, {\"index\": 19, \"x\": 200.0, \"y\": 48.928268781492136, \"fillcolor\": \"#2ca02c\", \"id\": 190, \"children_id\": [162, 189], \"cluster_id\": 6.0, \"strokewidth\": 0.5, \"strokedash\": [1, 1], \"strokeopacity\": 1.0, \"_order_helper\": 0}, {\"index\": 19, \"x\": 200.0, \"y\": 55.588291766637255, \"fillcolor\": \"#2ca02c\", \"id\": 190, \"children_id\": [162, 189], \"cluster_id\": 6.0, \"strokewidth\": 0.5, \"strokedash\": [1, 1], \"strokeopacity\": 1.0, \"_order_helper\": 1}, {\"index\": 19, \"x\": 220.0, \"y\": 55.588291766637255, \"fillcolor\": \"#2ca02c\", \"id\": 190, \"children_id\": [162, 189], \"cluster_id\": 6.0, \"strokewidth\": 0.5, \"strokedash\": [1, 1], \"strokeopacity\": 1.0, \"_order_helper\": 2}, {\"index\": 19, \"x\": 220.0, \"y\": 54.81711563263866, \"fillcolor\": \"#2ca02c\", \"id\": 190, \"children_id\": [162, 189], \"cluster_id\": 6.0, \"strokewidth\": 0.5, \"strokedash\": [1, 1], \"strokeopacity\": 1.0, \"_order_helper\": 3}, {\"index\": 20, \"x\": 235.0, \"y\": 0.0, \"fillcolor\": \"#2ca02c\", \"id\": 178, \"children_id\": [9, 69], \"cluster_id\": null, \"strokewidth\": 0.5, \"strokedash\": [1, 1], \"strokeopacity\": 1.0, \"_order_helper\": 0}, {\"index\": 20, \"x\": 235.0, \"y\": 52.49993084742456, \"fillcolor\": \"#2ca02c\", \"id\": 178, \"children_id\": [9, 69], \"cluster_id\": null, \"strokewidth\": 0.5, \"strokedash\": [1, 1], \"strokeopacity\": 1.0, \"_order_helper\": 1}, {\"index\": 20, \"x\": 245.0, \"y\": 52.49993084742456, \"fillcolor\": \"#2ca02c\", \"id\": 178, \"children_id\": [9, 69], \"cluster_id\": null, \"strokewidth\": 0.5, \"strokedash\": [1, 1], \"strokeopacity\": 1.0, \"_order_helper\": 2}, {\"index\": 20, \"x\": 245.0, \"y\": 0.0, \"fillcolor\": \"#2ca02c\", \"id\": 178, \"children_id\": [9, 69], \"cluster_id\": null, \"strokewidth\": 0.5, \"strokedash\": [1, 1], \"strokeopacity\": 1.0, \"_order_helper\": 3}, {\"index\": 21, \"x\": 255.0, \"y\": 0.0, \"fillcolor\": \"#2ca02c\", \"id\": 184, \"children_id\": [24, 181], \"cluster_id\": null, \"strokewidth\": 0.5, \"strokedash\": [1, 1], \"strokeopacity\": 1.0, \"_order_helper\": 0}, {\"index\": 21, \"x\": 255.0, \"y\": 53.430020184695934, \"fillcolor\": \"#2ca02c\", \"id\": 184, \"children_id\": [24, 181], \"cluster_id\": null, \"strokewidth\": 0.5, \"strokedash\": [1, 1], \"strokeopacity\": 1.0, \"_order_helper\": 1}, {\"index\": 21, \"x\": 265.0, \"y\": 53.430020184695934, \"fillcolor\": \"#2ca02c\", \"id\": 184, \"children_id\": [24, 181], \"cluster_id\": null, \"strokewidth\": 0.5, \"strokedash\": [1, 1], \"strokeopacity\": 1.0, \"_order_helper\": 2}, {\"index\": 21, \"x\": 265.0, \"y\": 0.0, \"fillcolor\": \"#2ca02c\", \"id\": 184, \"children_id\": [24, 181], \"cluster_id\": null, \"strokewidth\": 0.5, \"strokedash\": [1, 1], \"strokeopacity\": 1.0, \"_order_helper\": 3}, {\"index\": 22, \"x\": 240.0, \"y\": 52.49993084742456, \"fillcolor\": \"#2ca02c\", \"id\": 191, \"children_id\": [178, 184], \"cluster_id\": 7.0, \"strokewidth\": 0.5, \"strokedash\": [1, 1], \"strokeopacity\": 1.0, \"_order_helper\": 0}, {\"index\": 22, \"x\": 240.0, \"y\": 55.85024332736424, \"fillcolor\": \"#2ca02c\", \"id\": 191, \"children_id\": [178, 184], \"cluster_id\": 7.0, \"strokewidth\": 0.5, \"strokedash\": [1, 1], \"strokeopacity\": 1.0, \"_order_helper\": 1}, {\"index\": 22, \"x\": 260.0, \"y\": 55.85024332736424, \"fillcolor\": \"#2ca02c\", \"id\": 191, \"children_id\": [178, 184], \"cluster_id\": 7.0, \"strokewidth\": 0.5, \"strokedash\": [1, 1], \"strokeopacity\": 1.0, \"_order_helper\": 2}, {\"index\": 22, \"x\": 260.0, \"y\": 53.430020184695934, \"fillcolor\": \"#2ca02c\", \"id\": 191, \"children_id\": [178, 184], \"cluster_id\": 7.0, \"strokewidth\": 0.5, \"strokedash\": [1, 1], \"strokeopacity\": 1.0, \"_order_helper\": 3}, {\"index\": 23, \"x\": 210.0, \"y\": 55.588291766637255, \"fillcolor\": \"#2ca02c\", \"id\": 193, \"children_id\": [190, 191], \"cluster_id\": null, \"strokewidth\": 0.5, \"strokedash\": [1, 1], \"strokeopacity\": 1.0, \"_order_helper\": 0}, {\"index\": 23, \"x\": 210.0, \"y\": 73.64360090526921, \"fillcolor\": \"#2ca02c\", \"id\": 193, \"children_id\": [190, 191], \"cluster_id\": null, \"strokewidth\": 0.5, \"strokedash\": [1, 1], \"strokeopacity\": 1.0, \"_order_helper\": 1}, {\"index\": 23, \"x\": 250.0, \"y\": 73.64360090526921, \"fillcolor\": \"#2ca02c\", \"id\": 193, \"children_id\": [190, 191], \"cluster_id\": null, \"strokewidth\": 0.5, \"strokedash\": [1, 1], \"strokeopacity\": 1.0, \"_order_helper\": 2}, {\"index\": 23, \"x\": 250.0, \"y\": 55.85024332736424, \"fillcolor\": \"#2ca02c\", \"id\": 193, \"children_id\": [190, 191], \"cluster_id\": null, \"strokewidth\": 0.5, \"strokedash\": [1, 1], \"strokeopacity\": 1.0, \"_order_helper\": 3}, {\"index\": 24, \"x\": 151.25, \"y\": 54.73273184728699, \"fillcolor\": \"#2ca02c\", \"id\": 197, \"children_id\": [188, 193], \"cluster_id\": null, \"strokewidth\": 0.5, \"strokedash\": [1, 1], \"strokeopacity\": 1.0, \"_order_helper\": 0}, {\"index\": 24, \"x\": 151.25, \"y\": 189.91952617609135, \"fillcolor\": \"#2ca02c\", \"id\": 197, \"children_id\": [188, 193], \"cluster_id\": null, \"strokewidth\": 0.5, \"strokedash\": [1, 1], \"strokeopacity\": 1.0, \"_order_helper\": 1}, {\"index\": 24, \"x\": 230.0, \"y\": 189.91952617609135, \"fillcolor\": \"#2ca02c\", \"id\": 197, \"children_id\": [188, 193], \"cluster_id\": null, \"strokewidth\": 0.5, \"strokedash\": [1, 1], \"strokeopacity\": 1.0, \"_order_helper\": 2}, {\"index\": 24, \"x\": 230.0, \"y\": 73.64360090526921, \"fillcolor\": \"#2ca02c\", \"id\": 197, \"children_id\": [188, 193], \"cluster_id\": null, \"strokewidth\": 0.5, \"strokedash\": [1, 1], \"strokeopacity\": 1.0, \"_order_helper\": 3}, {\"index\": 25, \"x\": 53.75, \"y\": 93.05467284204461, \"fillcolor\": \"#1f77b4\", \"id\": 198, \"children_id\": [196, 197], \"cluster_id\": null, \"strokewidth\": 0.5, \"strokedash\": [1, 1], \"strokeopacity\": 1.0, \"_order_helper\": 0}, {\"index\": 25, \"x\": 53.75, \"y\": 1456.796403249361, \"fillcolor\": \"#1f77b4\", \"id\": 198, \"children_id\": [196, 197], \"cluster_id\": null, \"strokewidth\": 0.5, \"strokedash\": [1, 1], \"strokeopacity\": 1.0, \"_order_helper\": 1}, {\"index\": 25, \"x\": 190.625, \"y\": 1456.796403249361, \"fillcolor\": \"#1f77b4\", \"id\": 198, \"children_id\": [196, 197], \"cluster_id\": null, \"strokewidth\": 0.5, \"strokedash\": [1, 1], \"strokeopacity\": 1.0, \"_order_helper\": 2}, {\"index\": 25, \"x\": 190.625, \"y\": 189.91952617609135, \"fillcolor\": \"#1f77b4\", \"id\": 198, \"children_id\": [196, 197], \"cluster_id\": null, \"strokewidth\": 0.5, \"strokedash\": [1, 1], \"strokeopacity\": 1.0, \"_order_helper\": 3}], \"data-9144057c1e31a36af303d5c3254c8f2f\": [{\"x\": 5.0, \"y\": 0.0, \"type\": \"leaf\", \"id\": 66, \"cluster_id\": null, \"edgecolor\": \"#ff7f0e\", \"label\": \"\", \"hovertext\": {\"foo\": 1, \"bar\": 2}, \"fillcolor\": \"#ff7f0e\", \"radius\": 4.0, \"labelsize\": 10.0, \"labelcolor\": \"fff\"}, {\"x\": 15.0, \"y\": 0.0, \"type\": \"leaf\", \"id\": 68, \"cluster_id\": null, \"edgecolor\": \"#ff7f0e\", \"label\": \"\", \"hovertext\": {\"foo\": 1, \"bar\": 2}, \"fillcolor\": \"#ff7f0e\", \"radius\": 4.0, \"labelsize\": 10.0, \"labelcolor\": \"fff\"}, {\"x\": 25.0, \"y\": 0.0, \"type\": \"leaf\", \"id\": 20, \"cluster_id\": null, \"edgecolor\": \"#ff7f0e\", \"label\": \"\", \"hovertext\": {\"foo\": 1, \"bar\": 2}, \"fillcolor\": \"#ff7f0e\", \"radius\": 4.0, \"labelsize\": 10.0, \"labelcolor\": \"fff\"}, {\"x\": 35.0, \"y\": 0.0, \"type\": \"leaf\", \"id\": 71, \"cluster_id\": null, \"edgecolor\": \"#ff7f0e\", \"label\": \"\", \"hovertext\": {\"foo\": 1, \"bar\": 2}, \"fillcolor\": \"#ff7f0e\", \"radius\": 4.0, \"labelsize\": 10.0, \"labelcolor\": \"fff\"}, {\"x\": 45.0, \"y\": 0.0, \"type\": \"leaf\", \"id\": 124, \"cluster_id\": null, \"edgecolor\": \"#ff7f0e\", \"label\": \"\", \"hovertext\": {\"foo\": 1, \"bar\": 2}, \"fillcolor\": \"#ff7f0e\", \"radius\": 4.0, \"labelsize\": 10.0, \"labelcolor\": \"fff\"}, {\"x\": 55.0, \"y\": 0.0, \"type\": \"leaf\", \"id\": 3, \"cluster_id\": null, \"edgecolor\": \"#ff7f0e\", \"label\": \"\", \"hovertext\": {\"foo\": 1, \"bar\": 2}, \"fillcolor\": \"#ff7f0e\", \"radius\": 4.0, \"labelsize\": 10.0, \"labelcolor\": \"fff\"}, {\"x\": 65.0, \"y\": 0.0, \"type\": \"leaf\", \"id\": 39, \"cluster_id\": null, \"edgecolor\": \"#ff7f0e\", \"label\": \"\", \"hovertext\": {\"foo\": 1, \"bar\": 2}, \"fillcolor\": \"#ff7f0e\", \"radius\": 4.0, \"labelsize\": 10.0, \"labelcolor\": \"fff\"}, {\"x\": 75.0, \"y\": 0.0, \"type\": \"leaf\", \"id\": 157, \"cluster_id\": null, \"edgecolor\": \"#ff7f0e\", \"label\": \"\", \"hovertext\": {\"foo\": 1, \"bar\": 2}, \"fillcolor\": \"#ff7f0e\", \"radius\": 4.0, \"labelsize\": 10.0, \"labelcolor\": \"fff\"}, {\"x\": 85.0, \"y\": 0.0, \"type\": \"leaf\", \"id\": 174, \"cluster_id\": null, \"edgecolor\": \"#ff7f0e\", \"label\": \"\", \"hovertext\": {\"foo\": 1, \"bar\": 2}, \"fillcolor\": \"#ff7f0e\", \"radius\": 4.0, \"labelsize\": 10.0, \"labelcolor\": \"fff\"}, {\"x\": 95.0, \"y\": 0.0, \"type\": \"leaf\", \"id\": 77, \"cluster_id\": null, \"edgecolor\": \"#ff7f0e\", \"label\": \"\", \"hovertext\": {\"foo\": 1, \"bar\": 2}, \"fillcolor\": \"#ff7f0e\", \"radius\": 4.0, \"labelsize\": 10.0, \"labelcolor\": \"fff\"}, {\"x\": 105.0, \"y\": 0.0, \"type\": \"leaf\", \"id\": 60, \"cluster_id\": null, \"edgecolor\": \"#ff7f0e\", \"label\": \"\", \"hovertext\": {\"foo\": 1, \"bar\": 2}, \"fillcolor\": \"#ff7f0e\", \"radius\": 4.0, \"labelsize\": 10.0, \"labelcolor\": \"fff\"}, {\"x\": 115.0, \"y\": 0.0, \"type\": \"leaf\", \"id\": 171, \"cluster_id\": null, \"edgecolor\": \"#ff7f0e\", \"label\": \"\", \"hovertext\": {\"foo\": 1, \"bar\": 2}, \"fillcolor\": \"#ff7f0e\", \"radius\": 4.0, \"labelsize\": 10.0, \"labelcolor\": \"fff\"}, {\"x\": 125.0, \"y\": 0.0, \"type\": \"leaf\", \"id\": 58, \"cluster_id\": null, \"edgecolor\": \"#2ca02c\", \"label\": \"\", \"hovertext\": {\"foo\": 1, \"bar\": 2}, \"fillcolor\": \"#2ca02c\", \"radius\": 4.0, \"labelsize\": 10.0, \"labelcolor\": \"fff\"}, {\"x\": 135.0, \"y\": 0.0, \"type\": \"leaf\", \"id\": 50, \"cluster_id\": null, \"edgecolor\": \"#2ca02c\", \"label\": \"\", \"hovertext\": {\"foo\": 1, \"bar\": 2}, \"fillcolor\": \"#2ca02c\", \"radius\": 4.0, \"labelsize\": 10.0, \"labelcolor\": \"fff\"}, {\"x\": 145.0, \"y\": 0.0, \"type\": \"leaf\", \"id\": 150, \"cluster_id\": null, \"edgecolor\": \"#2ca02c\", \"label\": \"\", \"hovertext\": {\"foo\": 1, \"bar\": 2}, \"fillcolor\": \"#2ca02c\", \"radius\": 4.0, \"labelsize\": 10.0, \"labelcolor\": \"fff\"}, {\"x\": 155.0, \"y\": 0.0, \"type\": \"leaf\", \"id\": 52, \"cluster_id\": null, \"edgecolor\": \"#2ca02c\", \"label\": \"\", \"hovertext\": {\"foo\": 1, \"bar\": 2}, \"fillcolor\": \"#2ca02c\", \"radius\": 4.0, \"labelsize\": 10.0, \"labelcolor\": \"fff\"}, {\"x\": 165.0, \"y\": 0.0, \"type\": \"leaf\", \"id\": 145, \"cluster_id\": null, \"edgecolor\": \"#2ca02c\", \"label\": \"\", \"hovertext\": {\"foo\": 1, \"bar\": 2}, \"fillcolor\": \"#2ca02c\", \"radius\": 4.0, \"labelsize\": 10.0, \"labelcolor\": \"fff\"}, {\"x\": 175.0, \"y\": 0.0, \"type\": \"leaf\", \"id\": 90, \"cluster_id\": null, \"edgecolor\": \"#2ca02c\", \"label\": \"\", \"hovertext\": {\"foo\": 1, \"bar\": 2}, \"fillcolor\": \"#2ca02c\", \"radius\": 4.0, \"labelsize\": 10.0, \"labelcolor\": \"fff\"}, {\"x\": 185.0, \"y\": 0.0, \"type\": \"leaf\", \"id\": 118, \"cluster_id\": null, \"edgecolor\": \"#2ca02c\", \"label\": \"\", \"hovertext\": {\"foo\": 1, \"bar\": 2}, \"fillcolor\": \"#2ca02c\", \"radius\": 4.0, \"labelsize\": 10.0, \"labelcolor\": \"fff\"}, {\"x\": 195.0, \"y\": 0.0, \"type\": \"leaf\", \"id\": 18, \"cluster_id\": null, \"edgecolor\": \"#2ca02c\", \"label\": \"\", \"hovertext\": {\"foo\": 1, \"bar\": 2}, \"fillcolor\": \"#2ca02c\", \"radius\": 4.0, \"labelsize\": 10.0, \"labelcolor\": \"fff\"}, {\"x\": 205.0, \"y\": 0.0, \"type\": \"leaf\", \"id\": 113, \"cluster_id\": null, \"edgecolor\": \"#2ca02c\", \"label\": \"\", \"hovertext\": {\"foo\": 1, \"bar\": 2}, \"fillcolor\": \"#2ca02c\", \"radius\": 4.0, \"labelsize\": 10.0, \"labelcolor\": \"fff\"}, {\"x\": 215.0, \"y\": 0.0, \"type\": \"leaf\", \"id\": 67, \"cluster_id\": null, \"edgecolor\": \"#2ca02c\", \"label\": \"\", \"hovertext\": {\"foo\": 1, \"bar\": 2}, \"fillcolor\": \"#2ca02c\", \"radius\": 4.0, \"labelsize\": 10.0, \"labelcolor\": \"fff\"}, {\"x\": 225.0, \"y\": 0.0, \"type\": \"leaf\", \"id\": 187, \"cluster_id\": null, \"edgecolor\": \"#2ca02c\", \"label\": \"\", \"hovertext\": {\"foo\": 1, \"bar\": 2}, \"fillcolor\": \"#2ca02c\", \"radius\": 4.0, \"labelsize\": 10.0, \"labelcolor\": \"fff\"}, {\"x\": 235.0, \"y\": 0.0, \"type\": \"leaf\", \"id\": 9, \"cluster_id\": null, \"edgecolor\": \"#2ca02c\", \"label\": \"\", \"hovertext\": {\"foo\": 1, \"bar\": 2}, \"fillcolor\": \"#2ca02c\", \"radius\": 4.0, \"labelsize\": 10.0, \"labelcolor\": \"fff\"}, {\"x\": 245.0, \"y\": 0.0, \"type\": \"leaf\", \"id\": 69, \"cluster_id\": null, \"edgecolor\": \"#2ca02c\", \"label\": \"\", \"hovertext\": {\"foo\": 1, \"bar\": 2}, \"fillcolor\": \"#2ca02c\", \"radius\": 4.0, \"labelsize\": 10.0, \"labelcolor\": \"fff\"}, {\"x\": 255.0, \"y\": 0.0, \"type\": \"leaf\", \"id\": 24, \"cluster_id\": null, \"edgecolor\": \"#2ca02c\", \"label\": \"\", \"hovertext\": {\"foo\": 1, \"bar\": 2}, \"fillcolor\": \"#2ca02c\", \"radius\": 4.0, \"labelsize\": 10.0, \"labelcolor\": \"fff\"}, {\"x\": 265.0, \"y\": 0.0, \"type\": \"leaf\", \"id\": 181, \"cluster_id\": null, \"edgecolor\": \"#2ca02c\", \"label\": \"\", \"hovertext\": {\"foo\": 1, \"bar\": 2}, \"fillcolor\": \"#2ca02c\", \"radius\": 4.0, \"labelsize\": 10.0, \"labelcolor\": \"fff\"}, {\"x\": 10.0, \"y\": 48.917474793394035, \"type\": \"cluster\", \"id\": 161, \"cluster_id\": 1.0, \"edgecolor\": \"#ff7f0e\", \"label\": \"\", \"hovertext\": {\"foo\": 1, \"bar\": 2}, \"fillcolor\": \"#ff7f0e\", \"radius\": 7.0, \"labelsize\": 10.0, \"labelcolor\": \"fff\"}, {\"x\": 40.0, \"y\": 48.80866682587825, \"type\": \"subcluster\", \"id\": 159, \"cluster_id\": null, \"edgecolor\": \"#ff7f0e\", \"label\": \"\", \"hovertext\": {\"foo\": 1, \"bar\": 2}, \"fillcolor\": \"fff\", \"radius\": 7.0, \"labelsize\": 10.0, \"labelcolor\": \"fff\"}, {\"x\": 32.5, \"y\": 53.299791833714245, \"type\": \"cluster\", \"id\": 182, \"cluster_id\": 2.0, \"edgecolor\": \"#ff7f0e\", \"label\": \"\", \"hovertext\": {\"foo\": 1, \"bar\": 2}, \"fillcolor\": \"#ff7f0e\", \"radius\": 7.0, \"labelsize\": 10.0, \"labelcolor\": \"fff\"}, {\"x\": 21.25, \"y\": 77.35316507275142, \"type\": \"supercluster\", \"id\": 194, \"cluster_id\": null, \"edgecolor\": \"#ff7f0e\", \"label\": \"\", \"hovertext\": {\"foo\": 1, \"bar\": 2}, \"fillcolor\": \"#ff7f0e\", \"radius\": 7.0, \"labelsize\": 10.0, \"labelcolor\": \"fff\"}, {\"x\": 60.0, \"y\": 52.41581927520318, \"type\": \"subcluster\", \"id\": 177, \"cluster_id\": null, \"edgecolor\": \"#ff7f0e\", \"label\": \"\", \"hovertext\": {\"foo\": 1, \"bar\": 2}, \"fillcolor\": \"fff\", \"radius\": 7.0, \"labelsize\": 10.0, \"labelcolor\": \"fff\"}, {\"x\": 80.0, \"y\": 52.97481103956573, \"type\": \"subcluster\", \"id\": 180, \"cluster_id\": null, \"edgecolor\": \"#ff7f0e\", \"label\": \"\", \"hovertext\": {\"foo\": 1, \"bar\": 2}, \"fillcolor\": \"fff\", \"radius\": 7.0, \"labelsize\": 10.0, \"labelcolor\": \"fff\"}, {\"x\": 70.0, \"y\": 53.759713706828, \"type\": \"cluster\", \"id\": 185, \"cluster_id\": 3.0, \"edgecolor\": \"#ff7f0e\", \"label\": \"\", \"hovertext\": {\"foo\": 1, \"bar\": 2}, \"fillcolor\": \"#ff7f0e\", \"radius\": 7.0, \"labelsize\": 10.0, \"labelcolor\": \"fff\"}, {\"x\": 110.0, \"y\": 53.83196893882111, \"type\": \"subcluster\", \"id\": 186, \"cluster_id\": null, \"edgecolor\": \"#ff7f0e\", \"label\": \"\", \"hovertext\": {\"foo\": 1, \"bar\": 2}, \"fillcolor\": \"fff\", \"radius\": 7.0, \"labelsize\": 10.0, \"labelcolor\": \"fff\"}, {\"x\": 102.5, \"y\": 59.13407865049273, \"type\": \"cluster\", \"id\": 192, \"cluster_id\": 4.0, \"edgecolor\": \"#ff7f0e\", \"label\": \"\", \"hovertext\": {\"foo\": 1, \"bar\": 2}, \"fillcolor\": \"#ff7f0e\", \"radius\": 7.0, \"labelsize\": 10.0, \"labelcolor\": \"fff\"}, {\"x\": 86.25, \"y\": 82.53370970584, \"type\": \"supercluster\", \"id\": 195, \"cluster_id\": null, \"edgecolor\": \"#ff7f0e\", \"label\": \"\", \"hovertext\": {\"foo\": 1, \"bar\": 2}, \"fillcolor\": \"#ff7f0e\", \"radius\": 7.0, \"labelsize\": 10.0, \"labelcolor\": \"fff\"}, {\"x\": 53.75, \"y\": 93.05467284204461, \"type\": \"supercluster\", \"id\": 196, \"cluster_id\": null, \"edgecolor\": \"#ff7f0e\", \"label\": \"\", \"hovertext\": {\"foo\": 1, \"bar\": 2}, \"fillcolor\": \"#ff7f0e\", \"radius\": 7.0, \"labelsize\": 10.0, \"labelcolor\": \"fff\"}, {\"x\": 140.0, \"y\": 48.752819203410326, \"type\": \"subcluster\", \"id\": 158, \"cluster_id\": null, \"edgecolor\": \"#2ca02c\", \"label\": \"\", \"hovertext\": {\"foo\": 1, \"bar\": 2}, \"fillcolor\": \"fff\", \"radius\": 7.0, \"labelsize\": 10.0, \"labelcolor\": \"fff\"}, {\"x\": 132.5, \"y\": 51.81033304869588, \"type\": \"subcluster\", \"id\": 176, \"cluster_id\": null, \"edgecolor\": \"#2ca02c\", \"label\": \"\", \"hovertext\": {\"foo\": 1, \"bar\": 2}, \"fillcolor\": \"fff\", \"radius\": 7.0, \"labelsize\": 10.0, \"labelcolor\": \"fff\"}, {\"x\": 160.0, \"y\": 49.02986650445658, \"type\": \"subcluster\", \"id\": 164, \"cluster_id\": null, \"edgecolor\": \"#2ca02c\", \"label\": \"\", \"hovertext\": {\"foo\": 1, \"bar\": 2}, \"fillcolor\": \"fff\", \"radius\": 7.0, \"labelsize\": 10.0, \"labelcolor\": \"fff\"}, {\"x\": 180.0, \"y\": 49.46360949137839, \"type\": \"subcluster\", \"id\": 165, \"cluster_id\": null, \"edgecolor\": \"#2ca02c\", \"label\": \"\", \"hovertext\": {\"foo\": 1, \"bar\": 2}, \"fillcolor\": \"fff\", \"radius\": 7.0, \"labelsize\": 10.0, \"labelcolor\": \"fff\"}, {\"x\": 170.0, \"y\": 53.34220906767658, \"type\": \"subcluster\", \"id\": 183, \"cluster_id\": null, \"edgecolor\": \"#2ca02c\", \"label\": \"\", \"hovertext\": {\"foo\": 1, \"bar\": 2}, \"fillcolor\": \"fff\", \"radius\": 7.0, \"labelsize\": 10.0, \"labelcolor\": \"fff\"}, {\"x\": 151.25, \"y\": 54.73273184728699, \"type\": \"cluster\", \"id\": 188, \"cluster_id\": 5.0, \"edgecolor\": \"#2ca02c\", \"label\": \"\", \"hovertext\": {\"foo\": 1, \"bar\": 2}, \"fillcolor\": \"#2ca02c\", \"radius\": 7.0, \"labelsize\": 10.0, \"labelcolor\": \"fff\"}, {\"x\": 200.0, \"y\": 48.928268781492136, \"type\": \"subcluster\", \"id\": 162, \"cluster_id\": null, \"edgecolor\": \"#2ca02c\", \"label\": \"\", \"hovertext\": {\"foo\": 1, \"bar\": 2}, \"fillcolor\": \"fff\", \"radius\": 7.0, \"labelsize\": 10.0, \"labelcolor\": \"fff\"}, {\"x\": 220.0, \"y\": 54.81711563263866, \"type\": \"subcluster\", \"id\": 189, \"cluster_id\": null, \"edgecolor\": \"#2ca02c\", \"label\": \"\", \"hovertext\": {\"foo\": 1, \"bar\": 2}, \"fillcolor\": \"fff\", \"radius\": 7.0, \"labelsize\": 10.0, \"labelcolor\": \"fff\"}, {\"x\": 210.0, \"y\": 55.588291766637255, \"type\": \"cluster\", \"id\": 190, \"cluster_id\": 6.0, \"edgecolor\": \"#2ca02c\", \"label\": \"\", \"hovertext\": {\"foo\": 1, \"bar\": 2}, \"fillcolor\": \"#2ca02c\", \"radius\": 7.0, \"labelsize\": 10.0, \"labelcolor\": \"fff\"}, {\"x\": 240.0, \"y\": 52.49993084742456, \"type\": \"subcluster\", \"id\": 178, \"cluster_id\": null, \"edgecolor\": \"#2ca02c\", \"label\": \"\", \"hovertext\": {\"foo\": 1, \"bar\": 2}, \"fillcolor\": \"fff\", \"radius\": 7.0, \"labelsize\": 10.0, \"labelcolor\": \"fff\"}, {\"x\": 260.0, \"y\": 53.430020184695934, \"type\": \"subcluster\", \"id\": 184, \"cluster_id\": null, \"edgecolor\": \"#2ca02c\", \"label\": \"\", \"hovertext\": {\"foo\": 1, \"bar\": 2}, \"fillcolor\": \"fff\", \"radius\": 7.0, \"labelsize\": 10.0, \"labelcolor\": \"fff\"}, {\"x\": 250.0, \"y\": 55.85024332736424, \"type\": \"cluster\", \"id\": 191, \"cluster_id\": 7.0, \"edgecolor\": \"#2ca02c\", \"label\": \"\", \"hovertext\": {\"foo\": 1, \"bar\": 2}, \"fillcolor\": \"#2ca02c\", \"radius\": 7.0, \"labelsize\": 10.0, \"labelcolor\": \"fff\"}, {\"x\": 230.0, \"y\": 73.64360090526921, \"type\": \"supercluster\", \"id\": 193, \"cluster_id\": null, \"edgecolor\": \"#2ca02c\", \"label\": \"\", \"hovertext\": {\"foo\": 1, \"bar\": 2}, \"fillcolor\": \"#2ca02c\", \"radius\": 7.0, \"labelsize\": 10.0, \"labelcolor\": \"fff\"}, {\"x\": 190.625, \"y\": 189.91952617609135, \"type\": \"supercluster\", \"id\": 197, \"cluster_id\": null, \"edgecolor\": \"#2ca02c\", \"label\": \"\", \"hovertext\": {\"foo\": 1, \"bar\": 2}, \"fillcolor\": \"#2ca02c\", \"radius\": 7.0, \"labelsize\": 10.0, \"labelcolor\": \"fff\"}, {\"x\": 122.1875, \"y\": 1456.796403249361, \"type\": \"supercluster\", \"id\": 198, \"cluster_id\": null, \"edgecolor\": \"#1f77b4\", \"label\": \"\", \"hovertext\": {\"foo\": 1, \"bar\": 2}, \"fillcolor\": \"#1f77b4\", \"radius\": 7.0, \"labelsize\": 10.0, \"labelcolor\": \"fff\"}]}}, {\"mode\": \"vega-lite\"});\n",
       "</script>"
      ],
      "text/plain": [
       "alt.LayerChart(...)"
      ]
     },
     "execution_count": 36,
     "metadata": {},
     "output_type": "execute_result"
    }
   ],
   "source": [
    "dendrogram = dd.create_dendrogram(compute_nodes=True, node_hover_func=lambda x,y: {'foo': 1, \"bar\": 2})\n",
    "dendrogram.to_altair()\n",
    "\n"
   ]
  },
  {
   "cell_type": "code",
   "execution_count": 12,
   "metadata": {},
   "outputs": [
    {
     "data": {
      "text/plain": [
       "ClusterNode(x=5.0, y=0, type='leaf', id=66, cluster_id=None, edgecolor='#ff7f0e', label='', hovertext={}, fillcolor='#ff7f0e', radius=4.0, labelsize=10.0, labelcolor='fff')"
      ]
     },
     "execution_count": 12,
     "metadata": {},
     "output_type": "execute_result"
    }
   ],
   "source": [
    "import json\n",
    "from dataclasses import asdict\n",
    "dendrogram.nodes[0]"
   ]
  },
  {
   "cell_type": "code",
   "execution_count": 8,
   "metadata": {},
   "outputs": [
    {
     "data": {
      "text/html": [
       "<div>\n",
       "<style scoped>\n",
       "    .dataframe tbody tr th:only-of-type {\n",
       "        vertical-align: middle;\n",
       "    }\n",
       "\n",
       "    .dataframe tbody tr th {\n",
       "        vertical-align: top;\n",
       "    }\n",
       "\n",
       "    .dataframe thead th {\n",
       "        text-align: right;\n",
       "    }\n",
       "</style>\n",
       "<table border=\"1\" class=\"dataframe\">\n",
       "  <thead>\n",
       "    <tr style=\"text-align: right;\">\n",
       "      <th></th>\n",
       "      <th>index</th>\n",
       "      <th>x</th>\n",
       "      <th>y</th>\n",
       "      <th>fillcolor</th>\n",
       "      <th>id</th>\n",
       "      <th>children_id</th>\n",
       "      <th>cluster_id</th>\n",
       "      <th>strokewidth</th>\n",
       "      <th>strokedash</th>\n",
       "      <th>strokeopacity</th>\n",
       "      <th>_order_helper</th>\n",
       "    </tr>\n",
       "  </thead>\n",
       "  <tbody>\n",
       "    <tr>\n",
       "      <th>0</th>\n",
       "      <td>0</td>\n",
       "      <td>5.0</td>\n",
       "      <td>0.0</td>\n",
       "      <td>#ff7f0e</td>\n",
       "      <td>161</td>\n",
       "      <td>(66, 68)</td>\n",
       "      <td>1.0</td>\n",
       "      <td>0.5</td>\n",
       "      <td>[1, 1]</td>\n",
       "      <td>1.0</td>\n",
       "      <td>[0, 1, 2, 3]</td>\n",
       "    </tr>\n",
       "    <tr>\n",
       "      <th>1</th>\n",
       "      <td>0</td>\n",
       "      <td>5.0</td>\n",
       "      <td>48.917475</td>\n",
       "      <td>#ff7f0e</td>\n",
       "      <td>161</td>\n",
       "      <td>(66, 68)</td>\n",
       "      <td>1.0</td>\n",
       "      <td>0.5</td>\n",
       "      <td>[1, 1]</td>\n",
       "      <td>1.0</td>\n",
       "      <td>[0, 1, 2, 3]</td>\n",
       "    </tr>\n",
       "    <tr>\n",
       "      <th>2</th>\n",
       "      <td>0</td>\n",
       "      <td>15.0</td>\n",
       "      <td>48.917475</td>\n",
       "      <td>#ff7f0e</td>\n",
       "      <td>161</td>\n",
       "      <td>(66, 68)</td>\n",
       "      <td>1.0</td>\n",
       "      <td>0.5</td>\n",
       "      <td>[1, 1]</td>\n",
       "      <td>1.0</td>\n",
       "      <td>[0, 1, 2, 3]</td>\n",
       "    </tr>\n",
       "    <tr>\n",
       "      <th>3</th>\n",
       "      <td>0</td>\n",
       "      <td>15.0</td>\n",
       "      <td>0.0</td>\n",
       "      <td>#ff7f0e</td>\n",
       "      <td>161</td>\n",
       "      <td>(66, 68)</td>\n",
       "      <td>1.0</td>\n",
       "      <td>0.5</td>\n",
       "      <td>[1, 1]</td>\n",
       "      <td>1.0</td>\n",
       "      <td>[0, 1, 2, 3]</td>\n",
       "    </tr>\n",
       "    <tr>\n",
       "      <th>4</th>\n",
       "      <td>1</td>\n",
       "      <td>35.0</td>\n",
       "      <td>0.0</td>\n",
       "      <td>#ff7f0e</td>\n",
       "      <td>159</td>\n",
       "      <td>(71, 124)</td>\n",
       "      <td>NaN</td>\n",
       "      <td>0.5</td>\n",
       "      <td>[1, 1]</td>\n",
       "      <td>1.0</td>\n",
       "      <td>[0, 1, 2, 3]</td>\n",
       "    </tr>\n",
       "    <tr>\n",
       "      <th>...</th>\n",
       "      <td>...</td>\n",
       "      <td>...</td>\n",
       "      <td>...</td>\n",
       "      <td>...</td>\n",
       "      <td>...</td>\n",
       "      <td>...</td>\n",
       "      <td>...</td>\n",
       "      <td>...</td>\n",
       "      <td>...</td>\n",
       "      <td>...</td>\n",
       "      <td>...</td>\n",
       "    </tr>\n",
       "    <tr>\n",
       "      <th>99</th>\n",
       "      <td>24</td>\n",
       "      <td>230.0</td>\n",
       "      <td>73.643601</td>\n",
       "      <td>#2ca02c</td>\n",
       "      <td>197</td>\n",
       "      <td>(188, 193)</td>\n",
       "      <td>NaN</td>\n",
       "      <td>0.5</td>\n",
       "      <td>[1, 1]</td>\n",
       "      <td>1.0</td>\n",
       "      <td>[0, 1, 2, 3]</td>\n",
       "    </tr>\n",
       "    <tr>\n",
       "      <th>100</th>\n",
       "      <td>25</td>\n",
       "      <td>53.75</td>\n",
       "      <td>93.054673</td>\n",
       "      <td>#1f77b4</td>\n",
       "      <td>198</td>\n",
       "      <td>(196, 197)</td>\n",
       "      <td>NaN</td>\n",
       "      <td>0.5</td>\n",
       "      <td>[1, 1]</td>\n",
       "      <td>1.0</td>\n",
       "      <td>[0, 1, 2, 3]</td>\n",
       "    </tr>\n",
       "    <tr>\n",
       "      <th>101</th>\n",
       "      <td>25</td>\n",
       "      <td>53.75</td>\n",
       "      <td>1456.796403</td>\n",
       "      <td>#1f77b4</td>\n",
       "      <td>198</td>\n",
       "      <td>(196, 197)</td>\n",
       "      <td>NaN</td>\n",
       "      <td>0.5</td>\n",
       "      <td>[1, 1]</td>\n",
       "      <td>1.0</td>\n",
       "      <td>[0, 1, 2, 3]</td>\n",
       "    </tr>\n",
       "    <tr>\n",
       "      <th>102</th>\n",
       "      <td>25</td>\n",
       "      <td>190.625</td>\n",
       "      <td>1456.796403</td>\n",
       "      <td>#1f77b4</td>\n",
       "      <td>198</td>\n",
       "      <td>(196, 197)</td>\n",
       "      <td>NaN</td>\n",
       "      <td>0.5</td>\n",
       "      <td>[1, 1]</td>\n",
       "      <td>1.0</td>\n",
       "      <td>[0, 1, 2, 3]</td>\n",
       "    </tr>\n",
       "    <tr>\n",
       "      <th>103</th>\n",
       "      <td>25</td>\n",
       "      <td>190.625</td>\n",
       "      <td>189.919526</td>\n",
       "      <td>#1f77b4</td>\n",
       "      <td>198</td>\n",
       "      <td>(196, 197)</td>\n",
       "      <td>NaN</td>\n",
       "      <td>0.5</td>\n",
       "      <td>[1, 1]</td>\n",
       "      <td>1.0</td>\n",
       "      <td>[0, 1, 2, 3]</td>\n",
       "    </tr>\n",
       "  </tbody>\n",
       "</table>\n",
       "<p>104 rows × 11 columns</p>\n",
       "</div>"
      ],
      "text/plain": [
       "     index        x            y fillcolor   id children_id  cluster_id  \\\n",
       "0        0      5.0          0.0   #ff7f0e  161    (66, 68)         1.0   \n",
       "1        0      5.0    48.917475   #ff7f0e  161    (66, 68)         1.0   \n",
       "2        0     15.0    48.917475   #ff7f0e  161    (66, 68)         1.0   \n",
       "3        0     15.0          0.0   #ff7f0e  161    (66, 68)         1.0   \n",
       "4        1     35.0          0.0   #ff7f0e  159   (71, 124)         NaN   \n",
       "..     ...      ...          ...       ...  ...         ...         ...   \n",
       "99      24    230.0    73.643601   #2ca02c  197  (188, 193)         NaN   \n",
       "100     25    53.75    93.054673   #1f77b4  198  (196, 197)         NaN   \n",
       "101     25    53.75  1456.796403   #1f77b4  198  (196, 197)         NaN   \n",
       "102     25  190.625  1456.796403   #1f77b4  198  (196, 197)         NaN   \n",
       "103     25  190.625   189.919526   #1f77b4  198  (196, 197)         NaN   \n",
       "\n",
       "     strokewidth strokedash  strokeopacity _order_helper  \n",
       "0            0.5     [1, 1]            1.0  [0, 1, 2, 3]  \n",
       "1            0.5     [1, 1]            1.0  [0, 1, 2, 3]  \n",
       "2            0.5     [1, 1]            1.0  [0, 1, 2, 3]  \n",
       "3            0.5     [1, 1]            1.0  [0, 1, 2, 3]  \n",
       "4            0.5     [1, 1]            1.0  [0, 1, 2, 3]  \n",
       "..           ...        ...            ...           ...  \n",
       "99           0.5     [1, 1]            1.0  [0, 1, 2, 3]  \n",
       "100          0.5     [1, 1]            1.0  [0, 1, 2, 3]  \n",
       "101          0.5     [1, 1]            1.0  [0, 1, 2, 3]  \n",
       "102          0.5     [1, 1]            1.0  [0, 1, 2, 3]  \n",
       "103          0.5     [1, 1]            1.0  [0, 1, 2, 3]  \n",
       "\n",
       "[104 rows x 11 columns]"
      ]
     },
     "execution_count": 8,
     "metadata": {},
     "output_type": "execute_result"
    }
   ],
   "source": [
    "import pandas as pd\n",
    "from dataclasses import asdict\n",
    "a = [asdict(x) for x in dendrogram.links]\n",
    "pd.DataFrame(a).explode([\"x\", \"y\"]).reset_index()"
   ]
  },
  {
   "cell_type": "code",
   "execution_count": null,
   "metadata": {},
   "outputs": [],
   "source": []
  }
 ],
 "metadata": {
  "kernelspec": {
   "display_name": "Python 3.10.6 ('idendro')",
   "language": "python",
   "name": "python3"
  },
  "language_info": {
   "codemirror_mode": {
    "name": "ipython",
    "version": 3
   },
   "file_extension": ".py",
   "mimetype": "text/x-python",
   "name": "python",
   "nbconvert_exporter": "python",
   "pygments_lexer": "ipython3",
   "version": "3.10.6"
  },
  "orig_nbformat": 4,
  "vscode": {
   "interpreter": {
    "hash": "c65e684e66d07d621a56d60ea18d00083a3aa685fb3125bee996e4f969a9bef8"
   }
  }
 },
 "nbformat": 4,
 "nbformat_minor": 2
}
