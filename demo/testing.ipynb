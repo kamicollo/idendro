{
 "cells": [
  {
   "cell_type": "code",
   "execution_count": 2,
   "metadata": {},
   "outputs": [],
   "source": [
    "import sys\n",
    "from pathlib import Path\n",
    "path = Path(\"./\").absolute().parent\n",
    "sys.path.insert(1, str(path))"
   ]
  },
  {
   "cell_type": "code",
   "execution_count": 3,
   "metadata": {},
   "outputs": [],
   "source": [
    "from demo_func import DemoData\n",
    "import numpy as np\n",
    "import scipy.cluster.hierarchy as sch\n",
    "\n",
    "signals_to_generate = 100\n",
    "network_cluster_count = 12\n",
    "x_plot_labels = np.linspace(1, 1000, 1000)\n",
    "\n",
    "demo = DemoData(no_signals=signals_to_generate, seed=833142, no_network_clusters = network_cluster_count)\n",
    "signals = demo.generate_raw_data()\n",
    "\n",
    "impairments = {\n",
    "            \"Suckout\" : (20, \"green\", np.arange(300,370), 0.5 * (np.abs(np.arange(-35, 35)) - 35)),\n",
    "            \"Wave\" : (12, \"orange\", np.arange(580,700), 3*np.sin(np.arange(120)/5)),\n",
    "        }\n",
    "\n",
    "tilt_x = np.arange(1000)\n",
    "tilt_y = np.zeros(1000,)\n",
    "tilt_y[demo.ideal_signal > 0] = -tilt_x[demo.ideal_signal > 0] * 0.02\n",
    "impairments[\"Tilt\"] = (19, \"red\", tilt_x, tilt_y)\n",
    "\n",
    "graph, impaired_signals, network_clusters = demo.generate_impaired_graph(impairments=impairments)\n",
    "sparse_matrix = demo.get_sparse_wavelet_matrix(impaired_signals)\n",
    "dists = demo.get_adjacency_matrix(sparse_matrix)"
   ]
  },
  {
   "cell_type": "code",
   "execution_count": 4,
   "metadata": {},
   "outputs": [],
   "source": [
    "model = sch.linkage(dists, method='average')\n",
    "threshold = 70\n",
    "cluster_assignments = sch.fcluster(model, threshold, criterion='distance')"
   ]
  },
  {
   "cell_type": "code",
   "execution_count": 22,
   "metadata": {},
   "outputs": [
    {
     "data": {
      "text/plain": [
       "{'C0': '#1f77b4',\n",
       " 'C1': '#ff7f0e',\n",
       " 'C2': '#2ca02c',\n",
       " 'C3': '#d62728',\n",
       " 'C4': '#9467bd',\n",
       " 'C5': '#8c564b',\n",
       " 'C6': '#e377c2',\n",
       " 'C7': '#7f7f7f',\n",
       " 'C8': '#bcbd22',\n",
       " 'C9': '#17becf'}"
      ]
     },
     "execution_count": 22,
     "metadata": {},
     "output_type": "execute_result"
    }
   ],
   "source": [
    "L, M = sch.leaders(model, cluster_assignments)\n",
    "M[L == 161]\n",
    "from matplotlib.colors import to_hex\n",
    "{'C' + str(x): to_hex('C' + str(x)) for x in range(10)}"
   ]
  },
  {
   "cell_type": "code",
   "execution_count": 42,
   "metadata": {},
   "outputs": [],
   "source": [
    "import importlib as imp\n",
    "import src.base_dendro as b\n",
    "import src.cluster_info as c\n",
    "imp.reload(b)\n",
    "imp.reload(c)\n",
    "\n",
    "cdata = c.ClusteringData(linkage_matrix=model, cluster_assignments=cluster_assignments, threshold=threshold)\n",
    "dd = b.BaseDendro()\n",
    "dd.set_cluster_info(cdata)"
   ]
  },
  {
   "cell_type": "code",
   "execution_count": 44,
   "metadata": {},
   "outputs": [
    {
     "data": {
      "text/plain": [
       "Dendrogram(axis_labels=[AxisLabel(x=5.0, label='66', labelsize=8.0), AxisLabel(x=15.0, label='68', labelsize=8.0), AxisLabel(x=25.0, label='20', labelsize=8.0), AxisLabel(x=35.0, label='71', labelsize=8.0), AxisLabel(x=45.0, label='(4)', labelsize=8.0), AxisLabel(x=55.0, label='3', labelsize=8.0), AxisLabel(x=65.0, label='39', labelsize=8.0), AxisLabel(x=75.0, label='(2)', labelsize=8.0), AxisLabel(x=85.0, label='(11)', labelsize=8.0), AxisLabel(x=95.0, label='77', labelsize=8.0), AxisLabel(x=105.0, label='60', labelsize=8.0), AxisLabel(x=115.0, label='(7)', labelsize=8.0), AxisLabel(x=125.0, label='58', labelsize=8.0), AxisLabel(x=135.0, label='50', labelsize=8.0), AxisLabel(x=145.0, label='(4)', labelsize=8.0), AxisLabel(x=155.0, label='52', labelsize=8.0), AxisLabel(x=165.0, label='(2)', labelsize=8.0), AxisLabel(x=175.0, label='90', labelsize=8.0), AxisLabel(x=185.0, label='(2)', labelsize=8.0), AxisLabel(x=195.0, label='18', labelsize=8.0), AxisLabel(x=205.0, label='(2)', labelsize=8.0), AxisLabel(x=215.0, label='67', labelsize=8.0), AxisLabel(x=225.0, label='(15)', labelsize=8.0), AxisLabel(x=235.0, label='9', labelsize=8.0), AxisLabel(x=245.0, label='69', labelsize=8.0), AxisLabel(x=255.0, label='24', labelsize=8.0), AxisLabel(x=265.0, label='(34)', labelsize=8.0)], links=[ClusterLink(x=array([ 5.,  5., 15., 15.]), y=array([ 0.        , 48.91747479, 48.91747479,  0.        ]), fillcolor='#ff7f0e', size=1.0), ClusterLink(x=array([35., 35., 45., 45.]), y=array([ 0.        , 48.80866683, 48.80866683,  0.        ]), fillcolor='#ff7f0e', size=1.0), ClusterLink(x=array([25., 25., 40., 40.]), y=array([ 0.        , 53.29979183, 53.29979183, 48.80866683]), fillcolor='#ff7f0e', size=1.0), ClusterLink(x=array([10. , 10. , 32.5, 32.5]), y=array([48.91747479, 77.35316507, 77.35316507, 53.29979183]), fillcolor='#ff7f0e', size=1.0), ClusterLink(x=array([55., 55., 65., 65.]), y=array([ 0.        , 52.41581928, 52.41581928,  0.        ]), fillcolor='#ff7f0e', size=1.0), ClusterLink(x=array([75., 75., 85., 85.]), y=array([ 0.        , 52.97481104, 52.97481104,  0.        ]), fillcolor='#ff7f0e', size=1.0), ClusterLink(x=array([60., 60., 80., 80.]), y=array([52.41581928, 53.75971371, 53.75971371, 52.97481104]), fillcolor='#ff7f0e', size=1.0), ClusterLink(x=array([105., 105., 115., 115.]), y=array([ 0.        , 53.83196894, 53.83196894,  0.        ]), fillcolor='#ff7f0e', size=1.0), ClusterLink(x=array([ 95.,  95., 110., 110.]), y=array([ 0.        , 59.13407865, 59.13407865, 53.83196894]), fillcolor='#ff7f0e', size=1.0), ClusterLink(x=array([ 70. ,  70. , 102.5, 102.5]), y=array([53.75971371, 82.53370971, 82.53370971, 59.13407865]), fillcolor='#ff7f0e', size=1.0), ClusterLink(x=array([21.25, 21.25, 86.25, 86.25]), y=array([77.35316507, 93.05467284, 93.05467284, 82.53370971]), fillcolor='#ff7f0e', size=1.0), ClusterLink(x=array([135., 135., 145., 145.]), y=array([ 0.       , 48.7528192, 48.7528192,  0.       ]), fillcolor='#2ca02c', size=1.0), ClusterLink(x=array([125., 125., 140., 140.]), y=array([ 0.        , 51.81033305, 51.81033305, 48.7528192 ]), fillcolor='#2ca02c', size=1.0), ClusterLink(x=array([155., 155., 165., 165.]), y=array([ 0.       , 49.0298665, 49.0298665,  0.       ]), fillcolor='#2ca02c', size=1.0), ClusterLink(x=array([175., 175., 185., 185.]), y=array([ 0.        , 49.46360949, 49.46360949,  0.        ]), fillcolor='#2ca02c', size=1.0), ClusterLink(x=array([160., 160., 180., 180.]), y=array([49.0298665 , 53.34220907, 53.34220907, 49.46360949]), fillcolor='#2ca02c', size=1.0), ClusterLink(x=array([132.5, 132.5, 170. , 170. ]), y=array([51.81033305, 54.73273185, 54.73273185, 53.34220907]), fillcolor='#2ca02c', size=1.0), ClusterLink(x=array([195., 195., 205., 205.]), y=array([ 0.        , 48.92826878, 48.92826878,  0.        ]), fillcolor='#2ca02c', size=1.0), ClusterLink(x=array([215., 215., 225., 225.]), y=array([ 0.        , 54.81711563, 54.81711563,  0.        ]), fillcolor='#2ca02c', size=1.0), ClusterLink(x=array([200., 200., 220., 220.]), y=array([48.92826878, 55.58829177, 55.58829177, 54.81711563]), fillcolor='#2ca02c', size=1.0), ClusterLink(x=array([235., 235., 245., 245.]), y=array([ 0.        , 52.49993085, 52.49993085,  0.        ]), fillcolor='#2ca02c', size=1.0), ClusterLink(x=array([255., 255., 265., 265.]), y=array([ 0.        , 53.43002018, 53.43002018,  0.        ]), fillcolor='#2ca02c', size=1.0), ClusterLink(x=array([240., 240., 260., 260.]), y=array([52.49993085, 55.85024333, 55.85024333, 53.43002018]), fillcolor='#2ca02c', size=1.0), ClusterLink(x=array([210., 210., 250., 250.]), y=array([55.58829177, 73.64360091, 73.64360091, 55.85024333]), fillcolor='#2ca02c', size=1.0), ClusterLink(x=array([151.25, 151.25, 230.  , 230.  ]), y=array([ 54.73273185, 189.91952618, 189.91952618,  73.64360091]), fillcolor='#2ca02c', size=1.0), ClusterLink(x=array([ 53.75 ,  53.75 , 190.625, 190.625]), y=array([  93.05467284, 1456.79640325, 1456.79640325,  189.91952618]), fillcolor='#1f77b4', size=1.0)], nodes=[ClusterNode(x=5.0, y=0, type='leaf', id=66, cluster_id=None, edgecolor='#ff7f0e', label='', hovertext={}, fillcolor='#ff7f0e', radius=4.0, labelsize=10.0, labelcolor='fff'), ClusterNode(x=15.0, y=0, type='leaf', id=68, cluster_id=None, edgecolor='#ff7f0e', label='', hovertext={}, fillcolor='#ff7f0e', radius=4.0, labelsize=10.0, labelcolor='fff'), ClusterNode(x=25.0, y=0, type='leaf', id=20, cluster_id=None, edgecolor='#ff7f0e', label='', hovertext={}, fillcolor='#ff7f0e', radius=4.0, labelsize=10.0, labelcolor='fff'), ClusterNode(x=35.0, y=0, type='leaf', id=71, cluster_id=None, edgecolor='#ff7f0e', label='', hovertext={}, fillcolor='#ff7f0e', radius=4.0, labelsize=10.0, labelcolor='fff'), ClusterNode(x=45.0, y=0, type='leaf', id=124, cluster_id=None, edgecolor='#ff7f0e', label='', hovertext={}, fillcolor='#ff7f0e', radius=4.0, labelsize=10.0, labelcolor='fff'), ClusterNode(x=55.0, y=0, type='leaf', id=3, cluster_id=None, edgecolor='#ff7f0e', label='', hovertext={}, fillcolor='#ff7f0e', radius=4.0, labelsize=10.0, labelcolor='fff'), ClusterNode(x=65.0, y=0, type='leaf', id=39, cluster_id=None, edgecolor='#ff7f0e', label='', hovertext={}, fillcolor='#ff7f0e', radius=4.0, labelsize=10.0, labelcolor='fff'), ClusterNode(x=75.0, y=0, type='leaf', id=157, cluster_id=None, edgecolor='#ff7f0e', label='', hovertext={}, fillcolor='#ff7f0e', radius=4.0, labelsize=10.0, labelcolor='fff'), ClusterNode(x=85.0, y=0, type='leaf', id=174, cluster_id=None, edgecolor='#ff7f0e', label='', hovertext={}, fillcolor='#ff7f0e', radius=4.0, labelsize=10.0, labelcolor='fff'), ClusterNode(x=95.0, y=0, type='leaf', id=77, cluster_id=None, edgecolor='#ff7f0e', label='', hovertext={}, fillcolor='#ff7f0e', radius=4.0, labelsize=10.0, labelcolor='fff'), ClusterNode(x=105.0, y=0, type='leaf', id=60, cluster_id=None, edgecolor='#ff7f0e', label='', hovertext={}, fillcolor='#ff7f0e', radius=4.0, labelsize=10.0, labelcolor='fff'), ClusterNode(x=115.0, y=0, type='leaf', id=171, cluster_id=None, edgecolor='#ff7f0e', label='', hovertext={}, fillcolor='#ff7f0e', radius=4.0, labelsize=10.0, labelcolor='fff'), ClusterNode(x=125.0, y=0, type='leaf', id=58, cluster_id=None, edgecolor='#2ca02c', label='', hovertext={}, fillcolor='#2ca02c', radius=4.0, labelsize=10.0, labelcolor='fff'), ClusterNode(x=135.0, y=0, type='leaf', id=50, cluster_id=None, edgecolor='#2ca02c', label='', hovertext={}, fillcolor='#2ca02c', radius=4.0, labelsize=10.0, labelcolor='fff'), ClusterNode(x=145.0, y=0, type='leaf', id=150, cluster_id=None, edgecolor='#2ca02c', label='', hovertext={}, fillcolor='#2ca02c', radius=4.0, labelsize=10.0, labelcolor='fff'), ClusterNode(x=155.0, y=0, type='leaf', id=52, cluster_id=None, edgecolor='#2ca02c', label='', hovertext={}, fillcolor='#2ca02c', radius=4.0, labelsize=10.0, labelcolor='fff'), ClusterNode(x=165.0, y=0, type='leaf', id=145, cluster_id=None, edgecolor='#2ca02c', label='', hovertext={}, fillcolor='#2ca02c', radius=4.0, labelsize=10.0, labelcolor='fff'), ClusterNode(x=175.0, y=0, type='leaf', id=90, cluster_id=None, edgecolor='#2ca02c', label='', hovertext={}, fillcolor='#2ca02c', radius=4.0, labelsize=10.0, labelcolor='fff'), ClusterNode(x=185.0, y=0, type='leaf', id=118, cluster_id=None, edgecolor='#2ca02c', label='', hovertext={}, fillcolor='#2ca02c', radius=4.0, labelsize=10.0, labelcolor='fff'), ClusterNode(x=195.0, y=0, type='leaf', id=18, cluster_id=None, edgecolor='#2ca02c', label='', hovertext={}, fillcolor='#2ca02c', radius=4.0, labelsize=10.0, labelcolor='fff'), ClusterNode(x=205.0, y=0, type='leaf', id=113, cluster_id=None, edgecolor='#2ca02c', label='', hovertext={}, fillcolor='#2ca02c', radius=4.0, labelsize=10.0, labelcolor='fff'), ClusterNode(x=215.0, y=0, type='leaf', id=67, cluster_id=None, edgecolor='#2ca02c', label='', hovertext={}, fillcolor='#2ca02c', radius=4.0, labelsize=10.0, labelcolor='fff'), ClusterNode(x=225.0, y=0, type='leaf', id=187, cluster_id=None, edgecolor='#2ca02c', label='', hovertext={}, fillcolor='#2ca02c', radius=4.0, labelsize=10.0, labelcolor='fff'), ClusterNode(x=235.0, y=0, type='leaf', id=9, cluster_id=None, edgecolor='#2ca02c', label='', hovertext={}, fillcolor='#2ca02c', radius=4.0, labelsize=10.0, labelcolor='fff'), ClusterNode(x=245.0, y=0, type='leaf', id=69, cluster_id=None, edgecolor='#2ca02c', label='', hovertext={}, fillcolor='#2ca02c', radius=4.0, labelsize=10.0, labelcolor='fff'), ClusterNode(x=255.0, y=0, type='leaf', id=24, cluster_id=None, edgecolor='#2ca02c', label='', hovertext={}, fillcolor='#2ca02c', radius=4.0, labelsize=10.0, labelcolor='fff'), ClusterNode(x=265.0, y=0, type='leaf', id=181, cluster_id=None, edgecolor='#2ca02c', label='', hovertext={}, fillcolor='#2ca02c', radius=4.0, labelsize=10.0, labelcolor='fff'), ClusterNode(x=10.0, y=48.917474793394035, type='cluster', id=161, cluster_id=1, edgecolor='#ff7f0e', label='', hovertext={}, fillcolor='#ff7f0e', radius=7.0, labelsize=10.0, labelcolor='fff'), ClusterNode(x=40.0, y=48.80866682587825, type='subcluster', id=159, cluster_id=None, edgecolor='#ff7f0e', label='', hovertext={}, fillcolor='fff', radius=7.0, labelsize=10.0, labelcolor='fff'), ClusterNode(x=32.5, y=53.299791833714245, type='cluster', id=182, cluster_id=2, edgecolor='#ff7f0e', label='', hovertext={}, fillcolor='#ff7f0e', radius=7.0, labelsize=10.0, labelcolor='fff'), ClusterNode(x=21.25, y=77.35316507275142, type='supercluster', id=194, cluster_id=None, edgecolor='#ff7f0e', label='', hovertext={}, fillcolor='#ff7f0e', radius=7.0, labelsize=10.0, labelcolor='fff'), ClusterNode(x=60.0, y=52.41581927520318, type='subcluster', id=177, cluster_id=None, edgecolor='#ff7f0e', label='', hovertext={}, fillcolor='fff', radius=7.0, labelsize=10.0, labelcolor='fff'), ClusterNode(x=80.0, y=52.97481103956573, type='subcluster', id=180, cluster_id=None, edgecolor='#ff7f0e', label='', hovertext={}, fillcolor='fff', radius=7.0, labelsize=10.0, labelcolor='fff'), ClusterNode(x=70.0, y=53.759713706828, type='cluster', id=185, cluster_id=3, edgecolor='#ff7f0e', label='', hovertext={}, fillcolor='#ff7f0e', radius=7.0, labelsize=10.0, labelcolor='fff'), ClusterNode(x=110.0, y=53.83196893882111, type='subcluster', id=186, cluster_id=None, edgecolor='#ff7f0e', label='', hovertext={}, fillcolor='fff', radius=7.0, labelsize=10.0, labelcolor='fff'), ClusterNode(x=102.5, y=59.13407865049273, type='cluster', id=192, cluster_id=4, edgecolor='#ff7f0e', label='', hovertext={}, fillcolor='#ff7f0e', radius=7.0, labelsize=10.0, labelcolor='fff'), ClusterNode(x=86.25, y=82.53370970584, type='supercluster', id=195, cluster_id=None, edgecolor='#ff7f0e', label='', hovertext={}, fillcolor='#ff7f0e', radius=7.0, labelsize=10.0, labelcolor='fff'), ClusterNode(x=53.75, y=93.05467284204461, type='supercluster', id=196, cluster_id=None, edgecolor='#ff7f0e', label='', hovertext={}, fillcolor='#ff7f0e', radius=7.0, labelsize=10.0, labelcolor='fff'), ClusterNode(x=140.0, y=48.752819203410326, type='subcluster', id=158, cluster_id=None, edgecolor='#2ca02c', label='', hovertext={}, fillcolor='fff', radius=7.0, labelsize=10.0, labelcolor='fff'), ClusterNode(x=132.5, y=51.81033304869588, type='subcluster', id=176, cluster_id=None, edgecolor='#2ca02c', label='', hovertext={}, fillcolor='fff', radius=7.0, labelsize=10.0, labelcolor='fff'), ClusterNode(x=160.0, y=49.02986650445658, type='subcluster', id=164, cluster_id=None, edgecolor='#2ca02c', label='', hovertext={}, fillcolor='fff', radius=7.0, labelsize=10.0, labelcolor='fff'), ClusterNode(x=180.0, y=49.46360949137839, type='subcluster', id=165, cluster_id=None, edgecolor='#2ca02c', label='', hovertext={}, fillcolor='fff', radius=7.0, labelsize=10.0, labelcolor='fff'), ClusterNode(x=170.0, y=53.34220906767658, type='subcluster', id=183, cluster_id=None, edgecolor='#2ca02c', label='', hovertext={}, fillcolor='fff', radius=7.0, labelsize=10.0, labelcolor='fff'), ClusterNode(x=151.25, y=54.73273184728699, type='cluster', id=188, cluster_id=5, edgecolor='#2ca02c', label='', hovertext={}, fillcolor='#2ca02c', radius=7.0, labelsize=10.0, labelcolor='fff'), ClusterNode(x=200.0, y=48.928268781492136, type='subcluster', id=162, cluster_id=None, edgecolor='#2ca02c', label='', hovertext={}, fillcolor='fff', radius=7.0, labelsize=10.0, labelcolor='fff'), ClusterNode(x=220.0, y=54.81711563263866, type='subcluster', id=189, cluster_id=None, edgecolor='#2ca02c', label='', hovertext={}, fillcolor='fff', radius=7.0, labelsize=10.0, labelcolor='fff'), ClusterNode(x=210.0, y=55.588291766637255, type='cluster', id=190, cluster_id=6, edgecolor='#2ca02c', label='', hovertext={}, fillcolor='#2ca02c', radius=7.0, labelsize=10.0, labelcolor='fff'), ClusterNode(x=240.0, y=52.49993084742456, type='subcluster', id=178, cluster_id=None, edgecolor='#2ca02c', label='', hovertext={}, fillcolor='fff', radius=7.0, labelsize=10.0, labelcolor='fff'), ClusterNode(x=260.0, y=53.430020184695934, type='subcluster', id=184, cluster_id=None, edgecolor='#2ca02c', label='', hovertext={}, fillcolor='fff', radius=7.0, labelsize=10.0, labelcolor='fff'), ClusterNode(x=250.0, y=55.85024332736424, type='cluster', id=191, cluster_id=7, edgecolor='#2ca02c', label='', hovertext={}, fillcolor='#2ca02c', radius=7.0, labelsize=10.0, labelcolor='fff'), ClusterNode(x=230.0, y=73.64360090526921, type='supercluster', id=193, cluster_id=None, edgecolor='#2ca02c', label='', hovertext={}, fillcolor='#2ca02c', radius=7.0, labelsize=10.0, labelcolor='fff'), ClusterNode(x=190.625, y=189.91952617609135, type='supercluster', id=197, cluster_id=None, edgecolor='#2ca02c', label='', hovertext={}, fillcolor='#2ca02c', radius=7.0, labelsize=10.0, labelcolor='fff'), ClusterNode(x=122.1875, y=1456.796403249361, type='supercluster', id=198, cluster_id=None, edgecolor='#1f77b4', label='', hovertext={}, fillcolor='#1f77b4', radius=7.0, labelsize=10.0, labelcolor='fff')])"
      ]
     },
     "execution_count": 44,
     "metadata": {},
     "output_type": "execute_result"
    }
   ],
   "source": [
    "dd.create_dendrogram()"
   ]
  },
  {
   "cell_type": "code",
   "execution_count": null,
   "metadata": {},
   "outputs": [],
   "source": []
  }
 ],
 "metadata": {
  "kernelspec": {
   "display_name": "Python 3.10.6 ('idendro')",
   "language": "python",
   "name": "python3"
  },
  "language_info": {
   "codemirror_mode": {
    "name": "ipython",
    "version": 3
   },
   "file_extension": ".py",
   "mimetype": "text/x-python",
   "name": "python",
   "nbconvert_exporter": "python",
   "pygments_lexer": "ipython3",
   "version": "3.10.6"
  },
  "orig_nbformat": 4,
  "vscode": {
   "interpreter": {
    "hash": "c65e684e66d07d621a56d60ea18d00083a3aa685fb3125bee996e4f969a9bef8"
   }
  }
 },
 "nbformat": 4,
 "nbformat_minor": 2
}
