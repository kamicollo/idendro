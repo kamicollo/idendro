{
 "cells": [
  {
   "cell_type": "code",
   "execution_count": 1,
   "metadata": {},
   "outputs": [],
   "source": [
    "import os, sys\n",
    "sys.path.insert(1, os.path.join(sys.path[0], '..'))\n",
    "\n",
    "import idendro"
   ]
  },
  {
   "cell_type": "code",
   "execution_count": 2,
   "metadata": {},
   "outputs": [],
   "source": [
    "from sklearn.datasets import load_iris\n",
    "data = load_iris(as_frame=True)"
   ]
  },
  {
   "cell_type": "code",
   "execution_count": 3,
   "metadata": {},
   "outputs": [],
   "source": [
    "import scipy.cluster.hierarchy as sch"
   ]
  },
  {
   "cell_type": "code",
   "execution_count": 15,
   "metadata": {},
   "outputs": [],
   "source": [
    "linkage_matrix = sch.linkage(data['data'], method='single', metric='euclidean')\n",
    "threshold = 0.6\n",
    "flat_clusters = sch.fcluster(linkage_matrix, t=threshold, criterion='distance')"
   ]
  },
  {
   "cell_type": "code",
   "execution_count": 16,
   "metadata": {},
   "outputs": [
    {
     "data": {
      "image/png": "[encoded data removed]",
      "text/plain": [
       "<Figure size 640x480 with 1 Axes>"
      ]
     },
     "metadata": {},
     "output_type": "display_data"
    }
   ],
   "source": [
    "_ = sch.dendrogram(linkage_matrix, color_threshold=threshold, p = 10, truncate_mode = 'level')"
   ]
  },
  {
   "cell_type": "code",
   "execution_count": 17,
   "metadata": {},
   "outputs": [],
   "source": [
    "#wrap clustering outputs / parameters into a container\n",
    "cl_data = idendro.ClusteringData(linkage_matrix = linkage_matrix, cluster_assignments = flat_clusters, threshold = threshold)\n",
    "\n",
    "#instantiate idendro object with default formatting\n",
    "idd = idendro.IDendro()\n",
    "\n",
    "#pass clustering information\n",
    "idd.set_cluster_info(cl_data)\n",
    "\n",
    "#create a dendrogram object\n",
    "dendrogram = idd.create_dendrogram(truncate_mode='level', p=10)"
   ]
  },
  {
   "cell_type": "code",
   "execution_count": 18,
   "metadata": {},
   "outputs": [
    {
     "data": {
      "text/html": [
       "\n",
       "<div id=\"altair-viz-39c056c8e91f482489338178c293d82e\"></div>\n",
       "<script type=\"text/javascript\">\n",
       "  var VEGA_DEBUG = (typeof VEGA_DEBUG == \"undefined\") ? {} : VEGA_DEBUG;\n",
       "  (function(spec, embedOpt){\n",
       "    let outputDiv = document.currentScript.previousElementSibling;\n",
       "    if (outputDiv.id !== \"altair-viz-39c056c8e91f482489338178c293d82e\") {\n",
       "      outputDiv = document.getElementById(\"altair-viz-39c056c8e91f482489338178c293d82e\");\n",
       "    }\n",
       "    const paths = {\n",
       "      \"vega\": \"https://cdn.jsdelivr.net/npm//vega@5?noext\",\n",
       "      \"vega-lib\": \"https://cdn.jsdelivr.net/npm//vega-lib?noext\",\n",
       "      \"vega-lite\": \"https://cdn.jsdelivr.net/npm//vega-lite@4.17.0?noext\",\n",
       "      \"vega-embed\": \"https://cdn.jsdelivr.net/npm//vega-embed@6?noext\",\n",
       "    };\n",
       "\n",
       "    function maybeLoadScript(lib, version) {\n",
       "      var key = `${lib.replace(\"-\", \"\")}_version`;\n",
       "      return (VEGA_DEBUG[key] == version) ?\n",
       "        Promise.resolve(paths[lib]) :\n",
       "        new Promise(function(resolve, reject) {\n",
       "          var s = document.createElement('script');\n",
       "          document.getElementsByTagName(\"head\")[0].appendChild(s);\n",
       "          s.async = true;\n",
       "          s.onload = () => {\n",
       "            VEGA_DEBUG[key] = version;\n",
       "            return resolve(paths[lib]);\n",
       "          };\n",
       "          s.onerror = () => reject(`Error loading script: ${paths[lib]}`);\n",
       "          s.src = paths[lib];\n",
       "        });\n",
       "    }\n",
       "\n",
       "    function showError(err) {\n",
       "      outputDiv.innerHTML = `<div class=\"error\" style=\"color:red;\">${err}</div>`;\n",
       "      throw err;\n",
       "    }\n",
       "\n",
       "    function displayChart(vegaEmbed) {\n",
       "      vegaEmbed(outputDiv, spec, embedOpt)\n",
       "        .catch(err => showError(`Javascript Error: ${err.message}<br>This usually means there's a typo in your chart specification. See the javascript console for the full traceback.`));\n",
       "    }\n",
       "\n",
       "    if(typeof define === \"function\" && define.amd) {\n",
       "      requirejs.config({paths});\n",
       "      require([\"vega-embed\"], displayChart, err => showError(`Error loading script: ${err.message}`));\n",
       "    } else {\n",
       "      maybeLoadScript(\"vega\", \"5\")\n",
       "        .then(() => maybeLoadScript(\"vega-lite\", \"4.17.0\"))\n",
       "        .then(() => maybeLoadScript(\"vega-embed\", \"6\"))\n",
       "        .catch(showError)\n",
       "        .then(() => displayChart(vegaEmbed));\n",
       "    }\n",
       "  })({\"layer\": [{\"data\": {\"name\": \"data-cc8c13296451b00d752cfec4f0caa228\"}, \"mark\": \"line\", \"encoding\": {\"color\": {\"field\": \"fillcolor\", \"legend\": null, \"scale\": null, \"type\": \"nominal\"}, \"detail\": {\"field\": \"index\", \"type\": \"quantitative\"}, \"order\": {\"field\": \"_order_helper\", \"type\": \"quantitative\"}, \"strokeDash\": {\"field\": \"strokedash\", \"legend\": null, \"scale\": null, \"type\": \"nominal\"}, \"strokeOpacity\": {\"field\": \"strokeopacity\", \"legend\": null, \"scale\": null, \"type\": \"quantitative\"}, \"strokeWidth\": {\"field\": \"strokewidth\", \"legend\": null, \"scale\": null, \"type\": \"quantitative\"}, \"x\": {\"axis\": {\"grid\": false, \"labelAngle\": 0, \"labelExpr\": \"datum.value == 5.0 ? '1' : datum.value == 15.0 ? '1' : datum.value == 25.0 ? '1' : datum.value == 35.0 ? '1' : datum.value == 45.0 ? '1' : datum.value == 55.0 ? '1' : datum.value == 65.0 ? '1' : datum.value == 75.0 ? '1' : datum.value == 85.0 ? '2' : datum.value == 95.0 ? '38' : datum.value == 105.0 ? '1' : datum.value == 115.0 ? '1' : datum.value == 125.0 ? '1' : datum.value == 135.0 ? '1' : datum.value == 145.0 ? '1' : datum.value == 155.0 ? '1' : datum.value == 165.0 ? '1' : datum.value == 175.0 ? '1' : datum.value == 185.0 ? '1' : datum.value == 195.0 ? '1' : datum.value == 205.0 ? '1' : datum.value == 215.0 ? '1' : datum.value == 225.0 ? '1' : datum.value == 235.0 ? '1' : datum.value == 245.0 ? '1' : datum.value == 255.0 ? '1' : datum.value == 265.0 ? '1' : datum.value == 275.0 ? '1' : datum.value == 285.0 ? '1' : datum.value == 295.0 ? '83' : ''\", \"labelPadding\": 10, \"orient\": \"bottom\", \"ticks\": false, \"values\": [5.0, 15.0, 25.0, 35.0, 45.0, 55.0, 65.0, 75.0, 85.0, 95.0, 105.0, 115.0, 125.0, 135.0, 145.0, 155.0, 165.0, 175.0, 185.0, 195.0, 205.0, 215.0, 225.0, 235.0, 245.0, 255.0, 265.0, 275.0, 285.0, 295.0]}, \"field\": \"x\", \"title\": null, \"type\": \"quantitative\"}, \"y\": {\"axis\": {\"grid\": false}, \"field\": \"y\", \"scale\": {\"reverse\": false, \"type\": \"linear\"}, \"title\": null, \"type\": \"quantitative\"}}}, {\"layer\": [{\"layer\": [{\"mark\": \"point\", \"encoding\": {\"fill\": {\"field\": \"fillcolor\", \"scale\": null, \"type\": \"nominal\"}, \"opacity\": {\"field\": \"opacity\", \"scale\": null, \"type\": \"quantitative\"}, \"size\": {\"field\": \"size\", \"scale\": null, \"type\": \"quantitative\"}, \"stroke\": {\"field\": \"edgecolor\", \"scale\": null, \"type\": \"nominal\"}, \"tooltip\": {\"field\": \"hovertext\", \"type\": \"nominal\"}, \"x\": {\"axis\": {\"grid\": false, \"labelAngle\": 0, \"labelExpr\": \"datum.value == 5.0 ? '1' : datum.value == 15.0 ? '1' : datum.value == 25.0 ? '1' : datum.value == 35.0 ? '1' : datum.value == 45.0 ? '1' : datum.value == 55.0 ? '1' : datum.value == 65.0 ? '1' : datum.value == 75.0 ? '1' : datum.value == 85.0 ? '2' : datum.value == 95.0 ? '38' : datum.value == 105.0 ? '1' : datum.value == 115.0 ? '1' : datum.value == 125.0 ? '1' : datum.value == 135.0 ? '1' : datum.value == 145.0 ? '1' : datum.value == 155.0 ? '1' : datum.value == 165.0 ? '1' : datum.value == 175.0 ? '1' : datum.value == 185.0 ? '1' : datum.value == 195.0 ? '1' : datum.value == 205.0 ? '1' : datum.value == 215.0 ? '1' : datum.value == 225.0 ? '1' : datum.value == 235.0 ? '1' : datum.value == 245.0 ? '1' : datum.value == 255.0 ? '1' : datum.value == 265.0 ? '1' : datum.value == 275.0 ? '1' : datum.value == 285.0 ? '1' : datum.value == 295.0 ? '83' : ''\", \"labelPadding\": 10, \"orient\": \"bottom\", \"ticks\": false, \"values\": [5.0, 15.0, 25.0, 35.0, 45.0, 55.0, 65.0, 75.0, 85.0, 95.0, 105.0, 115.0, 125.0, 135.0, 145.0, 155.0, 165.0, 175.0, 185.0, 195.0, 205.0, 215.0, 225.0, 235.0, 245.0, 255.0, 265.0, 275.0, 285.0, 295.0]}, \"field\": \"x\", \"title\": null, \"type\": \"quantitative\"}, \"y\": {\"axis\": {\"grid\": false}, \"field\": \"y\", \"scale\": {\"reverse\": false, \"type\": \"linear\"}, \"title\": null, \"type\": \"quantitative\"}}}, {\"mark\": {\"type\": \"text\", \"fontWeight\": \"bold\"}, \"encoding\": {\"color\": {\"field\": \"labelcolor\", \"scale\": null, \"type\": \"nominal\"}, \"size\": {\"field\": \"labelsize\", \"scale\": null, \"type\": \"quantitative\"}, \"text\": {\"field\": \"label\", \"type\": \"nominal\"}, \"tooltip\": {\"field\": \"hovertext\", \"type\": \"nominal\"}, \"x\": {\"axis\": {\"grid\": false, \"labelAngle\": 0, \"labelExpr\": \"datum.value == 5.0 ? '1' : datum.value == 15.0 ? '1' : datum.value == 25.0 ? '1' : datum.value == 35.0 ? '1' : datum.value == 45.0 ? '1' : datum.value == 55.0 ? '1' : datum.value == 65.0 ? '1' : datum.value == 75.0 ? '1' : datum.value == 85.0 ? '2' : datum.value == 95.0 ? '38' : datum.value == 105.0 ? '1' : datum.value == 115.0 ? '1' : datum.value == 125.0 ? '1' : datum.value == 135.0 ? '1' : datum.value == 145.0 ? '1' : datum.value == 155.0 ? '1' : datum.value == 165.0 ? '1' : datum.value == 175.0 ? '1' : datum.value == 185.0 ? '1' : datum.value == 195.0 ? '1' : datum.value == 205.0 ? '1' : datum.value == 215.0 ? '1' : datum.value == 225.0 ? '1' : datum.value == 235.0 ? '1' : datum.value == 245.0 ? '1' : datum.value == 255.0 ? '1' : datum.value == 265.0 ? '1' : datum.value == 275.0 ? '1' : datum.value == 285.0 ? '1' : datum.value == 295.0 ? '83' : ''\", \"labelPadding\": 10, \"orient\": \"bottom\", \"ticks\": false, \"values\": [5.0, 15.0, 25.0, 35.0, 45.0, 55.0, 65.0, 75.0, 85.0, 95.0, 105.0, 115.0, 125.0, 135.0, 145.0, 155.0, 165.0, 175.0, 185.0, 195.0, 205.0, 215.0, 225.0, 235.0, 245.0, 255.0, 265.0, 275.0, 285.0, 295.0]}, \"field\": \"x\", \"title\": null, \"type\": \"quantitative\"}, \"y\": {\"axis\": {\"grid\": false}, \"field\": \"y\", \"scale\": {\"reverse\": false, \"type\": \"linear\"}, \"title\": null, \"type\": \"quantitative\"}}}]}], \"data\": {\"name\": \"data-3beba9715a4ff6277b28d5a447158baf\"}}], \"height\": 300, \"width\": 700, \"$schema\": \"https://vega.github.io/schema/vega-lite/v4.17.0.json\", \"datasets\": {\"data-cc8c13296451b00d752cfec4f0caa228\": [{\"index\": 0, \"x\": 85.0, \"y\": 0.0, \"fillcolor\": \"#ff7f0e\", \"id\": 236, \"children_id\": [231, 235], \"cluster_id\": null, \"strokewidth\": 1.0, \"strokedash\": [1, 0], \"strokeopacity\": 1.0, \"_order_helper\": 0}, {\"index\": 0, \"x\": 85.0, \"y\": 0.3000000000000001, \"fillcolor\": \"#ff7f0e\", \"id\": 236, \"children_id\": [231, 235], \"cluster_id\": null, \"strokewidth\": 1.0, \"strokedash\": [1, 0], \"strokeopacity\": 1.0, \"_order_helper\": 1}, {\"index\": 0, \"x\": 95.0, \"y\": 0.3000000000000001, \"fillcolor\": \"#ff7f0e\", \"id\": 236, \"children_id\": [231, 235], \"cluster_id\": null, \"strokewidth\": 1.0, \"strokedash\": [1, 0], \"strokeopacity\": 1.0, \"_order_helper\": 2}, {\"index\": 0, \"x\": 95.0, \"y\": 0.0, \"fillcolor\": \"#ff7f0e\", \"id\": 236, \"children_id\": [231, 235], \"cluster_id\": null, \"strokewidth\": 1.0, \"strokedash\": [1, 0], \"strokeopacity\": 1.0, \"_order_helper\": 3}, {\"index\": 1, \"x\": 105.0, \"y\": 0.0, \"fillcolor\": \"#ff7f0e\", \"id\": 249, \"children_id\": [5, 18], \"cluster_id\": null, \"strokewidth\": 1.0, \"strokedash\": [1, 0], \"strokeopacity\": 1.0, \"_order_helper\": 0}, {\"index\": 1, \"x\": 105.0, \"y\": 0.33166247903553986, \"fillcolor\": \"#ff7f0e\", \"id\": 249, \"children_id\": [5, 18], \"cluster_id\": null, \"strokewidth\": 1.0, \"strokedash\": [1, 0], \"strokeopacity\": 1.0, \"_order_helper\": 1}, {\"index\": 1, \"x\": 115.0, \"y\": 0.33166247903553986, \"fillcolor\": \"#ff7f0e\", \"id\": 249, \"children_id\": [5, 18], \"cluster_id\": null, \"strokewidth\": 1.0, \"strokedash\": [1, 0], \"strokeopacity\": 1.0, \"_order_helper\": 2}, {\"index\": 1, \"x\": 115.0, \"y\": 0.0, \"fillcolor\": \"#ff7f0e\", \"id\": 249, \"children_id\": [5, 18], \"cluster_id\": null, \"strokewidth\": 1.0, \"strokedash\": [1, 0], \"strokeopacity\": 1.0, \"_order_helper\": 3}, {\"index\": 2, \"x\": 90.0, \"y\": 0.3000000000000001, \"fillcolor\": \"#ff7f0e\", \"id\": 255, \"children_id\": [236, 249], \"cluster_id\": null, \"strokewidth\": 1.0, \"strokedash\": [1, 0], \"strokeopacity\": 1.0, \"_order_helper\": 0}, {\"index\": 2, \"x\": 90.0, \"y\": 0.3464101615137753, \"fillcolor\": \"#ff7f0e\", \"id\": 255, \"children_id\": [236, 249], \"cluster_id\": null, \"strokewidth\": 1.0, \"strokedash\": [1, 0], \"strokeopacity\": 1.0, \"_order_helper\": 1}, {\"index\": 2, \"x\": 110.0, \"y\": 0.3464101615137753, \"fillcolor\": \"#ff7f0e\", \"id\": 255, \"children_id\": [236, 249], \"cluster_id\": null, \"strokewidth\": 1.0, \"strokedash\": [1, 0], \"strokeopacity\": 1.0, \"_order_helper\": 2}, {\"index\": 2, \"x\": 110.0, \"y\": 0.33166247903553986, \"fillcolor\": \"#ff7f0e\", \"id\": 255, \"children_id\": [236, 249], \"cluster_id\": null, \"strokewidth\": 1.0, \"strokedash\": [1, 0], \"strokeopacity\": 1.0, \"_order_helper\": 3}, {\"index\": 3, \"x\": 75.0, \"y\": 0.0, \"fillcolor\": \"#ff7f0e\", \"id\": 256, \"children_id\": [16, 255], \"cluster_id\": null, \"strokewidth\": 1.0, \"strokedash\": [1, 0], \"strokeopacity\": 1.0, \"_order_helper\": 0}, {\"index\": 3, \"x\": 75.0, \"y\": 0.3464101615137753, \"fillcolor\": \"#ff7f0e\", \"id\": 256, \"children_id\": [16, 255], \"cluster_id\": null, \"strokewidth\": 1.0, \"strokedash\": [1, 0], \"strokeopacity\": 1.0, \"_order_helper\": 1}, {\"index\": 3, \"x\": 100.0, \"y\": 0.3464101615137753, \"fillcolor\": \"#ff7f0e\", \"id\": 256, \"children_id\": [16, 255], \"cluster_id\": null, \"strokewidth\": 1.0, \"strokedash\": [1, 0], \"strokeopacity\": 1.0, \"_order_helper\": 2}, {\"index\": 3, \"x\": 100.0, \"y\": 0.3464101615137753, \"fillcolor\": \"#ff7f0e\", \"id\": 256, \"children_id\": [16, 255], \"cluster_id\": null, \"strokewidth\": 1.0, \"strokedash\": [1, 0], \"strokeopacity\": 1.0, \"_order_helper\": 3}, {\"index\": 4, \"x\": 65.0, \"y\": 0.0, \"fillcolor\": \"#ff7f0e\", \"id\": 258, \"children_id\": [32, 256], \"cluster_id\": null, \"strokewidth\": 1.0, \"strokedash\": [1, 0], \"strokeopacity\": 1.0, \"_order_helper\": 0}, {\"index\": 4, \"x\": 65.0, \"y\": 0.3464101615137755, \"fillcolor\": \"#ff7f0e\", \"id\": 258, \"children_id\": [32, 256], \"cluster_id\": null, \"strokewidth\": 1.0, \"strokedash\": [1, 0], \"strokeopacity\": 1.0, \"_order_helper\": 1}, {\"index\": 4, \"x\": 87.5, \"y\": 0.3464101615137755, \"fillcolor\": \"#ff7f0e\", \"id\": 258, \"children_id\": [32, 256], \"cluster_id\": null, \"strokewidth\": 1.0, \"strokedash\": [1, 0], \"strokeopacity\": 1.0, \"_order_helper\": 2}, {\"index\": 4, \"x\": 87.5, \"y\": 0.3464101615137753, \"fillcolor\": \"#ff7f0e\", \"id\": 258, \"children_id\": [32, 256], \"cluster_id\": null, \"strokewidth\": 1.0, \"strokedash\": [1, 0], \"strokeopacity\": 1.0, \"_order_helper\": 3}, {\"index\": 5, \"x\": 55.0, \"y\": 0.0, \"fillcolor\": \"#ff7f0e\", \"id\": 259, \"children_id\": [33, 258], \"cluster_id\": null, \"strokewidth\": 1.0, \"strokedash\": [1, 0], \"strokeopacity\": 1.0, \"_order_helper\": 0}, {\"index\": 5, \"x\": 55.0, \"y\": 0.3464101615137755, \"fillcolor\": \"#ff7f0e\", \"id\": 259, \"children_id\": [33, 258], \"cluster_id\": null, \"strokewidth\": 1.0, \"strokedash\": [1, 0], \"strokeopacity\": 1.0, \"_order_helper\": 1}, {\"index\": 5, \"x\": 76.25, \"y\": 0.3464101615137755, \"fillcolor\": \"#ff7f0e\", \"id\": 259, \"children_id\": [33, 258], \"cluster_id\": null, \"strokewidth\": 1.0, \"strokedash\": [1, 0], \"strokeopacity\": 1.0, \"_order_helper\": 2}, {\"index\": 5, \"x\": 76.25, \"y\": 0.3464101615137755, \"fillcolor\": \"#ff7f0e\", \"id\": 259, \"children_id\": [33, 258], \"cluster_id\": null, \"strokewidth\": 1.0, \"strokedash\": [1, 0], \"strokeopacity\": 1.0, \"_order_helper\": 3}, {\"index\": 6, \"x\": 45.0, \"y\": 0.0, \"fillcolor\": \"#ff7f0e\", \"id\": 263, \"children_id\": [44, 259], \"cluster_id\": null, \"strokewidth\": 1.0, \"strokedash\": [1, 0], \"strokeopacity\": 1.0, \"_order_helper\": 0}, {\"index\": 6, \"x\": 45.0, \"y\": 0.3605551275463988, \"fillcolor\": \"#ff7f0e\", \"id\": 263, \"children_id\": [44, 259], \"cluster_id\": null, \"strokewidth\": 1.0, \"strokedash\": [1, 0], \"strokeopacity\": 1.0, \"_order_helper\": 1}, {\"index\": 6, \"x\": 65.625, \"y\": 0.3605551275463988, \"fillcolor\": \"#ff7f0e\", \"id\": 263, \"children_id\": [44, 259], \"cluster_id\": null, \"strokewidth\": 1.0, \"strokedash\": [1, 0], \"strokeopacity\": 1.0, \"_order_helper\": 2}, {\"index\": 6, \"x\": 65.625, \"y\": 0.3464101615137755, \"fillcolor\": \"#ff7f0e\", \"id\": 263, \"children_id\": [44, 259], \"cluster_id\": null, \"strokewidth\": 1.0, \"strokedash\": [1, 0], \"strokeopacity\": 1.0, \"_order_helper\": 3}, {\"index\": 7, \"x\": 35.0, \"y\": 0.0, \"fillcolor\": \"#ff7f0e\", \"id\": 269, \"children_id\": [15, 263], \"cluster_id\": null, \"strokewidth\": 1.0, \"strokedash\": [1, 0], \"strokeopacity\": 1.0, \"_order_helper\": 0}, {\"index\": 7, \"x\": 35.0, \"y\": 0.3605551275463992, \"fillcolor\": \"#ff7f0e\", \"id\": 269, \"children_id\": [15, 263], \"cluster_id\": null, \"strokewidth\": 1.0, \"strokedash\": [1, 0], \"strokeopacity\": 1.0, \"_order_helper\": 1}, {\"index\": 7, \"x\": 55.3125, \"y\": 0.3605551275463992, \"fillcolor\": \"#ff7f0e\", \"id\": 269, \"children_id\": [15, 263], \"cluster_id\": null, \"strokewidth\": 1.0, \"strokedash\": [1, 0], \"strokeopacity\": 1.0, \"_order_helper\": 2}, {\"index\": 7, \"x\": 55.3125, \"y\": 0.3605551275463988, \"fillcolor\": \"#ff7f0e\", \"id\": 269, \"children_id\": [15, 263], \"cluster_id\": null, \"strokewidth\": 1.0, \"strokedash\": [1, 0], \"strokeopacity\": 1.0, \"_order_helper\": 3}, {\"index\": 8, \"x\": 25.0, \"y\": 0.0, \"fillcolor\": \"#ff7f0e\", \"id\": 278, \"children_id\": [14, 269], \"cluster_id\": null, \"strokewidth\": 1.0, \"strokedash\": [1, 0], \"strokeopacity\": 1.0, \"_order_helper\": 0}, {\"index\": 8, \"x\": 25.0, \"y\": 0.412310562561766, \"fillcolor\": \"#ff7f0e\", \"id\": 278, \"children_id\": [14, 269], \"cluster_id\": null, \"strokewidth\": 1.0, \"strokedash\": [1, 0], \"strokeopacity\": 1.0, \"_order_helper\": 1}, {\"index\": 8, \"x\": 45.15625, \"y\": 0.412310562561766, \"fillcolor\": \"#ff7f0e\", \"id\": 278, \"children_id\": [14, 269], \"cluster_id\": null, \"strokewidth\": 1.0, \"strokedash\": [1, 0], \"strokeopacity\": 1.0, \"_order_helper\": 2}, {\"index\": 8, \"x\": 45.15625, \"y\": 0.3605551275463992, \"fillcolor\": \"#ff7f0e\", \"id\": 278, \"children_id\": [14, 269], \"cluster_id\": null, \"strokewidth\": 1.0, \"strokedash\": [1, 0], \"strokeopacity\": 1.0, \"_order_helper\": 3}, {\"index\": 9, \"x\": 15.0, \"y\": 0.0, \"fillcolor\": \"#ff7f0e\", \"id\": 285, \"children_id\": [22, 278], \"cluster_id\": 1.0, \"strokewidth\": 1.0, \"strokedash\": [1, 0], \"strokeopacity\": 1.0, \"_order_helper\": 0}, {\"index\": 9, \"x\": 15.0, \"y\": 0.45825756949558394, \"fillcolor\": \"#ff7f0e\", \"id\": 285, \"children_id\": [22, 278], \"cluster_id\": 1.0, \"strokewidth\": 1.0, \"strokedash\": [1, 0], \"strokeopacity\": 1.0, \"_order_helper\": 1}, {\"index\": 9, \"x\": 35.078125, \"y\": 0.45825756949558394, \"fillcolor\": \"#ff7f0e\", \"id\": 285, \"children_id\": [22, 278], \"cluster_id\": 1.0, \"strokewidth\": 1.0, \"strokedash\": [1, 0], \"strokeopacity\": 1.0, \"_order_helper\": 2}, {\"index\": 9, \"x\": 35.078125, \"y\": 0.412310562561766, \"fillcolor\": \"#ff7f0e\", \"id\": 285, \"children_id\": [22, 278], \"cluster_id\": 1.0, \"strokewidth\": 1.0, \"strokedash\": [1, 0], \"strokeopacity\": 1.0, \"_order_helper\": 3}, {\"index\": 10, \"x\": 5.0, \"y\": 0.0, \"fillcolor\": \"#1f77b4\", \"id\": 293, \"children_id\": [41, 285], \"cluster_id\": null, \"strokewidth\": 1.0, \"strokedash\": [1, 0], \"strokeopacity\": 1.0, \"_order_helper\": 0}, {\"index\": 10, \"x\": 5.0, \"y\": 0.6244997998398398, \"fillcolor\": \"#1f77b4\", \"id\": 293, \"children_id\": [41, 285], \"cluster_id\": null, \"strokewidth\": 1.0, \"strokedash\": [1, 0], \"strokeopacity\": 1.0, \"_order_helper\": 1}, {\"index\": 10, \"x\": 25.0390625, \"y\": 0.6244997998398398, \"fillcolor\": \"#1f77b4\", \"id\": 293, \"children_id\": [41, 285], \"cluster_id\": null, \"strokewidth\": 1.0, \"strokedash\": [1, 0], \"strokeopacity\": 1.0, \"_order_helper\": 2}, {\"index\": 10, \"x\": 25.0390625, \"y\": 0.45825756949558394, \"fillcolor\": \"#1f77b4\", \"id\": 293, \"children_id\": [41, 285], \"cluster_id\": null, \"strokewidth\": 1.0, \"strokedash\": [1, 0], \"strokeopacity\": 1.0, \"_order_helper\": 3}, {\"index\": 11, \"x\": 125.0, \"y\": 0.0, \"fillcolor\": \"#d62728\", \"id\": 279, \"children_id\": [117, 131], \"cluster_id\": 3.0, \"strokewidth\": 1.0, \"strokedash\": [1, 0], \"strokeopacity\": 1.0, \"_order_helper\": 0}, {\"index\": 11, \"x\": 125.0, \"y\": 0.4123105625617661, \"fillcolor\": \"#d62728\", \"id\": 279, \"children_id\": [117, 131], \"cluster_id\": 3.0, \"strokewidth\": 1.0, \"strokedash\": [1, 0], \"strokeopacity\": 1.0, \"_order_helper\": 1}, {\"index\": 11, \"x\": 135.0, \"y\": 0.4123105625617661, \"fillcolor\": \"#d62728\", \"id\": 279, \"children_id\": [117, 131], \"cluster_id\": 3.0, \"strokewidth\": 1.0, \"strokedash\": [1, 0], \"strokeopacity\": 1.0, \"_order_helper\": 2}, {\"index\": 11, \"x\": 135.0, \"y\": 0.0, \"fillcolor\": \"#d62728\", \"id\": 279, \"children_id\": [117, 131], \"cluster_id\": 3.0, \"strokewidth\": 1.0, \"strokedash\": [1, 0], \"strokeopacity\": 1.0, \"_order_helper\": 3}, {\"index\": 12, \"x\": 175.0, \"y\": 0.0, \"fillcolor\": \"#9467bd\", \"id\": 161, \"children_id\": [57, 93], \"cluster_id\": null, \"strokewidth\": 1.0, \"strokedash\": [1, 0], \"strokeopacity\": 1.0, \"_order_helper\": 0}, {\"index\": 12, \"x\": 175.0, \"y\": 0.1414213562373093, \"fillcolor\": \"#9467bd\", \"id\": 161, \"children_id\": [57, 93], \"cluster_id\": null, \"strokewidth\": 1.0, \"strokedash\": [1, 0], \"strokeopacity\": 1.0, \"_order_helper\": 1}, {\"index\": 12, \"x\": 185.0, \"y\": 0.1414213562373093, \"fillcolor\": \"#9467bd\", \"id\": 161, \"children_id\": [57, 93], \"cluster_id\": null, \"strokewidth\": 1.0, \"strokedash\": [1, 0], \"strokeopacity\": 1.0, \"_order_helper\": 2}, {\"index\": 12, \"x\": 185.0, \"y\": 0.0, \"fillcolor\": \"#9467bd\", \"id\": 161, \"children_id\": [57, 93], \"cluster_id\": null, \"strokewidth\": 1.0, \"strokedash\": [1, 0], \"strokeopacity\": 1.0, \"_order_helper\": 3}, {\"index\": 13, \"x\": 165.0, \"y\": 0.0, \"fillcolor\": \"#9467bd\", \"id\": 265, \"children_id\": [60, 161], \"cluster_id\": null, \"strokewidth\": 1.0, \"strokedash\": [1, 0], \"strokeopacity\": 1.0, \"_order_helper\": 0}, {\"index\": 13, \"x\": 165.0, \"y\": 0.3605551275463989, \"fillcolor\": \"#9467bd\", \"id\": 265, \"children_id\": [60, 161], \"cluster_id\": null, \"strokewidth\": 1.0, \"strokedash\": [1, 0], \"strokeopacity\": 1.0, \"_order_helper\": 1}, {\"index\": 13, \"x\": 180.0, \"y\": 0.3605551275463989, \"fillcolor\": \"#9467bd\", \"id\": 265, \"children_id\": [60, 161], \"cluster_id\": null, \"strokewidth\": 1.0, \"strokedash\": [1, 0], \"strokeopacity\": 1.0, \"_order_helper\": 2}, {\"index\": 13, \"x\": 180.0, \"y\": 0.1414213562373093, \"fillcolor\": \"#9467bd\", \"id\": 265, \"children_id\": [60, 161], \"cluster_id\": null, \"strokewidth\": 1.0, \"strokedash\": [1, 0], \"strokeopacity\": 1.0, \"_order_helper\": 3}, {\"index\": 14, \"x\": 155.0, \"y\": 0.0, \"fillcolor\": \"#9467bd\", \"id\": 273, \"children_id\": [98, 265], \"cluster_id\": 4.0, \"strokewidth\": 1.0, \"strokedash\": [1, 0], \"strokeopacity\": 1.0, \"_order_helper\": 0}, {\"index\": 14, \"x\": 155.0, \"y\": 0.3872983346207412, \"fillcolor\": \"#9467bd\", \"id\": 273, \"children_id\": [98, 265], \"cluster_id\": 4.0, \"strokewidth\": 1.0, \"strokedash\": [1, 0], \"strokeopacity\": 1.0, \"_order_helper\": 1}, {\"index\": 14, \"x\": 172.5, \"y\": 0.3872983346207412, \"fillcolor\": \"#9467bd\", \"id\": 273, \"children_id\": [98, 265], \"cluster_id\": 4.0, \"strokewidth\": 1.0, \"strokedash\": [1, 0], \"strokeopacity\": 1.0, \"_order_helper\": 2}, {\"index\": 14, \"x\": 172.5, \"y\": 0.3605551275463989, \"fillcolor\": \"#9467bd\", \"id\": 273, \"children_id\": [98, 265], \"cluster_id\": 4.0, \"strokewidth\": 1.0, \"strokedash\": [1, 0], \"strokeopacity\": 1.0, \"_order_helper\": 3}, {\"index\": 15, \"x\": 245.0, \"y\": 0.0, \"fillcolor\": \"#8c564b\", \"id\": 229, \"children_id\": [105, 122], \"cluster_id\": null, \"strokewidth\": 1.0, \"strokedash\": [1, 0], \"strokeopacity\": 1.0, \"_order_helper\": 0}, {\"index\": 15, \"x\": 245.0, \"y\": 0.26457513110645964, \"fillcolor\": \"#8c564b\", \"id\": 229, \"children_id\": [105, 122], \"cluster_id\": null, \"strokewidth\": 1.0, \"strokedash\": [1, 0], \"strokeopacity\": 1.0, \"_order_helper\": 1}, {\"index\": 15, \"x\": 255.0, \"y\": 0.26457513110645964, \"fillcolor\": \"#8c564b\", \"id\": 229, \"children_id\": [105, 122], \"cluster_id\": null, \"strokewidth\": 1.0, \"strokedash\": [1, 0], \"strokeopacity\": 1.0, \"_order_helper\": 2}, {\"index\": 15, \"x\": 255.0, \"y\": 0.0, \"fillcolor\": \"#8c564b\", \"id\": 229, \"children_id\": [105, 122], \"cluster_id\": null, \"strokewidth\": 1.0, \"strokedash\": [1, 0], \"strokeopacity\": 1.0, \"_order_helper\": 3}, {\"index\": 16, \"x\": 235.0, \"y\": 0.0, \"fillcolor\": \"#8c564b\", \"id\": 277, \"children_id\": [118, 229], \"cluster_id\": null, \"strokewidth\": 1.0, \"strokedash\": [1, 0], \"strokeopacity\": 1.0, \"_order_helper\": 0}, {\"index\": 16, \"x\": 235.0, \"y\": 0.4123105625617659, \"fillcolor\": \"#8c564b\", \"id\": 277, \"children_id\": [118, 229], \"cluster_id\": null, \"strokewidth\": 1.0, \"strokedash\": [1, 0], \"strokeopacity\": 1.0, \"_order_helper\": 1}, {\"index\": 16, \"x\": 250.0, \"y\": 0.4123105625617659, \"fillcolor\": \"#8c564b\", \"id\": 277, \"children_id\": [118, 229], \"cluster_id\": null, \"strokewidth\": 1.0, \"strokedash\": [1, 0], \"strokeopacity\": 1.0, \"_order_helper\": 2}, {\"index\": 16, \"x\": 250.0, \"y\": 0.26457513110645964, \"fillcolor\": \"#8c564b\", \"id\": 277, \"children_id\": [118, 229], \"cluster_id\": null, \"strokewidth\": 1.0, \"strokedash\": [1, 0], \"strokeopacity\": 1.0, \"_order_helper\": 3}, {\"index\": 17, \"x\": 265.0, \"y\": 0.0, \"fillcolor\": \"#8c564b\", \"id\": 220, \"children_id\": [68, 87], \"cluster_id\": null, \"strokewidth\": 1.0, \"strokedash\": [1, 0], \"strokeopacity\": 1.0, \"_order_helper\": 0}, {\"index\": 17, \"x\": 265.0, \"y\": 0.26457513110645864, \"fillcolor\": \"#8c564b\", \"id\": 220, \"children_id\": [68, 87], \"cluster_id\": null, \"strokewidth\": 1.0, \"strokedash\": [1, 0], \"strokeopacity\": 1.0, \"_order_helper\": 1}, {\"index\": 17, \"x\": 275.0, \"y\": 0.26457513110645864, \"fillcolor\": \"#8c564b\", \"id\": 220, \"children_id\": [68, 87], \"cluster_id\": null, \"strokewidth\": 1.0, \"strokedash\": [1, 0], \"strokeopacity\": 1.0, \"_order_helper\": 2}, {\"index\": 17, \"x\": 275.0, \"y\": 0.0, \"fillcolor\": \"#8c564b\", \"id\": 220, \"children_id\": [68, 87], \"cluster_id\": null, \"strokewidth\": 1.0, \"strokedash\": [1, 0], \"strokeopacity\": 1.0, \"_order_helper\": 3}, {\"index\": 18, \"x\": 285.0, \"y\": 0.0, \"fillcolor\": \"#8c564b\", \"id\": 287, \"children_id\": [62, 286], \"cluster_id\": null, \"strokewidth\": 1.0, \"strokedash\": [1, 0], \"strokeopacity\": 1.0, \"_order_helper\": 0}, {\"index\": 18, \"x\": 285.0, \"y\": 0.4898979485566356, \"fillcolor\": \"#8c564b\", \"id\": 287, \"children_id\": [62, 286], \"cluster_id\": null, \"strokewidth\": 1.0, \"strokedash\": [1, 0], \"strokeopacity\": 1.0, \"_order_helper\": 1}, {\"index\": 18, \"x\": 295.0, \"y\": 0.4898979485566356, \"fillcolor\": \"#8c564b\", \"id\": 287, \"children_id\": [62, 286], \"cluster_id\": null, \"strokewidth\": 1.0, \"strokedash\": [1, 0], \"strokeopacity\": 1.0, \"_order_helper\": 2}, {\"index\": 18, \"x\": 295.0, \"y\": 0.0, \"fillcolor\": \"#8c564b\", \"id\": 287, \"children_id\": [62, 286], \"cluster_id\": null, \"strokewidth\": 1.0, \"strokedash\": [1, 0], \"strokeopacity\": 1.0, \"_order_helper\": 3}, {\"index\": 19, \"x\": 270.0, \"y\": 0.26457513110645864, \"fillcolor\": \"#8c564b\", \"id\": 288, \"children_id\": [220, 287], \"cluster_id\": null, \"strokewidth\": 1.0, \"strokedash\": [1, 0], \"strokeopacity\": 1.0, \"_order_helper\": 0}, {\"index\": 19, \"x\": 270.0, \"y\": 0.5099019513592786, \"fillcolor\": \"#8c564b\", \"id\": 288, \"children_id\": [220, 287], \"cluster_id\": null, \"strokewidth\": 1.0, \"strokedash\": [1, 0], \"strokeopacity\": 1.0, \"_order_helper\": 1}, {\"index\": 19, \"x\": 290.0, \"y\": 0.5099019513592786, \"fillcolor\": \"#8c564b\", \"id\": 288, \"children_id\": [220, 287], \"cluster_id\": null, \"strokewidth\": 1.0, \"strokedash\": [1, 0], \"strokeopacity\": 1.0, \"_order_helper\": 2}, {\"index\": 19, \"x\": 290.0, \"y\": 0.4898979485566356, \"fillcolor\": \"#8c564b\", \"id\": 288, \"children_id\": [220, 287], \"cluster_id\": null, \"strokewidth\": 1.0, \"strokedash\": [1, 0], \"strokeopacity\": 1.0, \"_order_helper\": 3}, {\"index\": 20, \"x\": 242.5, \"y\": 0.4123105625617659, \"fillcolor\": \"#8c564b\", \"id\": 289, \"children_id\": [277, 288], \"cluster_id\": null, \"strokewidth\": 1.0, \"strokedash\": [1, 0], \"strokeopacity\": 1.0, \"_order_helper\": 0}, {\"index\": 20, \"x\": 242.5, \"y\": 0.5291502622129179, \"fillcolor\": \"#8c564b\", \"id\": 289, \"children_id\": [277, 288], \"cluster_id\": null, \"strokewidth\": 1.0, \"strokedash\": [1, 0], \"strokeopacity\": 1.0, \"_order_helper\": 1}, {\"index\": 20, \"x\": 280.0, \"y\": 0.5291502622129179, \"fillcolor\": \"#8c564b\", \"id\": 289, \"children_id\": [277, 288], \"cluster_id\": null, \"strokewidth\": 1.0, \"strokedash\": [1, 0], \"strokeopacity\": 1.0, \"_order_helper\": 2}, {\"index\": 20, \"x\": 280.0, \"y\": 0.5099019513592786, \"fillcolor\": \"#8c564b\", \"id\": 289, \"children_id\": [277, 288], \"cluster_id\": null, \"strokewidth\": 1.0, \"strokedash\": [1, 0], \"strokeopacity\": 1.0, \"_order_helper\": 3}, {\"index\": 21, \"x\": 225.0, \"y\": 0.0, \"fillcolor\": \"#8c564b\", \"id\": 290, \"children_id\": [135, 289], \"cluster_id\": null, \"strokewidth\": 1.0, \"strokedash\": [1, 0], \"strokeopacity\": 1.0, \"_order_helper\": 0}, {\"index\": 21, \"x\": 225.0, \"y\": 0.5385164807134504, \"fillcolor\": \"#8c564b\", \"id\": 290, \"children_id\": [135, 289], \"cluster_id\": null, \"strokewidth\": 1.0, \"strokedash\": [1, 0], \"strokeopacity\": 1.0, \"_order_helper\": 1}, {\"index\": 21, \"x\": 261.25, \"y\": 0.5385164807134504, \"fillcolor\": \"#8c564b\", \"id\": 290, \"children_id\": [135, 289], \"cluster_id\": null, \"strokewidth\": 1.0, \"strokedash\": [1, 0], \"strokeopacity\": 1.0, \"_order_helper\": 2}, {\"index\": 21, \"x\": 261.25, \"y\": 0.5291502622129179, \"fillcolor\": \"#8c564b\", \"id\": 290, \"children_id\": [135, 289], \"cluster_id\": null, \"strokewidth\": 1.0, \"strokedash\": [1, 0], \"strokeopacity\": 1.0, \"_order_helper\": 3}, {\"index\": 22, \"x\": 215.0, \"y\": 0.0, \"fillcolor\": \"#8c564b\", \"id\": 291, \"children_id\": [134, 290], \"cluster_id\": null, \"strokewidth\": 1.0, \"strokedash\": [1, 0], \"strokeopacity\": 1.0, \"_order_helper\": 0}, {\"index\": 22, \"x\": 215.0, \"y\": 0.5385164807134505, \"fillcolor\": \"#8c564b\", \"id\": 291, \"children_id\": [134, 290], \"cluster_id\": null, \"strokewidth\": 1.0, \"strokedash\": [1, 0], \"strokeopacity\": 1.0, \"_order_helper\": 1}, {\"index\": 22, \"x\": 243.125, \"y\": 0.5385164807134505, \"fillcolor\": \"#8c564b\", \"id\": 291, \"children_id\": [134, 290], \"cluster_id\": null, \"strokewidth\": 1.0, \"strokedash\": [1, 0], \"strokeopacity\": 1.0, \"_order_helper\": 2}, {\"index\": 22, \"x\": 243.125, \"y\": 0.5385164807134504, \"fillcolor\": \"#8c564b\", \"id\": 291, \"children_id\": [134, 290], \"cluster_id\": null, \"strokewidth\": 1.0, \"strokedash\": [1, 0], \"strokeopacity\": 1.0, \"_order_helper\": 3}, {\"index\": 23, \"x\": 205.0, \"y\": 0.0, \"fillcolor\": \"#8c564b\", \"id\": 292, \"children_id\": [108, 291], \"cluster_id\": 5.0, \"strokewidth\": 1.0, \"strokedash\": [1, 0], \"strokeopacity\": 1.0, \"_order_helper\": 0}, {\"index\": 23, \"x\": 205.0, \"y\": 0.5567764362830021, \"fillcolor\": \"#8c564b\", \"id\": 292, \"children_id\": [108, 291], \"cluster_id\": 5.0, \"strokewidth\": 1.0, \"strokedash\": [1, 0], \"strokeopacity\": 1.0, \"_order_helper\": 1}, {\"index\": 23, \"x\": 229.0625, \"y\": 0.5567764362830021, \"fillcolor\": \"#8c564b\", \"id\": 292, \"children_id\": [108, 291], \"cluster_id\": 5.0, \"strokewidth\": 1.0, \"strokedash\": [1, 0], \"strokeopacity\": 1.0, \"_order_helper\": 2}, {\"index\": 23, \"x\": 229.0625, \"y\": 0.5385164807134505, \"fillcolor\": \"#8c564b\", \"id\": 292, \"children_id\": [108, 291], \"cluster_id\": 5.0, \"strokewidth\": 1.0, \"strokedash\": [1, 0], \"strokeopacity\": 1.0, \"_order_helper\": 3}, {\"index\": 24, \"x\": 195.0, \"y\": 0.0, \"fillcolor\": \"#1f77b4\", \"id\": 294, \"children_id\": [109, 292], \"cluster_id\": null, \"strokewidth\": 1.0, \"strokedash\": [1, 0], \"strokeopacity\": 1.0, \"_order_helper\": 0}, {\"index\": 24, \"x\": 195.0, \"y\": 0.6324555320336759, \"fillcolor\": \"#1f77b4\", \"id\": 294, \"children_id\": [109, 292], \"cluster_id\": null, \"strokewidth\": 1.0, \"strokedash\": [1, 0], \"strokeopacity\": 1.0, \"_order_helper\": 1}, {\"index\": 24, \"x\": 217.03125, \"y\": 0.6324555320336759, \"fillcolor\": \"#1f77b4\", \"id\": 294, \"children_id\": [109, 292], \"cluster_id\": null, \"strokewidth\": 1.0, \"strokedash\": [1, 0], \"strokeopacity\": 1.0, \"_order_helper\": 2}, {\"index\": 24, \"x\": 217.03125, \"y\": 0.5567764362830021, \"fillcolor\": \"#1f77b4\", \"id\": 294, \"children_id\": [109, 292], \"cluster_id\": null, \"strokewidth\": 1.0, \"strokedash\": [1, 0], \"strokeopacity\": 1.0, \"_order_helper\": 3}, {\"index\": 25, \"x\": 163.75, \"y\": 0.3872983346207412, \"fillcolor\": \"#1f77b4\", \"id\": 295, \"children_id\": [273, 294], \"cluster_id\": null, \"strokewidth\": 1.0, \"strokedash\": [1, 0], \"strokeopacity\": 1.0, \"_order_helper\": 0}, {\"index\": 25, \"x\": 163.75, \"y\": 0.6480740698407862, \"fillcolor\": \"#1f77b4\", \"id\": 295, \"children_id\": [273, 294], \"cluster_id\": null, \"strokewidth\": 1.0, \"strokedash\": [1, 0], \"strokeopacity\": 1.0, \"_order_helper\": 1}, {\"index\": 25, \"x\": 206.015625, \"y\": 0.6480740698407862, \"fillcolor\": \"#1f77b4\", \"id\": 295, \"children_id\": [273, 294], \"cluster_id\": null, \"strokewidth\": 1.0, \"strokedash\": [1, 0], \"strokeopacity\": 1.0, \"_order_helper\": 2}, {\"index\": 25, \"x\": 206.015625, \"y\": 0.6324555320336759, \"fillcolor\": \"#1f77b4\", \"id\": 295, \"children_id\": [273, 294], \"cluster_id\": null, \"strokewidth\": 1.0, \"strokedash\": [1, 0], \"strokeopacity\": 1.0, \"_order_helper\": 3}, {\"index\": 26, \"x\": 145.0, \"y\": 0.0, \"fillcolor\": \"#1f77b4\", \"id\": 296, \"children_id\": [106, 295], \"cluster_id\": null, \"strokewidth\": 1.0, \"strokedash\": [1, 0], \"strokeopacity\": 1.0, \"_order_helper\": 0}, {\"index\": 26, \"x\": 145.0, \"y\": 0.7348469228349535, \"fillcolor\": \"#1f77b4\", \"id\": 296, \"children_id\": [106, 295], \"cluster_id\": null, \"strokewidth\": 1.0, \"strokedash\": [1, 0], \"strokeopacity\": 1.0, \"_order_helper\": 1}, {\"index\": 26, \"x\": 184.8828125, \"y\": 0.7348469228349535, \"fillcolor\": \"#1f77b4\", \"id\": 296, \"children_id\": [106, 295], \"cluster_id\": null, \"strokewidth\": 1.0, \"strokedash\": [1, 0], \"strokeopacity\": 1.0, \"_order_helper\": 2}, {\"index\": 26, \"x\": 184.8828125, \"y\": 0.6480740698407862, \"fillcolor\": \"#1f77b4\", \"id\": 296, \"children_id\": [106, 295], \"cluster_id\": null, \"strokewidth\": 1.0, \"strokedash\": [1, 0], \"strokeopacity\": 1.0, \"_order_helper\": 3}, {\"index\": 27, \"x\": 130.0, \"y\": 0.4123105625617661, \"fillcolor\": \"#1f77b4\", \"id\": 297, \"children_id\": [279, 296], \"cluster_id\": null, \"strokewidth\": 1.0, \"strokedash\": [1, 0], \"strokeopacity\": 1.0, \"_order_helper\": 0}, {\"index\": 27, \"x\": 130.0, \"y\": 0.818535277187245, \"fillcolor\": \"#1f77b4\", \"id\": 297, \"children_id\": [279, 296], \"cluster_id\": null, \"strokewidth\": 1.0, \"strokedash\": [1, 0], \"strokeopacity\": 1.0, \"_order_helper\": 1}, {\"index\": 27, \"x\": 164.94140625, \"y\": 0.818535277187245, \"fillcolor\": \"#1f77b4\", \"id\": 297, \"children_id\": [279, 296], \"cluster_id\": null, \"strokewidth\": 1.0, \"strokedash\": [1, 0], \"strokeopacity\": 1.0, \"_order_helper\": 2}, {\"index\": 27, \"x\": 164.94140625, \"y\": 0.7348469228349535, \"fillcolor\": \"#1f77b4\", \"id\": 297, \"children_id\": [279, 296], \"cluster_id\": null, \"strokewidth\": 1.0, \"strokedash\": [1, 0], \"strokeopacity\": 1.0, \"_order_helper\": 3}, {\"index\": 28, \"x\": 15.01953125, \"y\": 0.6244997998398398, \"fillcolor\": \"#1f77b4\", \"id\": 298, \"children_id\": [293, 297], \"cluster_id\": null, \"strokewidth\": 1.0, \"strokedash\": [1, 0], \"strokeopacity\": 1.0, \"_order_helper\": 0}, {\"index\": 28, \"x\": 15.01953125, \"y\": 1.6401219466856727, \"fillcolor\": \"#1f77b4\", \"id\": 298, \"children_id\": [293, 297], \"cluster_id\": null, \"strokewidth\": 1.0, \"strokedash\": [1, 0], \"strokeopacity\": 1.0, \"_order_helper\": 1}, {\"index\": 28, \"x\": 147.470703125, \"y\": 1.6401219466856727, \"fillcolor\": \"#1f77b4\", \"id\": 298, \"children_id\": [293, 297], \"cluster_id\": null, \"strokewidth\": 1.0, \"strokedash\": [1, 0], \"strokeopacity\": 1.0, \"_order_helper\": 2}, {\"index\": 28, \"x\": 147.470703125, \"y\": 0.818535277187245, \"fillcolor\": \"#1f77b4\", \"id\": 298, \"children_id\": [293, 297], \"cluster_id\": null, \"strokewidth\": 1.0, \"strokedash\": [1, 0], \"strokeopacity\": 1.0, \"_order_helper\": 3}], \"data-3beba9715a4ff6277b28d5a447158baf\": [{\"x\": 5.0, \"y\": 0.0, \"type\": \"leaf-cluster\", \"id\": 41, \"cluster_id\": 2.0, \"edgecolor\": \"#2ca02c\", \"label\": \"2\", \"hovertext\": {\"# of items\": \"1\", \"linkage id\": 41}, \"fillcolor\": \"#2ca02c\", \"radius\": 7.0, \"opacity\": 1.0, \"labelsize\": 10.0, \"labelcolor\": \"#fff\", \"_default_leaf_radius\": 4.0, \"_default_leaf_radius_if_cluster\": 7.0, \"size\": 153.93804002589985}, {\"x\": 15.0, \"y\": 0.0, \"type\": \"leaf\", \"id\": 22, \"cluster_id\": null, \"edgecolor\": \"#ff7f0e\", \"label\": \"\", \"hovertext\": {\"# of items\": \"1\", \"linkage id\": 22}, \"fillcolor\": \"#ff7f0e\", \"radius\": 4.0, \"opacity\": 1.0, \"labelsize\": 10.0, \"labelcolor\": \"#fff\", \"_default_leaf_radius\": 4.0, \"_default_leaf_radius_if_cluster\": 7.0, \"size\": 50.26548245743669}, {\"x\": 25.0, \"y\": 0.0, \"type\": \"leaf\", \"id\": 14, \"cluster_id\": null, \"edgecolor\": \"#ff7f0e\", \"label\": \"\", \"hovertext\": {\"# of items\": \"1\", \"linkage id\": 14}, \"fillcolor\": \"#ff7f0e\", \"radius\": 4.0, \"opacity\": 1.0, \"labelsize\": 10.0, \"labelcolor\": \"#fff\", \"_default_leaf_radius\": 4.0, \"_default_leaf_radius_if_cluster\": 7.0, \"size\": 50.26548245743669}, {\"x\": 35.0, \"y\": 0.0, \"type\": \"leaf\", \"id\": 15, \"cluster_id\": null, \"edgecolor\": \"#ff7f0e\", \"label\": \"\", \"hovertext\": {\"# of items\": \"1\", \"linkage id\": 15}, \"fillcolor\": \"#ff7f0e\", \"radius\": 4.0, \"opacity\": 1.0, \"labelsize\": 10.0, \"labelcolor\": \"#fff\", \"_default_leaf_radius\": 4.0, \"_default_leaf_radius_if_cluster\": 7.0, \"size\": 50.26548245743669}, {\"x\": 45.0, \"y\": 0.0, \"type\": \"leaf\", \"id\": 44, \"cluster_id\": null, \"edgecolor\": \"#ff7f0e\", \"label\": \"\", \"hovertext\": {\"# of items\": \"1\", \"linkage id\": 44}, \"fillcolor\": \"#ff7f0e\", \"radius\": 4.0, \"opacity\": 1.0, \"labelsize\": 10.0, \"labelcolor\": \"#fff\", \"_default_leaf_radius\": 4.0, \"_default_leaf_radius_if_cluster\": 7.0, \"size\": 50.26548245743669}, {\"x\": 55.0, \"y\": 0.0, \"type\": \"leaf\", \"id\": 33, \"cluster_id\": null, \"edgecolor\": \"#ff7f0e\", \"label\": \"\", \"hovertext\": {\"# of items\": \"1\", \"linkage id\": 33}, \"fillcolor\": \"#ff7f0e\", \"radius\": 4.0, \"opacity\": 1.0, \"labelsize\": 10.0, \"labelcolor\": \"#fff\", \"_default_leaf_radius\": 4.0, \"_default_leaf_radius_if_cluster\": 7.0, \"size\": 50.26548245743669}, {\"x\": 65.0, \"y\": 0.0, \"type\": \"leaf\", \"id\": 32, \"cluster_id\": null, \"edgecolor\": \"#ff7f0e\", \"label\": \"\", \"hovertext\": {\"# of items\": \"1\", \"linkage id\": 32}, \"fillcolor\": \"#ff7f0e\", \"radius\": 4.0, \"opacity\": 1.0, \"labelsize\": 10.0, \"labelcolor\": \"#fff\", \"_default_leaf_radius\": 4.0, \"_default_leaf_radius_if_cluster\": 7.0, \"size\": 50.26548245743669}, {\"x\": 75.0, \"y\": 0.0, \"type\": \"leaf\", \"id\": 16, \"cluster_id\": null, \"edgecolor\": \"#ff7f0e\", \"label\": \"\", \"hovertext\": {\"# of items\": \"1\", \"linkage id\": 16}, \"fillcolor\": \"#ff7f0e\", \"radius\": 4.0, \"opacity\": 1.0, \"labelsize\": 10.0, \"labelcolor\": \"#fff\", \"_default_leaf_radius\": 4.0, \"_default_leaf_radius_if_cluster\": 7.0, \"size\": 50.26548245743669}, {\"x\": 85.0, \"y\": 0.0, \"type\": \"leaf\", \"id\": 231, \"cluster_id\": null, \"edgecolor\": \"#ff7f0e\", \"label\": \"\", \"hovertext\": {\"# of items\": \"2\", \"linkage id\": 231}, \"fillcolor\": \"#ff7f0e\", \"radius\": 4.0, \"opacity\": 1.0, \"labelsize\": 10.0, \"labelcolor\": \"#fff\", \"_default_leaf_radius\": 4.0, \"_default_leaf_radius_if_cluster\": 7.0, \"size\": 50.26548245743669}, {\"x\": 95.0, \"y\": 0.0, \"type\": \"leaf\", \"id\": 235, \"cluster_id\": null, \"edgecolor\": \"#ff7f0e\", \"label\": \"\", \"hovertext\": {\"# of items\": \"38\", \"linkage id\": 235}, \"fillcolor\": \"#ff7f0e\", \"radius\": 4.0, \"opacity\": 1.0, \"labelsize\": 10.0, \"labelcolor\": \"#fff\", \"_default_leaf_radius\": 4.0, \"_default_leaf_radius_if_cluster\": 7.0, \"size\": 50.26548245743669}, {\"x\": 105.0, \"y\": 0.0, \"type\": \"leaf\", \"id\": 5, \"cluster_id\": null, \"edgecolor\": \"#ff7f0e\", \"label\": \"\", \"hovertext\": {\"# of items\": \"1\", \"linkage id\": 5}, \"fillcolor\": \"#ff7f0e\", \"radius\": 4.0, \"opacity\": 1.0, \"labelsize\": 10.0, \"labelcolor\": \"#fff\", \"_default_leaf_radius\": 4.0, \"_default_leaf_radius_if_cluster\": 7.0, \"size\": 50.26548245743669}, {\"x\": 115.0, \"y\": 0.0, \"type\": \"leaf\", \"id\": 18, \"cluster_id\": null, \"edgecolor\": \"#ff7f0e\", \"label\": \"\", \"hovertext\": {\"# of items\": \"1\", \"linkage id\": 18}, \"fillcolor\": \"#ff7f0e\", \"radius\": 4.0, \"opacity\": 1.0, \"labelsize\": 10.0, \"labelcolor\": \"#fff\", \"_default_leaf_radius\": 4.0, \"_default_leaf_radius_if_cluster\": 7.0, \"size\": 50.26548245743669}, {\"x\": 125.0, \"y\": 0.0, \"type\": \"leaf\", \"id\": 117, \"cluster_id\": null, \"edgecolor\": \"#d62728\", \"label\": \"\", \"hovertext\": {\"# of items\": \"1\", \"linkage id\": 117}, \"fillcolor\": \"#d62728\", \"radius\": 4.0, \"opacity\": 1.0, \"labelsize\": 10.0, \"labelcolor\": \"#fff\", \"_default_leaf_radius\": 4.0, \"_default_leaf_radius_if_cluster\": 7.0, \"size\": 50.26548245743669}, {\"x\": 135.0, \"y\": 0.0, \"type\": \"leaf\", \"id\": 131, \"cluster_id\": null, \"edgecolor\": \"#d62728\", \"label\": \"\", \"hovertext\": {\"# of items\": \"1\", \"linkage id\": 131}, \"fillcolor\": \"#d62728\", \"radius\": 4.0, \"opacity\": 1.0, \"labelsize\": 10.0, \"labelcolor\": \"#fff\", \"_default_leaf_radius\": 4.0, \"_default_leaf_radius_if_cluster\": 7.0, \"size\": 50.26548245743669}, {\"x\": 145.0, \"y\": 0.0, \"type\": \"leaf-cluster\", \"id\": 106, \"cluster_id\": 7.0, \"edgecolor\": \"#7f7f7f\", \"label\": \"7\", \"hovertext\": {\"# of items\": \"1\", \"linkage id\": 106}, \"fillcolor\": \"#7f7f7f\", \"radius\": 7.0, \"opacity\": 1.0, \"labelsize\": 10.0, \"labelcolor\": \"#fff\", \"_default_leaf_radius\": 4.0, \"_default_leaf_radius_if_cluster\": 7.0, \"size\": 153.93804002589985}, {\"x\": 155.0, \"y\": 0.0, \"type\": \"leaf\", \"id\": 98, \"cluster_id\": null, \"edgecolor\": \"#9467bd\", \"label\": \"\", \"hovertext\": {\"# of items\": \"1\", \"linkage id\": 98}, \"fillcolor\": \"#9467bd\", \"radius\": 4.0, \"opacity\": 1.0, \"labelsize\": 10.0, \"labelcolor\": \"#fff\", \"_default_leaf_radius\": 4.0, \"_default_leaf_radius_if_cluster\": 7.0, \"size\": 50.26548245743669}, {\"x\": 165.0, \"y\": 0.0, \"type\": \"leaf\", \"id\": 60, \"cluster_id\": null, \"edgecolor\": \"#9467bd\", \"label\": \"\", \"hovertext\": {\"# of items\": \"1\", \"linkage id\": 60}, \"fillcolor\": \"#9467bd\", \"radius\": 4.0, \"opacity\": 1.0, \"labelsize\": 10.0, \"labelcolor\": \"#fff\", \"_default_leaf_radius\": 4.0, \"_default_leaf_radius_if_cluster\": 7.0, \"size\": 50.26548245743669}, {\"x\": 175.0, \"y\": 0.0, \"type\": \"leaf\", \"id\": 57, \"cluster_id\": null, \"edgecolor\": \"#9467bd\", \"label\": \"\", \"hovertext\": {\"# of items\": \"1\", \"linkage id\": 57}, \"fillcolor\": \"#9467bd\", \"radius\": 4.0, \"opacity\": 1.0, \"labelsize\": 10.0, \"labelcolor\": \"#fff\", \"_default_leaf_radius\": 4.0, \"_default_leaf_radius_if_cluster\": 7.0, \"size\": 50.26548245743669}, {\"x\": 185.0, \"y\": 0.0, \"type\": \"leaf\", \"id\": 93, \"cluster_id\": null, \"edgecolor\": \"#9467bd\", \"label\": \"\", \"hovertext\": {\"# of items\": \"1\", \"linkage id\": 93}, \"fillcolor\": \"#9467bd\", \"radius\": 4.0, \"opacity\": 1.0, \"labelsize\": 10.0, \"labelcolor\": \"#fff\", \"_default_leaf_radius\": 4.0, \"_default_leaf_radius_if_cluster\": 7.0, \"size\": 50.26548245743669}, {\"x\": 195.0, \"y\": 0.0, \"type\": \"leaf-cluster\", \"id\": 109, \"cluster_id\": 6.0, \"edgecolor\": \"#e377c2\", \"label\": \"6\", \"hovertext\": {\"# of items\": \"1\", \"linkage id\": 109}, \"fillcolor\": \"#e377c2\", \"radius\": 7.0, \"opacity\": 1.0, \"labelsize\": 10.0, \"labelcolor\": \"#fff\", \"_default_leaf_radius\": 4.0, \"_default_leaf_radius_if_cluster\": 7.0, \"size\": 153.93804002589985}, {\"x\": 205.0, \"y\": 0.0, \"type\": \"leaf\", \"id\": 108, \"cluster_id\": null, \"edgecolor\": \"#8c564b\", \"label\": \"\", \"hovertext\": {\"# of items\": \"1\", \"linkage id\": 108}, \"fillcolor\": \"#8c564b\", \"radius\": 4.0, \"opacity\": 1.0, \"labelsize\": 10.0, \"labelcolor\": \"#fff\", \"_default_leaf_radius\": 4.0, \"_default_leaf_radius_if_cluster\": 7.0, \"size\": 50.26548245743669}, {\"x\": 215.0, \"y\": 0.0, \"type\": \"leaf\", \"id\": 134, \"cluster_id\": null, \"edgecolor\": \"#8c564b\", \"label\": \"\", \"hovertext\": {\"# of items\": \"1\", \"linkage id\": 134}, \"fillcolor\": \"#8c564b\", \"radius\": 4.0, \"opacity\": 1.0, \"labelsize\": 10.0, \"labelcolor\": \"#fff\", \"_default_leaf_radius\": 4.0, \"_default_leaf_radius_if_cluster\": 7.0, \"size\": 50.26548245743669}, {\"x\": 225.0, \"y\": 0.0, \"type\": \"leaf\", \"id\": 135, \"cluster_id\": null, \"edgecolor\": \"#8c564b\", \"label\": \"\", \"hovertext\": {\"# of items\": \"1\", \"linkage id\": 135}, \"fillcolor\": \"#8c564b\", \"radius\": 4.0, \"opacity\": 1.0, \"labelsize\": 10.0, \"labelcolor\": \"#fff\", \"_default_leaf_radius\": 4.0, \"_default_leaf_radius_if_cluster\": 7.0, \"size\": 50.26548245743669}, {\"x\": 235.0, \"y\": 0.0, \"type\": \"leaf\", \"id\": 118, \"cluster_id\": null, \"edgecolor\": \"#8c564b\", \"label\": \"\", \"hovertext\": {\"# of items\": \"1\", \"linkage id\": 118}, \"fillcolor\": \"#8c564b\", \"radius\": 4.0, \"opacity\": 1.0, \"labelsize\": 10.0, \"labelcolor\": \"#fff\", \"_default_leaf_radius\": 4.0, \"_default_leaf_radius_if_cluster\": 7.0, \"size\": 50.26548245743669}, {\"x\": 245.0, \"y\": 0.0, \"type\": \"leaf\", \"id\": 105, \"cluster_id\": null, \"edgecolor\": \"#8c564b\", \"label\": \"\", \"hovertext\": {\"# of items\": \"1\", \"linkage id\": 105}, \"fillcolor\": \"#8c564b\", \"radius\": 4.0, \"opacity\": 1.0, \"labelsize\": 10.0, \"labelcolor\": \"#fff\", \"_default_leaf_radius\": 4.0, \"_default_leaf_radius_if_cluster\": 7.0, \"size\": 50.26548245743669}, {\"x\": 255.0, \"y\": 0.0, \"type\": \"leaf\", \"id\": 122, \"cluster_id\": null, \"edgecolor\": \"#8c564b\", \"label\": \"\", \"hovertext\": {\"# of items\": \"1\", \"linkage id\": 122}, \"fillcolor\": \"#8c564b\", \"radius\": 4.0, \"opacity\": 1.0, \"labelsize\": 10.0, \"labelcolor\": \"#fff\", \"_default_leaf_radius\": 4.0, \"_default_leaf_radius_if_cluster\": 7.0, \"size\": 50.26548245743669}, {\"x\": 265.0, \"y\": 0.0, \"type\": \"leaf\", \"id\": 68, \"cluster_id\": null, \"edgecolor\": \"#8c564b\", \"label\": \"\", \"hovertext\": {\"# of items\": \"1\", \"linkage id\": 68}, \"fillcolor\": \"#8c564b\", \"radius\": 4.0, \"opacity\": 1.0, \"labelsize\": 10.0, \"labelcolor\": \"#fff\", \"_default_leaf_radius\": 4.0, \"_default_leaf_radius_if_cluster\": 7.0, \"size\": 50.26548245743669}, {\"x\": 275.0, \"y\": 0.0, \"type\": \"leaf\", \"id\": 87, \"cluster_id\": null, \"edgecolor\": \"#8c564b\", \"label\": \"\", \"hovertext\": {\"# of items\": \"1\", \"linkage id\": 87}, \"fillcolor\": \"#8c564b\", \"radius\": 4.0, \"opacity\": 1.0, \"labelsize\": 10.0, \"labelcolor\": \"#fff\", \"_default_leaf_radius\": 4.0, \"_default_leaf_radius_if_cluster\": 7.0, \"size\": 50.26548245743669}, {\"x\": 285.0, \"y\": 0.0, \"type\": \"leaf\", \"id\": 62, \"cluster_id\": null, \"edgecolor\": \"#8c564b\", \"label\": \"\", \"hovertext\": {\"# of items\": \"1\", \"linkage id\": 62}, \"fillcolor\": \"#8c564b\", \"radius\": 4.0, \"opacity\": 1.0, \"labelsize\": 10.0, \"labelcolor\": \"#fff\", \"_default_leaf_radius\": 4.0, \"_default_leaf_radius_if_cluster\": 7.0, \"size\": 50.26548245743669}, {\"x\": 295.0, \"y\": 0.0, \"type\": \"leaf\", \"id\": 286, \"cluster_id\": null, \"edgecolor\": \"#8c564b\", \"label\": \"\", \"hovertext\": {\"# of items\": \"83\", \"linkage id\": 286}, \"fillcolor\": \"#8c564b\", \"radius\": 4.0, \"opacity\": 1.0, \"labelsize\": 10.0, \"labelcolor\": \"#fff\", \"_default_leaf_radius\": 4.0, \"_default_leaf_radius_if_cluster\": 7.0, \"size\": 50.26548245743669}, {\"x\": 90.0, \"y\": 0.3000000000000001, \"type\": \"subcluster\", \"id\": 236, \"cluster_id\": null, \"edgecolor\": \"#ff7f0e\", \"label\": \"\", \"hovertext\": {\"# of items\": \"40\", \"linkage id\": 236}, \"fillcolor\": \"#fff\", \"radius\": 7.0, \"opacity\": 1.0, \"labelsize\": 10.0, \"labelcolor\": \"#fff\", \"_default_leaf_radius\": 4.0, \"_default_leaf_radius_if_cluster\": 7.0, \"size\": 153.93804002589985}, {\"x\": 110.0, \"y\": 0.33166247903553986, \"type\": \"subcluster\", \"id\": 249, \"cluster_id\": null, \"edgecolor\": \"#ff7f0e\", \"label\": \"\", \"hovertext\": {\"# of items\": \"2\", \"linkage id\": 249}, \"fillcolor\": \"#fff\", \"radius\": 7.0, \"opacity\": 1.0, \"labelsize\": 10.0, \"labelcolor\": \"#fff\", \"_default_leaf_radius\": 4.0, \"_default_leaf_radius_if_cluster\": 7.0, \"size\": 153.93804002589985}, {\"x\": 100.0, \"y\": 0.3464101615137753, \"type\": \"subcluster\", \"id\": 255, \"cluster_id\": null, \"edgecolor\": \"#ff7f0e\", \"label\": \"\", \"hovertext\": {\"# of items\": \"42\", \"linkage id\": 255}, \"fillcolor\": \"#fff\", \"radius\": 7.0, \"opacity\": 1.0, \"labelsize\": 10.0, \"labelcolor\": \"#fff\", \"_default_leaf_radius\": 4.0, \"_default_leaf_radius_if_cluster\": 7.0, \"size\": 153.93804002589985}, {\"x\": 87.5, \"y\": 0.3464101615137753, \"type\": \"subcluster\", \"id\": 256, \"cluster_id\": null, \"edgecolor\": \"#ff7f0e\", \"label\": \"\", \"hovertext\": {\"# of items\": \"43\", \"linkage id\": 256}, \"fillcolor\": \"#fff\", \"radius\": 7.0, \"opacity\": 1.0, \"labelsize\": 10.0, \"labelcolor\": \"#fff\", \"_default_leaf_radius\": 4.0, \"_default_leaf_radius_if_cluster\": 7.0, \"size\": 153.93804002589985}, {\"x\": 76.25, \"y\": 0.3464101615137755, \"type\": \"subcluster\", \"id\": 258, \"cluster_id\": null, \"edgecolor\": \"#ff7f0e\", \"label\": \"\", \"hovertext\": {\"# of items\": \"44\", \"linkage id\": 258}, \"fillcolor\": \"#fff\", \"radius\": 7.0, \"opacity\": 1.0, \"labelsize\": 10.0, \"labelcolor\": \"#fff\", \"_default_leaf_radius\": 4.0, \"_default_leaf_radius_if_cluster\": 7.0, \"size\": 153.93804002589985}, {\"x\": 65.625, \"y\": 0.3464101615137755, \"type\": \"subcluster\", \"id\": 259, \"cluster_id\": null, \"edgecolor\": \"#ff7f0e\", \"label\": \"\", \"hovertext\": {\"# of items\": \"45\", \"linkage id\": 259}, \"fillcolor\": \"#fff\", \"radius\": 7.0, \"opacity\": 1.0, \"labelsize\": 10.0, \"labelcolor\": \"#fff\", \"_default_leaf_radius\": 4.0, \"_default_leaf_radius_if_cluster\": 7.0, \"size\": 153.93804002589985}, {\"x\": 55.3125, \"y\": 0.3605551275463988, \"type\": \"subcluster\", \"id\": 263, \"cluster_id\": null, \"edgecolor\": \"#ff7f0e\", \"label\": \"\", \"hovertext\": {\"# of items\": \"46\", \"linkage id\": 263}, \"fillcolor\": \"#fff\", \"radius\": 7.0, \"opacity\": 1.0, \"labelsize\": 10.0, \"labelcolor\": \"#fff\", \"_default_leaf_radius\": 4.0, \"_default_leaf_radius_if_cluster\": 7.0, \"size\": 153.93804002589985}, {\"x\": 45.15625, \"y\": 0.3605551275463992, \"type\": \"subcluster\", \"id\": 269, \"cluster_id\": null, \"edgecolor\": \"#ff7f0e\", \"label\": \"\", \"hovertext\": {\"# of items\": \"47\", \"linkage id\": 269}, \"fillcolor\": \"#fff\", \"radius\": 7.0, \"opacity\": 1.0, \"labelsize\": 10.0, \"labelcolor\": \"#fff\", \"_default_leaf_radius\": 4.0, \"_default_leaf_radius_if_cluster\": 7.0, \"size\": 153.93804002589985}, {\"x\": 35.078125, \"y\": 0.412310562561766, \"type\": \"subcluster\", \"id\": 278, \"cluster_id\": null, \"edgecolor\": \"#ff7f0e\", \"label\": \"\", \"hovertext\": {\"# of items\": \"48\", \"linkage id\": 278}, \"fillcolor\": \"#fff\", \"radius\": 7.0, \"opacity\": 1.0, \"labelsize\": 10.0, \"labelcolor\": \"#fff\", \"_default_leaf_radius\": 4.0, \"_default_leaf_radius_if_cluster\": 7.0, \"size\": 153.93804002589985}, {\"x\": 25.0390625, \"y\": 0.45825756949558394, \"type\": \"cluster\", \"id\": 285, \"cluster_id\": 1.0, \"edgecolor\": \"#ff7f0e\", \"label\": \"1\", \"hovertext\": {\"# of items\": \"49\", \"linkage id\": 285}, \"fillcolor\": \"#ff7f0e\", \"radius\": 7.0, \"opacity\": 1.0, \"labelsize\": 10.0, \"labelcolor\": \"#fff\", \"_default_leaf_radius\": 4.0, \"_default_leaf_radius_if_cluster\": 7.0, \"size\": 153.93804002589985}, {\"x\": 15.01953125, \"y\": 0.6244997998398398, \"type\": \"supercluster\", \"id\": 293, \"cluster_id\": null, \"edgecolor\": \"#1f77b4\", \"label\": \"\", \"hovertext\": {\"# of items\": \"50\", \"linkage id\": 293}, \"fillcolor\": \"#1f77b4\", \"radius\": 7.0, \"opacity\": 1.0, \"labelsize\": 10.0, \"labelcolor\": \"#fff\", \"_default_leaf_radius\": 4.0, \"_default_leaf_radius_if_cluster\": 7.0, \"size\": 153.93804002589985}, {\"x\": 130.0, \"y\": 0.4123105625617661, \"type\": \"cluster\", \"id\": 279, \"cluster_id\": 3.0, \"edgecolor\": \"#d62728\", \"label\": \"3\", \"hovertext\": {\"# of items\": \"2\", \"linkage id\": 279}, \"fillcolor\": \"#d62728\", \"radius\": 7.0, \"opacity\": 1.0, \"labelsize\": 10.0, \"labelcolor\": \"#fff\", \"_default_leaf_radius\": 4.0, \"_default_leaf_radius_if_cluster\": 7.0, \"size\": 153.93804002589985}, {\"x\": 180.0, \"y\": 0.1414213562373093, \"type\": \"subcluster\", \"id\": 161, \"cluster_id\": null, \"edgecolor\": \"#9467bd\", \"label\": \"\", \"hovertext\": {\"# of items\": \"2\", \"linkage id\": 161}, \"fillcolor\": \"#fff\", \"radius\": 7.0, \"opacity\": 1.0, \"labelsize\": 10.0, \"labelcolor\": \"#fff\", \"_default_leaf_radius\": 4.0, \"_default_leaf_radius_if_cluster\": 7.0, \"size\": 153.93804002589985}, {\"x\": 172.5, \"y\": 0.3605551275463989, \"type\": \"subcluster\", \"id\": 265, \"cluster_id\": null, \"edgecolor\": \"#9467bd\", \"label\": \"\", \"hovertext\": {\"# of items\": \"3\", \"linkage id\": 265}, \"fillcolor\": \"#fff\", \"radius\": 7.0, \"opacity\": 1.0, \"labelsize\": 10.0, \"labelcolor\": \"#fff\", \"_default_leaf_radius\": 4.0, \"_default_leaf_radius_if_cluster\": 7.0, \"size\": 153.93804002589985}, {\"x\": 163.75, \"y\": 0.3872983346207412, \"type\": \"cluster\", \"id\": 273, \"cluster_id\": 4.0, \"edgecolor\": \"#9467bd\", \"label\": \"4\", \"hovertext\": {\"# of items\": \"4\", \"linkage id\": 273}, \"fillcolor\": \"#9467bd\", \"radius\": 7.0, \"opacity\": 1.0, \"labelsize\": 10.0, \"labelcolor\": \"#fff\", \"_default_leaf_radius\": 4.0, \"_default_leaf_radius_if_cluster\": 7.0, \"size\": 153.93804002589985}, {\"x\": 250.0, \"y\": 0.26457513110645964, \"type\": \"subcluster\", \"id\": 229, \"cluster_id\": null, \"edgecolor\": \"#8c564b\", \"label\": \"\", \"hovertext\": {\"# of items\": \"2\", \"linkage id\": 229}, \"fillcolor\": \"#fff\", \"radius\": 7.0, \"opacity\": 1.0, \"labelsize\": 10.0, \"labelcolor\": \"#fff\", \"_default_leaf_radius\": 4.0, \"_default_leaf_radius_if_cluster\": 7.0, \"size\": 153.93804002589985}, {\"x\": 242.5, \"y\": 0.4123105625617659, \"type\": \"subcluster\", \"id\": 277, \"cluster_id\": null, \"edgecolor\": \"#8c564b\", \"label\": \"\", \"hovertext\": {\"# of items\": \"3\", \"linkage id\": 277}, \"fillcolor\": \"#fff\", \"radius\": 7.0, \"opacity\": 1.0, \"labelsize\": 10.0, \"labelcolor\": \"#fff\", \"_default_leaf_radius\": 4.0, \"_default_leaf_radius_if_cluster\": 7.0, \"size\": 153.93804002589985}, {\"x\": 270.0, \"y\": 0.26457513110645864, \"type\": \"subcluster\", \"id\": 220, \"cluster_id\": null, \"edgecolor\": \"#8c564b\", \"label\": \"\", \"hovertext\": {\"# of items\": \"2\", \"linkage id\": 220}, \"fillcolor\": \"#fff\", \"radius\": 7.0, \"opacity\": 1.0, \"labelsize\": 10.0, \"labelcolor\": \"#fff\", \"_default_leaf_radius\": 4.0, \"_default_leaf_radius_if_cluster\": 7.0, \"size\": 153.93804002589985}, {\"x\": 290.0, \"y\": 0.4898979485566356, \"type\": \"subcluster\", \"id\": 287, \"cluster_id\": null, \"edgecolor\": \"#8c564b\", \"label\": \"\", \"hovertext\": {\"# of items\": \"84\", \"linkage id\": 287}, \"fillcolor\": \"#fff\", \"radius\": 7.0, \"opacity\": 1.0, \"labelsize\": 10.0, \"labelcolor\": \"#fff\", \"_default_leaf_radius\": 4.0, \"_default_leaf_radius_if_cluster\": 7.0, \"size\": 153.93804002589985}, {\"x\": 280.0, \"y\": 0.5099019513592786, \"type\": \"subcluster\", \"id\": 288, \"cluster_id\": null, \"edgecolor\": \"#8c564b\", \"label\": \"\", \"hovertext\": {\"# of items\": \"86\", \"linkage id\": 288}, \"fillcolor\": \"#fff\", \"radius\": 7.0, \"opacity\": 1.0, \"labelsize\": 10.0, \"labelcolor\": \"#fff\", \"_default_leaf_radius\": 4.0, \"_default_leaf_radius_if_cluster\": 7.0, \"size\": 153.93804002589985}, {\"x\": 261.25, \"y\": 0.5291502622129179, \"type\": \"subcluster\", \"id\": 289, \"cluster_id\": null, \"edgecolor\": \"#8c564b\", \"label\": \"\", \"hovertext\": {\"# of items\": \"89\", \"linkage id\": 289}, \"fillcolor\": \"#fff\", \"radius\": 7.0, \"opacity\": 1.0, \"labelsize\": 10.0, \"labelcolor\": \"#fff\", \"_default_leaf_radius\": 4.0, \"_default_leaf_radius_if_cluster\": 7.0, \"size\": 153.93804002589985}, {\"x\": 243.125, \"y\": 0.5385164807134504, \"type\": \"subcluster\", \"id\": 290, \"cluster_id\": null, \"edgecolor\": \"#8c564b\", \"label\": \"\", \"hovertext\": {\"# of items\": \"90\", \"linkage id\": 290}, \"fillcolor\": \"#fff\", \"radius\": 7.0, \"opacity\": 1.0, \"labelsize\": 10.0, \"labelcolor\": \"#fff\", \"_default_leaf_radius\": 4.0, \"_default_leaf_radius_if_cluster\": 7.0, \"size\": 153.93804002589985}, {\"x\": 229.0625, \"y\": 0.5385164807134505, \"type\": \"subcluster\", \"id\": 291, \"cluster_id\": null, \"edgecolor\": \"#8c564b\", \"label\": \"\", \"hovertext\": {\"# of items\": \"91\", \"linkage id\": 291}, \"fillcolor\": \"#fff\", \"radius\": 7.0, \"opacity\": 1.0, \"labelsize\": 10.0, \"labelcolor\": \"#fff\", \"_default_leaf_radius\": 4.0, \"_default_leaf_radius_if_cluster\": 7.0, \"size\": 153.93804002589985}, {\"x\": 217.03125, \"y\": 0.5567764362830021, \"type\": \"cluster\", \"id\": 292, \"cluster_id\": 5.0, \"edgecolor\": \"#8c564b\", \"label\": \"5\", \"hovertext\": {\"# of items\": \"92\", \"linkage id\": 292}, \"fillcolor\": \"#8c564b\", \"radius\": 7.0, \"opacity\": 1.0, \"labelsize\": 10.0, \"labelcolor\": \"#fff\", \"_default_leaf_radius\": 4.0, \"_default_leaf_radius_if_cluster\": 7.0, \"size\": 153.93804002589985}, {\"x\": 206.015625, \"y\": 0.6324555320336759, \"type\": \"supercluster\", \"id\": 294, \"cluster_id\": null, \"edgecolor\": \"#1f77b4\", \"label\": \"\", \"hovertext\": {\"# of items\": \"93\", \"linkage id\": 294}, \"fillcolor\": \"#1f77b4\", \"radius\": 7.0, \"opacity\": 1.0, \"labelsize\": 10.0, \"labelcolor\": \"#fff\", \"_default_leaf_radius\": 4.0, \"_default_leaf_radius_if_cluster\": 7.0, \"size\": 153.93804002589985}, {\"x\": 184.8828125, \"y\": 0.6480740698407862, \"type\": \"supercluster\", \"id\": 295, \"cluster_id\": null, \"edgecolor\": \"#1f77b4\", \"label\": \"\", \"hovertext\": {\"# of items\": \"97\", \"linkage id\": 295}, \"fillcolor\": \"#1f77b4\", \"radius\": 7.0, \"opacity\": 1.0, \"labelsize\": 10.0, \"labelcolor\": \"#fff\", \"_default_leaf_radius\": 4.0, \"_default_leaf_radius_if_cluster\": 7.0, \"size\": 153.93804002589985}, {\"x\": 164.94140625, \"y\": 0.7348469228349535, \"type\": \"supercluster\", \"id\": 296, \"cluster_id\": null, \"edgecolor\": \"#1f77b4\", \"label\": \"\", \"hovertext\": {\"# of items\": \"98\", \"linkage id\": 296}, \"fillcolor\": \"#1f77b4\", \"radius\": 7.0, \"opacity\": 1.0, \"labelsize\": 10.0, \"labelcolor\": \"#fff\", \"_default_leaf_radius\": 4.0, \"_default_leaf_radius_if_cluster\": 7.0, \"size\": 153.93804002589985}, {\"x\": 147.470703125, \"y\": 0.818535277187245, \"type\": \"supercluster\", \"id\": 297, \"cluster_id\": null, \"edgecolor\": \"#1f77b4\", \"label\": \"\", \"hovertext\": {\"# of items\": \"100\", \"linkage id\": 297}, \"fillcolor\": \"#1f77b4\", \"radius\": 7.0, \"opacity\": 1.0, \"labelsize\": 10.0, \"labelcolor\": \"#fff\", \"_default_leaf_radius\": 4.0, \"_default_leaf_radius_if_cluster\": 7.0, \"size\": 153.93804002589985}, {\"x\": 81.2451171875, \"y\": 1.6401219466856727, \"type\": \"supercluster\", \"id\": 298, \"cluster_id\": null, \"edgecolor\": \"#1f77b4\", \"label\": \"\", \"hovertext\": {\"# of items\": \"150\", \"linkage id\": 298}, \"fillcolor\": \"#1f77b4\", \"radius\": 7.0, \"opacity\": 1.0, \"labelsize\": 10.0, \"labelcolor\": \"#fff\", \"_default_leaf_radius\": 4.0, \"_default_leaf_radius_if_cluster\": 7.0, \"size\": 153.93804002589985}]}}, {\"mode\": \"vega-lite\"});\n",
       "</script>"
      ],
      "text/plain": [
       "alt.LayerChart(...)"
      ]
     },
     "execution_count": 18,
     "metadata": {},
     "output_type": "execute_result"
    }
   ],
   "source": [
    "#plot in Altair\n",
    "from idendro.targets.altair import to_altair\n",
    "\n",
    "to_altair(dendrogram=dendrogram, height=300, width=700)"
   ]
  },
  {
   "cell_type": "code",
   "execution_count": 30,
   "metadata": {},
   "outputs": [
    {
     "data": {
      "application/vnd.plotly.v1+json": {
       "config": {
        "plotlyServerURL": "https://plot.ly"
       },
       "data": [
        {
         "hoverinfo": "text",
         "line": {
          "color": "#ff7f0e",
          "dash": "1, 0",
          "width": 1
         },
         "mode": "lines",
         "opacity": 1,
         "type": "scatter",
         "x": [
          85,
          85,
          95,
          95
         ],
         "y": [
          0,
          0.3000000000000001,
          0.3000000000000001,
          0
         ]
        },
        {
         "hoverinfo": "text",
         "line": {
          "color": "#ff7f0e",
          "dash": "1, 0",
          "width": 1
         },
         "mode": "lines",
         "opacity": 1,
         "type": "scatter",
         "x": [
          105,
          105,
          115,
          115
         ],
         "y": [
          0,
          0.33166247903553986,
          0.33166247903553986,
          0
         ]
        },
        {
         "hoverinfo": "text",
         "line": {
          "color": "#ff7f0e",
          "dash": "1, 0",
          "width": 1
         },
         "mode": "lines",
         "opacity": 1,
         "type": "scatter",
         "x": [
          90,
          90,
          110,
          110
         ],
         "y": [
          0.3000000000000001,
          0.3464101615137753,
          0.3464101615137753,
          0.33166247903553986
         ]
        },
        {
         "hoverinfo": "text",
         "line": {
          "color": "#ff7f0e",
          "dash": "1, 0",
          "width": 1
         },
         "mode": "lines",
         "opacity": 1,
         "type": "scatter",
         "x": [
          75,
          75,
          100,
          100
         ],
         "y": [
          0,
          0.3464101615137753,
          0.3464101615137753,
          0.3464101615137753
         ]
        },
        {
         "hoverinfo": "text",
         "line": {
          "color": "#ff7f0e",
          "dash": "1, 0",
          "width": 1
         },
         "mode": "lines",
         "opacity": 1,
         "type": "scatter",
         "x": [
          65,
          65,
          87.5,
          87.5
         ],
         "y": [
          0,
          0.3464101615137755,
          0.3464101615137755,
          0.3464101615137753
         ]
        },
        {
         "hoverinfo": "text",
         "line": {
          "color": "#ff7f0e",
          "dash": "1, 0",
          "width": 1
         },
         "mode": "lines",
         "opacity": 1,
         "type": "scatter",
         "x": [
          55,
          55,
          76.25,
          76.25
         ],
         "y": [
          0,
          0.3464101615137755,
          0.3464101615137755,
          0.3464101615137755
         ]
        },
        {
         "hoverinfo": "text",
         "line": {
          "color": "#ff7f0e",
          "dash": "1, 0",
          "width": 1
         },
         "mode": "lines",
         "opacity": 1,
         "type": "scatter",
         "x": [
          45,
          45,
          65.625,
          65.625
         ],
         "y": [
          0,
          0.3605551275463988,
          0.3605551275463988,
          0.3464101615137755
         ]
        },
        {
         "hoverinfo": "text",
         "line": {
          "color": "#ff7f0e",
          "dash": "1, 0",
          "width": 1
         },
         "mode": "lines",
         "opacity": 1,
         "type": "scatter",
         "x": [
          35,
          35,
          55.3125,
          55.3125
         ],
         "y": [
          0,
          0.3605551275463992,
          0.3605551275463992,
          0.3605551275463988
         ]
        },
        {
         "hoverinfo": "text",
         "line": {
          "color": "#ff7f0e",
          "dash": "1, 0",
          "width": 1
         },
         "mode": "lines",
         "opacity": 1,
         "type": "scatter",
         "x": [
          25,
          25,
          45.15625,
          45.15625
         ],
         "y": [
          0,
          0.412310562561766,
          0.412310562561766,
          0.3605551275463992
         ]
        },
        {
         "hoverinfo": "text",
         "line": {
          "color": "#ff7f0e",
          "dash": "1, 0",
          "width": 1
         },
         "mode": "lines",
         "opacity": 1,
         "type": "scatter",
         "x": [
          15,
          15,
          35.078125,
          35.078125
         ],
         "y": [
          0,
          0.45825756949558394,
          0.45825756949558394,
          0.412310562561766
         ]
        },
        {
         "hoverinfo": "text",
         "line": {
          "color": "#1f77b4",
          "dash": "1, 0",
          "width": 1
         },
         "mode": "lines",
         "opacity": 1,
         "type": "scatter",
         "x": [
          5,
          5,
          25.0390625,
          25.0390625
         ],
         "y": [
          0,
          0.6244997998398398,
          0.6244997998398398,
          0.45825756949558394
         ]
        },
        {
         "hoverinfo": "text",
         "line": {
          "color": "#d62728",
          "dash": "1, 0",
          "width": 1
         },
         "mode": "lines",
         "opacity": 1,
         "type": "scatter",
         "x": [
          125,
          125,
          135,
          135
         ],
         "y": [
          0,
          0.4123105625617661,
          0.4123105625617661,
          0
         ]
        },
        {
         "hoverinfo": "text",
         "line": {
          "color": "#9467bd",
          "dash": "1, 0",
          "width": 1
         },
         "mode": "lines",
         "opacity": 1,
         "type": "scatter",
         "x": [
          175,
          175,
          185,
          185
         ],
         "y": [
          0,
          0.1414213562373093,
          0.1414213562373093,
          0
         ]
        },
        {
         "hoverinfo": "text",
         "line": {
          "color": "#9467bd",
          "dash": "1, 0",
          "width": 1
         },
         "mode": "lines",
         "opacity": 1,
         "type": "scatter",
         "x": [
          165,
          165,
          180,
          180
         ],
         "y": [
          0,
          0.3605551275463989,
          0.3605551275463989,
          0.1414213562373093
         ]
        },
        {
         "hoverinfo": "text",
         "line": {
          "color": "#9467bd",
          "dash": "1, 0",
          "width": 1
         },
         "mode": "lines",
         "opacity": 1,
         "type": "scatter",
         "x": [
          155,
          155,
          172.5,
          172.5
         ],
         "y": [
          0,
          0.3872983346207412,
          0.3872983346207412,
          0.3605551275463989
         ]
        },
        {
         "hoverinfo": "text",
         "line": {
          "color": "#8c564b",
          "dash": "1, 0",
          "width": 1
         },
         "mode": "lines",
         "opacity": 1,
         "type": "scatter",
         "x": [
          245,
          245,
          255,
          255
         ],
         "y": [
          0,
          0.26457513110645964,
          0.26457513110645964,
          0
         ]
        },
        {
         "hoverinfo": "text",
         "line": {
          "color": "#8c564b",
          "dash": "1, 0",
          "width": 1
         },
         "mode": "lines",
         "opacity": 1,
         "type": "scatter",
         "x": [
          235,
          235,
          250,
          250
         ],
         "y": [
          0,
          0.4123105625617659,
          0.4123105625617659,
          0.26457513110645964
         ]
        },
        {
         "hoverinfo": "text",
         "line": {
          "color": "#8c564b",
          "dash": "1, 0",
          "width": 1
         },
         "mode": "lines",
         "opacity": 1,
         "type": "scatter",
         "x": [
          265,
          265,
          275,
          275
         ],
         "y": [
          0,
          0.26457513110645864,
          0.26457513110645864,
          0
         ]
        },
        {
         "hoverinfo": "text",
         "line": {
          "color": "#8c564b",
          "dash": "1, 0",
          "width": 1
         },
         "mode": "lines",
         "opacity": 1,
         "type": "scatter",
         "x": [
          285,
          285,
          295,
          295
         ],
         "y": [
          0,
          0.4898979485566356,
          0.4898979485566356,
          0
         ]
        },
        {
         "hoverinfo": "text",
         "line": {
          "color": "#8c564b",
          "dash": "1, 0",
          "width": 1
         },
         "mode": "lines",
         "opacity": 1,
         "type": "scatter",
         "x": [
          270,
          270,
          290,
          290
         ],
         "y": [
          0.26457513110645864,
          0.5099019513592786,
          0.5099019513592786,
          0.4898979485566356
         ]
        },
        {
         "hoverinfo": "text",
         "line": {
          "color": "#8c564b",
          "dash": "1, 0",
          "width": 1
         },
         "mode": "lines",
         "opacity": 1,
         "type": "scatter",
         "x": [
          242.5,
          242.5,
          280,
          280
         ],
         "y": [
          0.4123105625617659,
          0.5291502622129179,
          0.5291502622129179,
          0.5099019513592786
         ]
        },
        {
         "hoverinfo": "text",
         "line": {
          "color": "#8c564b",
          "dash": "1, 0",
          "width": 1
         },
         "mode": "lines",
         "opacity": 1,
         "type": "scatter",
         "x": [
          225,
          225,
          261.25,
          261.25
         ],
         "y": [
          0,
          0.5385164807134504,
          0.5385164807134504,
          0.5291502622129179
         ]
        },
        {
         "hoverinfo": "text",
         "line": {
          "color": "#8c564b",
          "dash": "1, 0",
          "width": 1
         },
         "mode": "lines",
         "opacity": 1,
         "type": "scatter",
         "x": [
          215,
          215,
          243.125,
          243.125
         ],
         "y": [
          0,
          0.5385164807134505,
          0.5385164807134505,
          0.5385164807134504
         ]
        },
        {
         "hoverinfo": "text",
         "line": {
          "color": "#8c564b",
          "dash": "1, 0",
          "width": 1
         },
         "mode": "lines",
         "opacity": 1,
         "type": "scatter",
         "x": [
          205,
          205,
          229.0625,
          229.0625
         ],
         "y": [
          0,
          0.5567764362830021,
          0.5567764362830021,
          0.5385164807134505
         ]
        },
        {
         "hoverinfo": "text",
         "line": {
          "color": "#1f77b4",
          "dash": "1, 0",
          "width": 1
         },
         "mode": "lines",
         "opacity": 1,
         "type": "scatter",
         "x": [
          195,
          195,
          217.03125,
          217.03125
         ],
         "y": [
          0,
          0.6324555320336759,
          0.6324555320336759,
          0.5567764362830021
         ]
        },
        {
         "hoverinfo": "text",
         "line": {
          "color": "#1f77b4",
          "dash": "1, 0",
          "width": 1
         },
         "mode": "lines",
         "opacity": 1,
         "type": "scatter",
         "x": [
          163.75,
          163.75,
          206.015625,
          206.015625
         ],
         "y": [
          0.3872983346207412,
          0.6480740698407862,
          0.6480740698407862,
          0.6324555320336759
         ]
        },
        {
         "hoverinfo": "text",
         "line": {
          "color": "#1f77b4",
          "dash": "1, 0",
          "width": 1
         },
         "mode": "lines",
         "opacity": 1,
         "type": "scatter",
         "x": [
          145,
          145,
          184.8828125,
          184.8828125
         ],
         "y": [
          0,
          0.7348469228349535,
          0.7348469228349535,
          0.6480740698407862
         ]
        },
        {
         "hoverinfo": "text",
         "line": {
          "color": "#1f77b4",
          "dash": "1, 0",
          "width": 1
         },
         "mode": "lines",
         "opacity": 1,
         "type": "scatter",
         "x": [
          130,
          130,
          164.94140625,
          164.94140625
         ],
         "y": [
          0.4123105625617661,
          0.818535277187245,
          0.818535277187245,
          0.7348469228349535
         ]
        },
        {
         "hoverinfo": "text",
         "line": {
          "color": "#1f77b4",
          "dash": "1, 0",
          "width": 1
         },
         "mode": "lines",
         "opacity": 1,
         "type": "scatter",
         "x": [
          15.01953125,
          15.01953125,
          147.470703125,
          147.470703125
         ],
         "y": [
          0.6244997998398398,
          1.6401219466856727,
          1.6401219466856727,
          0.818535277187245
         ]
        },
        {
         "hoverinfo": "text",
         "hovertext": "<b># of items</b> : 1<br><b>linkage id</b> : 41",
         "marker": {
          "color": "#2ca02c",
          "line": {
           "color": "#2ca02c",
           "width": 2
          },
          "size": 14
         },
         "mode": "markers+text",
         "opacity": 1,
         "text": "2",
         "textfont": {
          "color": "#fff",
          "size": 10
         },
         "type": "scatter",
         "x": [
          5
         ],
         "y": [
          0
         ]
        },
        {
         "hoverinfo": "text",
         "hovertext": "<b># of items</b> : 1<br><b>linkage id</b> : 22",
         "marker": {
          "color": "#ff7f0e",
          "line": {
           "color": "#ff7f0e",
           "width": 2
          },
          "size": 8
         },
         "mode": "markers+text",
         "opacity": 1,
         "text": "",
         "textfont": {
          "color": "#fff",
          "size": 10
         },
         "type": "scatter",
         "x": [
          15
         ],
         "y": [
          0
         ]
        },
        {
         "hoverinfo": "text",
         "hovertext": "<b># of items</b> : 1<br><b>linkage id</b> : 14",
         "marker": {
          "color": "#ff7f0e",
          "line": {
           "color": "#ff7f0e",
           "width": 2
          },
          "size": 8
         },
         "mode": "markers+text",
         "opacity": 1,
         "text": "",
         "textfont": {
          "color": "#fff",
          "size": 10
         },
         "type": "scatter",
         "x": [
          25
         ],
         "y": [
          0
         ]
        },
        {
         "hoverinfo": "text",
         "hovertext": "<b># of items</b> : 1<br><b>linkage id</b> : 15",
         "marker": {
          "color": "#ff7f0e",
          "line": {
           "color": "#ff7f0e",
           "width": 2
          },
          "size": 8
         },
         "mode": "markers+text",
         "opacity": 1,
         "text": "",
         "textfont": {
          "color": "#fff",
          "size": 10
         },
         "type": "scatter",
         "x": [
          35
         ],
         "y": [
          0
         ]
        },
        {
         "hoverinfo": "text",
         "hovertext": "<b># of items</b> : 1<br><b>linkage id</b> : 44",
         "marker": {
          "color": "#ff7f0e",
          "line": {
           "color": "#ff7f0e",
           "width": 2
          },
          "size": 8
         },
         "mode": "markers+text",
         "opacity": 1,
         "text": "",
         "textfont": {
          "color": "#fff",
          "size": 10
         },
         "type": "scatter",
         "x": [
          45
         ],
         "y": [
          0
         ]
        },
        {
         "hoverinfo": "text",
         "hovertext": "<b># of items</b> : 1<br><b>linkage id</b> : 33",
         "marker": {
          "color": "#ff7f0e",
          "line": {
           "color": "#ff7f0e",
           "width": 2
          },
          "size": 8
         },
         "mode": "markers+text",
         "opacity": 1,
         "text": "",
         "textfont": {
          "color": "#fff",
          "size": 10
         },
         "type": "scatter",
         "x": [
          55
         ],
         "y": [
          0
         ]
        },
        {
         "hoverinfo": "text",
         "hovertext": "<b># of items</b> : 1<br><b>linkage id</b> : 32",
         "marker": {
          "color": "#ff7f0e",
          "line": {
           "color": "#ff7f0e",
           "width": 2
          },
          "size": 8
         },
         "mode": "markers+text",
         "opacity": 1,
         "text": "",
         "textfont": {
          "color": "#fff",
          "size": 10
         },
         "type": "scatter",
         "x": [
          65
         ],
         "y": [
          0
         ]
        },
        {
         "hoverinfo": "text",
         "hovertext": "<b># of items</b> : 1<br><b>linkage id</b> : 16",
         "marker": {
          "color": "#ff7f0e",
          "line": {
           "color": "#ff7f0e",
           "width": 2
          },
          "size": 8
         },
         "mode": "markers+text",
         "opacity": 1,
         "text": "",
         "textfont": {
          "color": "#fff",
          "size": 10
         },
         "type": "scatter",
         "x": [
          75
         ],
         "y": [
          0
         ]
        },
        {
         "hoverinfo": "text",
         "hovertext": "<b># of items</b> : 2<br><b>linkage id</b> : 231",
         "marker": {
          "color": "#ff7f0e",
          "line": {
           "color": "#ff7f0e",
           "width": 2
          },
          "size": 8
         },
         "mode": "markers+text",
         "opacity": 1,
         "text": "",
         "textfont": {
          "color": "#fff",
          "size": 10
         },
         "type": "scatter",
         "x": [
          85
         ],
         "y": [
          0
         ]
        },
        {
         "hoverinfo": "text",
         "hovertext": "<b># of items</b> : 38<br><b>linkage id</b> : 235",
         "marker": {
          "color": "#ff7f0e",
          "line": {
           "color": "#ff7f0e",
           "width": 2
          },
          "size": 8
         },
         "mode": "markers+text",
         "opacity": 1,
         "text": "",
         "textfont": {
          "color": "#fff",
          "size": 10
         },
         "type": "scatter",
         "x": [
          95
         ],
         "y": [
          0
         ]
        },
        {
         "hoverinfo": "text",
         "hovertext": "<b># of items</b> : 1<br><b>linkage id</b> : 5",
         "marker": {
          "color": "#ff7f0e",
          "line": {
           "color": "#ff7f0e",
           "width": 2
          },
          "size": 8
         },
         "mode": "markers+text",
         "opacity": 1,
         "text": "",
         "textfont": {
          "color": "#fff",
          "size": 10
         },
         "type": "scatter",
         "x": [
          105
         ],
         "y": [
          0
         ]
        },
        {
         "hoverinfo": "text",
         "hovertext": "<b># of items</b> : 1<br><b>linkage id</b> : 18",
         "marker": {
          "color": "#ff7f0e",
          "line": {
           "color": "#ff7f0e",
           "width": 2
          },
          "size": 8
         },
         "mode": "markers+text",
         "opacity": 1,
         "text": "",
         "textfont": {
          "color": "#fff",
          "size": 10
         },
         "type": "scatter",
         "x": [
          115
         ],
         "y": [
          0
         ]
        },
        {
         "hoverinfo": "text",
         "hovertext": "<b># of items</b> : 1<br><b>linkage id</b> : 117",
         "marker": {
          "color": "#d62728",
          "line": {
           "color": "#d62728",
           "width": 2
          },
          "size": 8
         },
         "mode": "markers+text",
         "opacity": 1,
         "text": "",
         "textfont": {
          "color": "#fff",
          "size": 10
         },
         "type": "scatter",
         "x": [
          125
         ],
         "y": [
          0
         ]
        },
        {
         "hoverinfo": "text",
         "hovertext": "<b># of items</b> : 1<br><b>linkage id</b> : 131",
         "marker": {
          "color": "#d62728",
          "line": {
           "color": "#d62728",
           "width": 2
          },
          "size": 8
         },
         "mode": "markers+text",
         "opacity": 1,
         "text": "",
         "textfont": {
          "color": "#fff",
          "size": 10
         },
         "type": "scatter",
         "x": [
          135
         ],
         "y": [
          0
         ]
        },
        {
         "hoverinfo": "text",
         "hovertext": "<b># of items</b> : 1<br><b>linkage id</b> : 106",
         "marker": {
          "color": "#7f7f7f",
          "line": {
           "color": "#7f7f7f",
           "width": 2
          },
          "size": 14
         },
         "mode": "markers+text",
         "opacity": 1,
         "text": "7",
         "textfont": {
          "color": "#fff",
          "size": 10
         },
         "type": "scatter",
         "x": [
          145
         ],
         "y": [
          0
         ]
        },
        {
         "hoverinfo": "text",
         "hovertext": "<b># of items</b> : 1<br><b>linkage id</b> : 98",
         "marker": {
          "color": "#9467bd",
          "line": {
           "color": "#9467bd",
           "width": 2
          },
          "size": 8
         },
         "mode": "markers+text",
         "opacity": 1,
         "text": "",
         "textfont": {
          "color": "#fff",
          "size": 10
         },
         "type": "scatter",
         "x": [
          155
         ],
         "y": [
          0
         ]
        },
        {
         "hoverinfo": "text",
         "hovertext": "<b># of items</b> : 1<br><b>linkage id</b> : 60",
         "marker": {
          "color": "#9467bd",
          "line": {
           "color": "#9467bd",
           "width": 2
          },
          "size": 8
         },
         "mode": "markers+text",
         "opacity": 1,
         "text": "",
         "textfont": {
          "color": "#fff",
          "size": 10
         },
         "type": "scatter",
         "x": [
          165
         ],
         "y": [
          0
         ]
        },
        {
         "hoverinfo": "text",
         "hovertext": "<b># of items</b> : 1<br><b>linkage id</b> : 57",
         "marker": {
          "color": "#9467bd",
          "line": {
           "color": "#9467bd",
           "width": 2
          },
          "size": 8
         },
         "mode": "markers+text",
         "opacity": 1,
         "text": "",
         "textfont": {
          "color": "#fff",
          "size": 10
         },
         "type": "scatter",
         "x": [
          175
         ],
         "y": [
          0
         ]
        },
        {
         "hoverinfo": "text",
         "hovertext": "<b># of items</b> : 1<br><b>linkage id</b> : 93",
         "marker": {
          "color": "#9467bd",
          "line": {
           "color": "#9467bd",
           "width": 2
          },
          "size": 8
         },
         "mode": "markers+text",
         "opacity": 1,
         "text": "",
         "textfont": {
          "color": "#fff",
          "size": 10
         },
         "type": "scatter",
         "x": [
          185
         ],
         "y": [
          0
         ]
        },
        {
         "hoverinfo": "text",
         "hovertext": "<b># of items</b> : 1<br><b>linkage id</b> : 109",
         "marker": {
          "color": "#e377c2",
          "line": {
           "color": "#e377c2",
           "width": 2
          },
          "size": 14
         },
         "mode": "markers+text",
         "opacity": 1,
         "text": "6",
         "textfont": {
          "color": "#fff",
          "size": 10
         },
         "type": "scatter",
         "x": [
          195
         ],
         "y": [
          0
         ]
        },
        {
         "hoverinfo": "text",
         "hovertext": "<b># of items</b> : 1<br><b>linkage id</b> : 108",
         "marker": {
          "color": "#8c564b",
          "line": {
           "color": "#8c564b",
           "width": 2
          },
          "size": 8
         },
         "mode": "markers+text",
         "opacity": 1,
         "text": "",
         "textfont": {
          "color": "#fff",
          "size": 10
         },
         "type": "scatter",
         "x": [
          205
         ],
         "y": [
          0
         ]
        },
        {
         "hoverinfo": "text",
         "hovertext": "<b># of items</b> : 1<br><b>linkage id</b> : 134",
         "marker": {
          "color": "#8c564b",
          "line": {
           "color": "#8c564b",
           "width": 2
          },
          "size": 8
         },
         "mode": "markers+text",
         "opacity": 1,
         "text": "",
         "textfont": {
          "color": "#fff",
          "size": 10
         },
         "type": "scatter",
         "x": [
          215
         ],
         "y": [
          0
         ]
        },
        {
         "hoverinfo": "text",
         "hovertext": "<b># of items</b> : 1<br><b>linkage id</b> : 135",
         "marker": {
          "color": "#8c564b",
          "line": {
           "color": "#8c564b",
           "width": 2
          },
          "size": 8
         },
         "mode": "markers+text",
         "opacity": 1,
         "text": "",
         "textfont": {
          "color": "#fff",
          "size": 10
         },
         "type": "scatter",
         "x": [
          225
         ],
         "y": [
          0
         ]
        },
        {
         "hoverinfo": "text",
         "hovertext": "<b># of items</b> : 1<br><b>linkage id</b> : 118",
         "marker": {
          "color": "#8c564b",
          "line": {
           "color": "#8c564b",
           "width": 2
          },
          "size": 8
         },
         "mode": "markers+text",
         "opacity": 1,
         "text": "",
         "textfont": {
          "color": "#fff",
          "size": 10
         },
         "type": "scatter",
         "x": [
          235
         ],
         "y": [
          0
         ]
        },
        {
         "hoverinfo": "text",
         "hovertext": "<b># of items</b> : 1<br><b>linkage id</b> : 105",
         "marker": {
          "color": "#8c564b",
          "line": {
           "color": "#8c564b",
           "width": 2
          },
          "size": 8
         },
         "mode": "markers+text",
         "opacity": 1,
         "text": "",
         "textfont": {
          "color": "#fff",
          "size": 10
         },
         "type": "scatter",
         "x": [
          245
         ],
         "y": [
          0
         ]
        },
        {
         "hoverinfo": "text",
         "hovertext": "<b># of items</b> : 1<br><b>linkage id</b> : 122",
         "marker": {
          "color": "#8c564b",
          "line": {
           "color": "#8c564b",
           "width": 2
          },
          "size": 8
         },
         "mode": "markers+text",
         "opacity": 1,
         "text": "",
         "textfont": {
          "color": "#fff",
          "size": 10
         },
         "type": "scatter",
         "x": [
          255
         ],
         "y": [
          0
         ]
        },
        {
         "hoverinfo": "text",
         "hovertext": "<b># of items</b> : 1<br><b>linkage id</b> : 68",
         "marker": {
          "color": "#8c564b",
          "line": {
           "color": "#8c564b",
           "width": 2
          },
          "size": 8
         },
         "mode": "markers+text",
         "opacity": 1,
         "text": "",
         "textfont": {
          "color": "#fff",
          "size": 10
         },
         "type": "scatter",
         "x": [
          265
         ],
         "y": [
          0
         ]
        },
        {
         "hoverinfo": "text",
         "hovertext": "<b># of items</b> : 1<br><b>linkage id</b> : 87",
         "marker": {
          "color": "#8c564b",
          "line": {
           "color": "#8c564b",
           "width": 2
          },
          "size": 8
         },
         "mode": "markers+text",
         "opacity": 1,
         "text": "",
         "textfont": {
          "color": "#fff",
          "size": 10
         },
         "type": "scatter",
         "x": [
          275
         ],
         "y": [
          0
         ]
        },
        {
         "hoverinfo": "text",
         "hovertext": "<b># of items</b> : 1<br><b>linkage id</b> : 62",
         "marker": {
          "color": "#8c564b",
          "line": {
           "color": "#8c564b",
           "width": 2
          },
          "size": 8
         },
         "mode": "markers+text",
         "opacity": 1,
         "text": "",
         "textfont": {
          "color": "#fff",
          "size": 10
         },
         "type": "scatter",
         "x": [
          285
         ],
         "y": [
          0
         ]
        },
        {
         "hoverinfo": "text",
         "hovertext": "<b># of items</b> : 83<br><b>linkage id</b> : 286",
         "marker": {
          "color": "#8c564b",
          "line": {
           "color": "#8c564b",
           "width": 2
          },
          "size": 8
         },
         "mode": "markers+text",
         "opacity": 1,
         "text": "",
         "textfont": {
          "color": "#fff",
          "size": 10
         },
         "type": "scatter",
         "x": [
          295
         ],
         "y": [
          0
         ]
        },
        {
         "hoverinfo": "text",
         "hovertext": "<b># of items</b> : 40<br><b>linkage id</b> : 236",
         "marker": {
          "color": "#fff",
          "line": {
           "color": "#ff7f0e",
           "width": 2
          },
          "size": 14
         },
         "mode": "markers+text",
         "opacity": 1,
         "text": "",
         "textfont": {
          "color": "#fff",
          "size": 10
         },
         "type": "scatter",
         "x": [
          90
         ],
         "y": [
          0.3000000000000001
         ]
        },
        {
         "hoverinfo": "text",
         "hovertext": "<b># of items</b> : 2<br><b>linkage id</b> : 249",
         "marker": {
          "color": "#fff",
          "line": {
           "color": "#ff7f0e",
           "width": 2
          },
          "size": 14
         },
         "mode": "markers+text",
         "opacity": 1,
         "text": "",
         "textfont": {
          "color": "#fff",
          "size": 10
         },
         "type": "scatter",
         "x": [
          110
         ],
         "y": [
          0.33166247903553986
         ]
        },
        {
         "hoverinfo": "text",
         "hovertext": "<b># of items</b> : 42<br><b>linkage id</b> : 255",
         "marker": {
          "color": "#fff",
          "line": {
           "color": "#ff7f0e",
           "width": 2
          },
          "size": 14
         },
         "mode": "markers+text",
         "opacity": 1,
         "text": "",
         "textfont": {
          "color": "#fff",
          "size": 10
         },
         "type": "scatter",
         "x": [
          100
         ],
         "y": [
          0.3464101615137753
         ]
        },
        {
         "hoverinfo": "text",
         "hovertext": "<b># of items</b> : 43<br><b>linkage id</b> : 256",
         "marker": {
          "color": "#fff",
          "line": {
           "color": "#ff7f0e",
           "width": 2
          },
          "size": 14
         },
         "mode": "markers+text",
         "opacity": 1,
         "text": "",
         "textfont": {
          "color": "#fff",
          "size": 10
         },
         "type": "scatter",
         "x": [
          87.5
         ],
         "y": [
          0.3464101615137753
         ]
        },
        {
         "hoverinfo": "text",
         "hovertext": "<b># of items</b> : 44<br><b>linkage id</b> : 258",
         "marker": {
          "color": "#fff",
          "line": {
           "color": "#ff7f0e",
           "width": 2
          },
          "size": 14
         },
         "mode": "markers+text",
         "opacity": 1,
         "text": "",
         "textfont": {
          "color": "#fff",
          "size": 10
         },
         "type": "scatter",
         "x": [
          76.25
         ],
         "y": [
          0.3464101615137755
         ]
        },
        {
         "hoverinfo": "text",
         "hovertext": "<b># of items</b> : 45<br><b>linkage id</b> : 259",
         "marker": {
          "color": "#fff",
          "line": {
           "color": "#ff7f0e",
           "width": 2
          },
          "size": 14
         },
         "mode": "markers+text",
         "opacity": 1,
         "text": "",
         "textfont": {
          "color": "#fff",
          "size": 10
         },
         "type": "scatter",
         "x": [
          65.625
         ],
         "y": [
          0.3464101615137755
         ]
        },
        {
         "hoverinfo": "text",
         "hovertext": "<b># of items</b> : 46<br><b>linkage id</b> : 263",
         "marker": {
          "color": "#fff",
          "line": {
           "color": "#ff7f0e",
           "width": 2
          },
          "size": 14
         },
         "mode": "markers+text",
         "opacity": 1,
         "text": "",
         "textfont": {
          "color": "#fff",
          "size": 10
         },
         "type": "scatter",
         "x": [
          55.3125
         ],
         "y": [
          0.3605551275463988
         ]
        },
        {
         "hoverinfo": "text",
         "hovertext": "<b># of items</b> : 47<br><b>linkage id</b> : 269",
         "marker": {
          "color": "#fff",
          "line": {
           "color": "#ff7f0e",
           "width": 2
          },
          "size": 14
         },
         "mode": "markers+text",
         "opacity": 1,
         "text": "",
         "textfont": {
          "color": "#fff",
          "size": 10
         },
         "type": "scatter",
         "x": [
          45.15625
         ],
         "y": [
          0.3605551275463992
         ]
        },
        {
         "hoverinfo": "text",
         "hovertext": "<b># of items</b> : 48<br><b>linkage id</b> : 278",
         "marker": {
          "color": "#fff",
          "line": {
           "color": "#ff7f0e",
           "width": 2
          },
          "size": 14
         },
         "mode": "markers+text",
         "opacity": 1,
         "text": "",
         "textfont": {
          "color": "#fff",
          "size": 10
         },
         "type": "scatter",
         "x": [
          35.078125
         ],
         "y": [
          0.412310562561766
         ]
        },
        {
         "hoverinfo": "text",
         "hovertext": "<b># of items</b> : 49<br><b>linkage id</b> : 285",
         "marker": {
          "color": "#ff7f0e",
          "line": {
           "color": "#ff7f0e",
           "width": 2
          },
          "size": 14
         },
         "mode": "markers+text",
         "opacity": 1,
         "text": "1",
         "textfont": {
          "color": "#fff",
          "size": 10
         },
         "type": "scatter",
         "x": [
          25.0390625
         ],
         "y": [
          0.45825756949558394
         ]
        },
        {
         "hoverinfo": "text",
         "hovertext": "<b># of items</b> : 50<br><b>linkage id</b> : 293",
         "marker": {
          "color": "#1f77b4",
          "line": {
           "color": "#1f77b4",
           "width": 2
          },
          "size": 14
         },
         "mode": "markers+text",
         "opacity": 1,
         "text": "",
         "textfont": {
          "color": "#fff",
          "size": 10
         },
         "type": "scatter",
         "x": [
          15.01953125
         ],
         "y": [
          0.6244997998398398
         ]
        },
        {
         "hoverinfo": "text",
         "hovertext": "<b># of items</b> : 2<br><b>linkage id</b> : 279",
         "marker": {
          "color": "#d62728",
          "line": {
           "color": "#d62728",
           "width": 2
          },
          "size": 14
         },
         "mode": "markers+text",
         "opacity": 1,
         "text": "3",
         "textfont": {
          "color": "#fff",
          "size": 10
         },
         "type": "scatter",
         "x": [
          130
         ],
         "y": [
          0.4123105625617661
         ]
        },
        {
         "hoverinfo": "text",
         "hovertext": "<b># of items</b> : 2<br><b>linkage id</b> : 161",
         "marker": {
          "color": "#fff",
          "line": {
           "color": "#9467bd",
           "width": 2
          },
          "size": 14
         },
         "mode": "markers+text",
         "opacity": 1,
         "text": "",
         "textfont": {
          "color": "#fff",
          "size": 10
         },
         "type": "scatter",
         "x": [
          180
         ],
         "y": [
          0.1414213562373093
         ]
        },
        {
         "hoverinfo": "text",
         "hovertext": "<b># of items</b> : 3<br><b>linkage id</b> : 265",
         "marker": {
          "color": "#fff",
          "line": {
           "color": "#9467bd",
           "width": 2
          },
          "size": 14
         },
         "mode": "markers+text",
         "opacity": 1,
         "text": "",
         "textfont": {
          "color": "#fff",
          "size": 10
         },
         "type": "scatter",
         "x": [
          172.5
         ],
         "y": [
          0.3605551275463989
         ]
        },
        {
         "hoverinfo": "text",
         "hovertext": "<b># of items</b> : 4<br><b>linkage id</b> : 273",
         "marker": {
          "color": "#9467bd",
          "line": {
           "color": "#9467bd",
           "width": 2
          },
          "size": 14
         },
         "mode": "markers+text",
         "opacity": 1,
         "text": "4",
         "textfont": {
          "color": "#fff",
          "size": 10
         },
         "type": "scatter",
         "x": [
          163.75
         ],
         "y": [
          0.3872983346207412
         ]
        },
        {
         "hoverinfo": "text",
         "hovertext": "<b># of items</b> : 2<br><b>linkage id</b> : 229",
         "marker": {
          "color": "#fff",
          "line": {
           "color": "#8c564b",
           "width": 2
          },
          "size": 14
         },
         "mode": "markers+text",
         "opacity": 1,
         "text": "",
         "textfont": {
          "color": "#fff",
          "size": 10
         },
         "type": "scatter",
         "x": [
          250
         ],
         "y": [
          0.26457513110645964
         ]
        },
        {
         "hoverinfo": "text",
         "hovertext": "<b># of items</b> : 3<br><b>linkage id</b> : 277",
         "marker": {
          "color": "#fff",
          "line": {
           "color": "#8c564b",
           "width": 2
          },
          "size": 14
         },
         "mode": "markers+text",
         "opacity": 1,
         "text": "",
         "textfont": {
          "color": "#fff",
          "size": 10
         },
         "type": "scatter",
         "x": [
          242.5
         ],
         "y": [
          0.4123105625617659
         ]
        },
        {
         "hoverinfo": "text",
         "hovertext": "<b># of items</b> : 2<br><b>linkage id</b> : 220",
         "marker": {
          "color": "#fff",
          "line": {
           "color": "#8c564b",
           "width": 2
          },
          "size": 14
         },
         "mode": "markers+text",
         "opacity": 1,
         "text": "",
         "textfont": {
          "color": "#fff",
          "size": 10
         },
         "type": "scatter",
         "x": [
          270
         ],
         "y": [
          0.26457513110645864
         ]
        },
        {
         "hoverinfo": "text",
         "hovertext": "<b># of items</b> : 84<br><b>linkage id</b> : 287",
         "marker": {
          "color": "#fff",
          "line": {
           "color": "#8c564b",
           "width": 2
          },
          "size": 14
         },
         "mode": "markers+text",
         "opacity": 1,
         "text": "",
         "textfont": {
          "color": "#fff",
          "size": 10
         },
         "type": "scatter",
         "x": [
          290
         ],
         "y": [
          0.4898979485566356
         ]
        },
        {
         "hoverinfo": "text",
         "hovertext": "<b># of items</b> : 86<br><b>linkage id</b> : 288",
         "marker": {
          "color": "#fff",
          "line": {
           "color": "#8c564b",
           "width": 2
          },
          "size": 14
         },
         "mode": "markers+text",
         "opacity": 1,
         "text": "",
         "textfont": {
          "color": "#fff",
          "size": 10
         },
         "type": "scatter",
         "x": [
          280
         ],
         "y": [
          0.5099019513592786
         ]
        },
        {
         "hoverinfo": "text",
         "hovertext": "<b># of items</b> : 89<br><b>linkage id</b> : 289",
         "marker": {
          "color": "#fff",
          "line": {
           "color": "#8c564b",
           "width": 2
          },
          "size": 14
         },
         "mode": "markers+text",
         "opacity": 1,
         "text": "",
         "textfont": {
          "color": "#fff",
          "size": 10
         },
         "type": "scatter",
         "x": [
          261.25
         ],
         "y": [
          0.5291502622129179
         ]
        },
        {
         "hoverinfo": "text",
         "hovertext": "<b># of items</b> : 90<br><b>linkage id</b> : 290",
         "marker": {
          "color": "#fff",
          "line": {
           "color": "#8c564b",
           "width": 2
          },
          "size": 14
         },
         "mode": "markers+text",
         "opacity": 1,
         "text": "",
         "textfont": {
          "color": "#fff",
          "size": 10
         },
         "type": "scatter",
         "x": [
          243.125
         ],
         "y": [
          0.5385164807134504
         ]
        },
        {
         "hoverinfo": "text",
         "hovertext": "<b># of items</b> : 91<br><b>linkage id</b> : 291",
         "marker": {
          "color": "#fff",
          "line": {
           "color": "#8c564b",
           "width": 2
          },
          "size": 14
         },
         "mode": "markers+text",
         "opacity": 1,
         "text": "",
         "textfont": {
          "color": "#fff",
          "size": 10
         },
         "type": "scatter",
         "x": [
          229.0625
         ],
         "y": [
          0.5385164807134505
         ]
        },
        {
         "hoverinfo": "text",
         "hovertext": "<b># of items</b> : 92<br><b>linkage id</b> : 292",
         "marker": {
          "color": "#8c564b",
          "line": {
           "color": "#8c564b",
           "width": 2
          },
          "size": 14
         },
         "mode": "markers+text",
         "opacity": 1,
         "text": "5",
         "textfont": {
          "color": "#fff",
          "size": 10
         },
         "type": "scatter",
         "x": [
          217.03125
         ],
         "y": [
          0.5567764362830021
         ]
        },
        {
         "hoverinfo": "text",
         "hovertext": "<b># of items</b> : 93<br><b>linkage id</b> : 294",
         "marker": {
          "color": "#1f77b4",
          "line": {
           "color": "#1f77b4",
           "width": 2
          },
          "size": 14
         },
         "mode": "markers+text",
         "opacity": 1,
         "text": "",
         "textfont": {
          "color": "#fff",
          "size": 10
         },
         "type": "scatter",
         "x": [
          206.015625
         ],
         "y": [
          0.6324555320336759
         ]
        },
        {
         "hoverinfo": "text",
         "hovertext": "<b># of items</b> : 97<br><b>linkage id</b> : 295",
         "marker": {
          "color": "#1f77b4",
          "line": {
           "color": "#1f77b4",
           "width": 2
          },
          "size": 14
         },
         "mode": "markers+text",
         "opacity": 1,
         "text": "",
         "textfont": {
          "color": "#fff",
          "size": 10
         },
         "type": "scatter",
         "x": [
          184.8828125
         ],
         "y": [
          0.6480740698407862
         ]
        },
        {
         "hoverinfo": "text",
         "hovertext": "<b># of items</b> : 98<br><b>linkage id</b> : 296",
         "marker": {
          "color": "#1f77b4",
          "line": {
           "color": "#1f77b4",
           "width": 2
          },
          "size": 14
         },
         "mode": "markers+text",
         "opacity": 1,
         "text": "",
         "textfont": {
          "color": "#fff",
          "size": 10
         },
         "type": "scatter",
         "x": [
          164.94140625
         ],
         "y": [
          0.7348469228349535
         ]
        },
        {
         "hoverinfo": "text",
         "hovertext": "<b># of items</b> : 100<br><b>linkage id</b> : 297",
         "marker": {
          "color": "#1f77b4",
          "line": {
           "color": "#1f77b4",
           "width": 2
          },
          "size": 14
         },
         "mode": "markers+text",
         "opacity": 1,
         "text": "",
         "textfont": {
          "color": "#fff",
          "size": 10
         },
         "type": "scatter",
         "x": [
          147.470703125
         ],
         "y": [
          0.818535277187245
         ]
        },
        {
         "hoverinfo": "text",
         "hovertext": "<b># of items</b> : 150<br><b>linkage id</b> : 298",
         "marker": {
          "color": "#1f77b4",
          "line": {
           "color": "#1f77b4",
           "width": 2
          },
          "size": 14
         },
         "mode": "markers+text",
         "opacity": 1,
         "text": "",
         "textfont": {
          "color": "#fff",
          "size": 10
         },
         "type": "scatter",
         "x": [
          81.2451171875
         ],
         "y": [
          1.6401219466856727
         ]
        }
       ],
       "layout": {
        "autosize": false,
        "height": 450,
        "hovermode": "closest",
        "showlegend": false,
        "template": {
         "data": {
          "bar": [
           {
            "error_x": {
             "color": "#2a3f5f"
            },
            "error_y": {
             "color": "#2a3f5f"
            },
            "marker": {
             "line": {
              "color": "#E5ECF6",
              "width": 0.5
             },
             "pattern": {
              "fillmode": "overlay",
              "size": 10,
              "solidity": 0.2
             }
            },
            "type": "bar"
           }
          ],
          "barpolar": [
           {
            "marker": {
             "line": {
              "color": "#E5ECF6",
              "width": 0.5
             },
             "pattern": {
              "fillmode": "overlay",
              "size": 10,
              "solidity": 0.2
             }
            },
            "type": "barpolar"
           }
          ],
          "carpet": [
           {
            "aaxis": {
             "endlinecolor": "#2a3f5f",
             "gridcolor": "white",
             "linecolor": "white",
             "minorgridcolor": "white",
             "startlinecolor": "#2a3f5f"
            },
            "baxis": {
             "endlinecolor": "#2a3f5f",
             "gridcolor": "white",
             "linecolor": "white",
             "minorgridcolor": "white",
             "startlinecolor": "#2a3f5f"
            },
            "type": "carpet"
           }
          ],
          "choropleth": [
           {
            "colorbar": {
             "outlinewidth": 0,
             "ticks": ""
            },
            "type": "choropleth"
           }
          ],
          "contour": [
           {
            "colorbar": {
             "outlinewidth": 0,
             "ticks": ""
            },
            "colorscale": [
             [
              0,
              "#0d0887"
             ],
             [
              0.1111111111111111,
              "#46039f"
             ],
             [
              0.2222222222222222,
              "#7201a8"
             ],
             [
              0.3333333333333333,
              "#9c179e"
             ],
             [
              0.4444444444444444,
              "#bd3786"
             ],
             [
              0.5555555555555556,
              "#d8576b"
             ],
             [
              0.6666666666666666,
              "#ed7953"
             ],
             [
              0.7777777777777778,
              "#fb9f3a"
             ],
             [
              0.8888888888888888,
              "#fdca26"
             ],
             [
              1,
              "#f0f921"
             ]
            ],
            "type": "contour"
           }
          ],
          "contourcarpet": [
           {
            "colorbar": {
             "outlinewidth": 0,
             "ticks": ""
            },
            "type": "contourcarpet"
           }
          ],
          "heatmap": [
           {
            "colorbar": {
             "outlinewidth": 0,
             "ticks": ""
            },
            "colorscale": [
             [
              0,
              "#0d0887"
             ],
             [
              0.1111111111111111,
              "#46039f"
             ],
             [
              0.2222222222222222,
              "#7201a8"
             ],
             [
              0.3333333333333333,
              "#9c179e"
             ],
             [
              0.4444444444444444,
              "#bd3786"
             ],
             [
              0.5555555555555556,
              "#d8576b"
             ],
             [
              0.6666666666666666,
              "#ed7953"
             ],
             [
              0.7777777777777778,
              "#fb9f3a"
             ],
             [
              0.8888888888888888,
              "#fdca26"
             ],
             [
              1,
              "#f0f921"
             ]
            ],
            "type": "heatmap"
           }
          ],
          "heatmapgl": [
           {
            "colorbar": {
             "outlinewidth": 0,
             "ticks": ""
            },
            "colorscale": [
             [
              0,
              "#0d0887"
             ],
             [
              0.1111111111111111,
              "#46039f"
             ],
             [
              0.2222222222222222,
              "#7201a8"
             ],
             [
              0.3333333333333333,
              "#9c179e"
             ],
             [
              0.4444444444444444,
              "#bd3786"
             ],
             [
              0.5555555555555556,
              "#d8576b"
             ],
             [
              0.6666666666666666,
              "#ed7953"
             ],
             [
              0.7777777777777778,
              "#fb9f3a"
             ],
             [
              0.8888888888888888,
              "#fdca26"
             ],
             [
              1,
              "#f0f921"
             ]
            ],
            "type": "heatmapgl"
           }
          ],
          "histogram": [
           {
            "marker": {
             "pattern": {
              "fillmode": "overlay",
              "size": 10,
              "solidity": 0.2
             }
            },
            "type": "histogram"
           }
          ],
          "histogram2d": [
           {
            "colorbar": {
             "outlinewidth": 0,
             "ticks": ""
            },
            "colorscale": [
             [
              0,
              "#0d0887"
             ],
             [
              0.1111111111111111,
              "#46039f"
             ],
             [
              0.2222222222222222,
              "#7201a8"
             ],
             [
              0.3333333333333333,
              "#9c179e"
             ],
             [
              0.4444444444444444,
              "#bd3786"
             ],
             [
              0.5555555555555556,
              "#d8576b"
             ],
             [
              0.6666666666666666,
              "#ed7953"
             ],
             [
              0.7777777777777778,
              "#fb9f3a"
             ],
             [
              0.8888888888888888,
              "#fdca26"
             ],
             [
              1,
              "#f0f921"
             ]
            ],
            "type": "histogram2d"
           }
          ],
          "histogram2dcontour": [
           {
            "colorbar": {
             "outlinewidth": 0,
             "ticks": ""
            },
            "colorscale": [
             [
              0,
              "#0d0887"
             ],
             [
              0.1111111111111111,
              "#46039f"
             ],
             [
              0.2222222222222222,
              "#7201a8"
             ],
             [
              0.3333333333333333,
              "#9c179e"
             ],
             [
              0.4444444444444444,
              "#bd3786"
             ],
             [
              0.5555555555555556,
              "#d8576b"
             ],
             [
              0.6666666666666666,
              "#ed7953"
             ],
             [
              0.7777777777777778,
              "#fb9f3a"
             ],
             [
              0.8888888888888888,
              "#fdca26"
             ],
             [
              1,
              "#f0f921"
             ]
            ],
            "type": "histogram2dcontour"
           }
          ],
          "mesh3d": [
           {
            "colorbar": {
             "outlinewidth": 0,
             "ticks": ""
            },
            "type": "mesh3d"
           }
          ],
          "parcoords": [
           {
            "line": {
             "colorbar": {
              "outlinewidth": 0,
              "ticks": ""
             }
            },
            "type": "parcoords"
           }
          ],
          "pie": [
           {
            "automargin": true,
            "type": "pie"
           }
          ],
          "scatter": [
           {
            "fillpattern": {
             "fillmode": "overlay",
             "size": 10,
             "solidity": 0.2
            },
            "type": "scatter"
           }
          ],
          "scatter3d": [
           {
            "line": {
             "colorbar": {
              "outlinewidth": 0,
              "ticks": ""
             }
            },
            "marker": {
             "colorbar": {
              "outlinewidth": 0,
              "ticks": ""
             }
            },
            "type": "scatter3d"
           }
          ],
          "scattercarpet": [
           {
            "marker": {
             "colorbar": {
              "outlinewidth": 0,
              "ticks": ""
             }
            },
            "type": "scattercarpet"
           }
          ],
          "scattergeo": [
           {
            "marker": {
             "colorbar": {
              "outlinewidth": 0,
              "ticks": ""
             }
            },
            "type": "scattergeo"
           }
          ],
          "scattergl": [
           {
            "marker": {
             "colorbar": {
              "outlinewidth": 0,
              "ticks": ""
             }
            },
            "type": "scattergl"
           }
          ],
          "scattermapbox": [
           {
            "marker": {
             "colorbar": {
              "outlinewidth": 0,
              "ticks": ""
             }
            },
            "type": "scattermapbox"
           }
          ],
          "scatterpolar": [
           {
            "marker": {
             "colorbar": {
              "outlinewidth": 0,
              "ticks": ""
             }
            },
            "type": "scatterpolar"
           }
          ],
          "scatterpolargl": [
           {
            "marker": {
             "colorbar": {
              "outlinewidth": 0,
              "ticks": ""
             }
            },
            "type": "scatterpolargl"
           }
          ],
          "scatterternary": [
           {
            "marker": {
             "colorbar": {
              "outlinewidth": 0,
              "ticks": ""
             }
            },
            "type": "scatterternary"
           }
          ],
          "surface": [
           {
            "colorbar": {
             "outlinewidth": 0,
             "ticks": ""
            },
            "colorscale": [
             [
              0,
              "#0d0887"
             ],
             [
              0.1111111111111111,
              "#46039f"
             ],
             [
              0.2222222222222222,
              "#7201a8"
             ],
             [
              0.3333333333333333,
              "#9c179e"
             ],
             [
              0.4444444444444444,
              "#bd3786"
             ],
             [
              0.5555555555555556,
              "#d8576b"
             ],
             [
              0.6666666666666666,
              "#ed7953"
             ],
             [
              0.7777777777777778,
              "#fb9f3a"
             ],
             [
              0.8888888888888888,
              "#fdca26"
             ],
             [
              1,
              "#f0f921"
             ]
            ],
            "type": "surface"
           }
          ],
          "table": [
           {
            "cells": {
             "fill": {
              "color": "#EBF0F8"
             },
             "line": {
              "color": "white"
             }
            },
            "header": {
             "fill": {
              "color": "#C8D4E3"
             },
             "line": {
              "color": "white"
             }
            },
            "type": "table"
           }
          ]
         },
         "layout": {
          "annotationdefaults": {
           "arrowcolor": "#2a3f5f",
           "arrowhead": 0,
           "arrowwidth": 1
          },
          "autotypenumbers": "strict",
          "coloraxis": {
           "colorbar": {
            "outlinewidth": 0,
            "ticks": ""
           }
          },
          "colorscale": {
           "diverging": [
            [
             0,
             "#8e0152"
            ],
            [
             0.1,
             "#c51b7d"
            ],
            [
             0.2,
             "#de77ae"
            ],
            [
             0.3,
             "#f1b6da"
            ],
            [
             0.4,
             "#fde0ef"
            ],
            [
             0.5,
             "#f7f7f7"
            ],
            [
             0.6,
             "#e6f5d0"
            ],
            [
             0.7,
             "#b8e186"
            ],
            [
             0.8,
             "#7fbc41"
            ],
            [
             0.9,
             "#4d9221"
            ],
            [
             1,
             "#276419"
            ]
           ],
           "sequential": [
            [
             0,
             "#0d0887"
            ],
            [
             0.1111111111111111,
             "#46039f"
            ],
            [
             0.2222222222222222,
             "#7201a8"
            ],
            [
             0.3333333333333333,
             "#9c179e"
            ],
            [
             0.4444444444444444,
             "#bd3786"
            ],
            [
             0.5555555555555556,
             "#d8576b"
            ],
            [
             0.6666666666666666,
             "#ed7953"
            ],
            [
             0.7777777777777778,
             "#fb9f3a"
            ],
            [
             0.8888888888888888,
             "#fdca26"
            ],
            [
             1,
             "#f0f921"
            ]
           ],
           "sequentialminus": [
            [
             0,
             "#0d0887"
            ],
            [
             0.1111111111111111,
             "#46039f"
            ],
            [
             0.2222222222222222,
             "#7201a8"
            ],
            [
             0.3333333333333333,
             "#9c179e"
            ],
            [
             0.4444444444444444,
             "#bd3786"
            ],
            [
             0.5555555555555556,
             "#d8576b"
            ],
            [
             0.6666666666666666,
             "#ed7953"
            ],
            [
             0.7777777777777778,
             "#fb9f3a"
            ],
            [
             0.8888888888888888,
             "#fdca26"
            ],
            [
             1,
             "#f0f921"
            ]
           ]
          },
          "colorway": [
           "#636efa",
           "#EF553B",
           "#00cc96",
           "#ab63fa",
           "#FFA15A",
           "#19d3f3",
           "#FF6692",
           "#B6E880",
           "#FF97FF",
           "#FECB52"
          ],
          "font": {
           "color": "#2a3f5f"
          },
          "geo": {
           "bgcolor": "white",
           "lakecolor": "white",
           "landcolor": "#E5ECF6",
           "showlakes": true,
           "showland": true,
           "subunitcolor": "white"
          },
          "hoverlabel": {
           "align": "left"
          },
          "hovermode": "closest",
          "mapbox": {
           "style": "light"
          },
          "paper_bgcolor": "white",
          "plot_bgcolor": "#E5ECF6",
          "polar": {
           "angularaxis": {
            "gridcolor": "white",
            "linecolor": "white",
            "ticks": ""
           },
           "bgcolor": "#E5ECF6",
           "radialaxis": {
            "gridcolor": "white",
            "linecolor": "white",
            "ticks": ""
           }
          },
          "scene": {
           "xaxis": {
            "backgroundcolor": "#E5ECF6",
            "gridcolor": "white",
            "gridwidth": 2,
            "linecolor": "white",
            "showbackground": true,
            "ticks": "",
            "zerolinecolor": "white"
           },
           "yaxis": {
            "backgroundcolor": "#E5ECF6",
            "gridcolor": "white",
            "gridwidth": 2,
            "linecolor": "white",
            "showbackground": true,
            "ticks": "",
            "zerolinecolor": "white"
           },
           "zaxis": {
            "backgroundcolor": "#E5ECF6",
            "gridcolor": "white",
            "gridwidth": 2,
            "linecolor": "white",
            "showbackground": true,
            "ticks": "",
            "zerolinecolor": "white"
           }
          },
          "shapedefaults": {
           "line": {
            "color": "#2a3f5f"
           }
          },
          "ternary": {
           "aaxis": {
            "gridcolor": "white",
            "linecolor": "white",
            "ticks": ""
           },
           "baxis": {
            "gridcolor": "white",
            "linecolor": "white",
            "ticks": ""
           },
           "bgcolor": "#E5ECF6",
           "caxis": {
            "gridcolor": "white",
            "linecolor": "white",
            "ticks": ""
           }
          },
          "title": {
           "x": 0.05
          },
          "xaxis": {
           "automargin": true,
           "gridcolor": "white",
           "linecolor": "white",
           "ticks": "",
           "title": {
            "standoff": 15
           },
           "zerolinecolor": "white",
           "zerolinewidth": 2
          },
          "yaxis": {
           "automargin": true,
           "gridcolor": "white",
           "linecolor": "white",
           "ticks": "",
           "title": {
            "standoff": 15
           },
           "zerolinecolor": "white",
           "zerolinewidth": 2
          }
         }
        },
        "width": 700,
        "xaxis": {
         "mirror": false,
         "range": [
          -9.5,
          309.5
         ],
         "rangemode": "tozero",
         "showgrid": false,
         "showline": true,
         "showticklabels": true,
         "side": "bottom",
         "tickangle": 0,
         "tickmode": "array",
         "ticks": "outside",
         "ticktext": [
          "1",
          "1",
          "1",
          "1",
          "1",
          "1",
          "1",
          "1",
          "2",
          "38",
          "1",
          "1",
          "1",
          "1",
          "1",
          "1",
          "1",
          "1",
          "1",
          "1",
          "1",
          "1",
          "1",
          "1",
          "1",
          "1",
          "1",
          "1",
          "1",
          "83"
         ],
         "tickvals": [
          5,
          15,
          25,
          35,
          45,
          55,
          65,
          75,
          85,
          95,
          105,
          115,
          125,
          135,
          145,
          155,
          165,
          175,
          185,
          195,
          205,
          215,
          225,
          235,
          245,
          255,
          265,
          275,
          285,
          295
         ],
         "type": "linear",
         "zeroline": false
        },
        "yaxis": {
         "mirror": false,
         "range": [
          -0.1,
          2
         ],
         "rangemode": "tozero",
         "showgrid": false,
         "showline": true,
         "showticklabels": true,
         "tickangle": 0,
         "ticks": "outside",
         "type": "linear",
         "zeroline": true
        }
       }
      },
      "text/html": [
       "<div>                            <div id=\"d9aa9a83-1de9-4ce6-9b5c-184c8ebbc506\" class=\"plotly-graph-div\" style=\"height:450px; width:700px;\"></div>            <script type=\"text/javascript\">                require([\"plotly\"], function(Plotly) {                    window.PLOTLYENV=window.PLOTLYENV || {};                                    if (document.getElementById(\"d9aa9a83-1de9-4ce6-9b5c-184c8ebbc506\")) {                    Plotly.newPlot(                        \"d9aa9a83-1de9-4ce6-9b5c-184c8ebbc506\",                        [{\"hoverinfo\":\"text\",\"line\":{\"color\":\"#ff7f0e\",\"dash\":\"1, 0\",\"width\":1.0},\"mode\":\"lines\",\"opacity\":1.0,\"x\":[85.0,85.0,95.0,95.0],\"y\":[0.0,0.3000000000000001,0.3000000000000001,0.0],\"type\":\"scatter\"},{\"hoverinfo\":\"text\",\"line\":{\"color\":\"#ff7f0e\",\"dash\":\"1, 0\",\"width\":1.0},\"mode\":\"lines\",\"opacity\":1.0,\"x\":[105.0,105.0,115.0,115.0],\"y\":[0.0,0.33166247903553986,0.33166247903553986,0.0],\"type\":\"scatter\"},{\"hoverinfo\":\"text\",\"line\":{\"color\":\"#ff7f0e\",\"dash\":\"1, 0\",\"width\":1.0},\"mode\":\"lines\",\"opacity\":1.0,\"x\":[90.0,90.0,110.0,110.0],\"y\":[0.3000000000000001,0.3464101615137753,0.3464101615137753,0.33166247903553986],\"type\":\"scatter\"},{\"hoverinfo\":\"text\",\"line\":{\"color\":\"#ff7f0e\",\"dash\":\"1, 0\",\"width\":1.0},\"mode\":\"lines\",\"opacity\":1.0,\"x\":[75.0,75.0,100.0,100.0],\"y\":[0.0,0.3464101615137753,0.3464101615137753,0.3464101615137753],\"type\":\"scatter\"},{\"hoverinfo\":\"text\",\"line\":{\"color\":\"#ff7f0e\",\"dash\":\"1, 0\",\"width\":1.0},\"mode\":\"lines\",\"opacity\":1.0,\"x\":[65.0,65.0,87.5,87.5],\"y\":[0.0,0.3464101615137755,0.3464101615137755,0.3464101615137753],\"type\":\"scatter\"},{\"hoverinfo\":\"text\",\"line\":{\"color\":\"#ff7f0e\",\"dash\":\"1, 0\",\"width\":1.0},\"mode\":\"lines\",\"opacity\":1.0,\"x\":[55.0,55.0,76.25,76.25],\"y\":[0.0,0.3464101615137755,0.3464101615137755,0.3464101615137755],\"type\":\"scatter\"},{\"hoverinfo\":\"text\",\"line\":{\"color\":\"#ff7f0e\",\"dash\":\"1, 0\",\"width\":1.0},\"mode\":\"lines\",\"opacity\":1.0,\"x\":[45.0,45.0,65.625,65.625],\"y\":[0.0,0.3605551275463988,0.3605551275463988,0.3464101615137755],\"type\":\"scatter\"},{\"hoverinfo\":\"text\",\"line\":{\"color\":\"#ff7f0e\",\"dash\":\"1, 0\",\"width\":1.0},\"mode\":\"lines\",\"opacity\":1.0,\"x\":[35.0,35.0,55.3125,55.3125],\"y\":[0.0,0.3605551275463992,0.3605551275463992,0.3605551275463988],\"type\":\"scatter\"},{\"hoverinfo\":\"text\",\"line\":{\"color\":\"#ff7f0e\",\"dash\":\"1, 0\",\"width\":1.0},\"mode\":\"lines\",\"opacity\":1.0,\"x\":[25.0,25.0,45.15625,45.15625],\"y\":[0.0,0.412310562561766,0.412310562561766,0.3605551275463992],\"type\":\"scatter\"},{\"hoverinfo\":\"text\",\"line\":{\"color\":\"#ff7f0e\",\"dash\":\"1, 0\",\"width\":1.0},\"mode\":\"lines\",\"opacity\":1.0,\"x\":[15.0,15.0,35.078125,35.078125],\"y\":[0.0,0.45825756949558394,0.45825756949558394,0.412310562561766],\"type\":\"scatter\"},{\"hoverinfo\":\"text\",\"line\":{\"color\":\"#1f77b4\",\"dash\":\"1, 0\",\"width\":1.0},\"mode\":\"lines\",\"opacity\":1.0,\"x\":[5.0,5.0,25.0390625,25.0390625],\"y\":[0.0,0.6244997998398398,0.6244997998398398,0.45825756949558394],\"type\":\"scatter\"},{\"hoverinfo\":\"text\",\"line\":{\"color\":\"#d62728\",\"dash\":\"1, 0\",\"width\":1.0},\"mode\":\"lines\",\"opacity\":1.0,\"x\":[125.0,125.0,135.0,135.0],\"y\":[0.0,0.4123105625617661,0.4123105625617661,0.0],\"type\":\"scatter\"},{\"hoverinfo\":\"text\",\"line\":{\"color\":\"#9467bd\",\"dash\":\"1, 0\",\"width\":1.0},\"mode\":\"lines\",\"opacity\":1.0,\"x\":[175.0,175.0,185.0,185.0],\"y\":[0.0,0.1414213562373093,0.1414213562373093,0.0],\"type\":\"scatter\"},{\"hoverinfo\":\"text\",\"line\":{\"color\":\"#9467bd\",\"dash\":\"1, 0\",\"width\":1.0},\"mode\":\"lines\",\"opacity\":1.0,\"x\":[165.0,165.0,180.0,180.0],\"y\":[0.0,0.3605551275463989,0.3605551275463989,0.1414213562373093],\"type\":\"scatter\"},{\"hoverinfo\":\"text\",\"line\":{\"color\":\"#9467bd\",\"dash\":\"1, 0\",\"width\":1.0},\"mode\":\"lines\",\"opacity\":1.0,\"x\":[155.0,155.0,172.5,172.5],\"y\":[0.0,0.3872983346207412,0.3872983346207412,0.3605551275463989],\"type\":\"scatter\"},{\"hoverinfo\":\"text\",\"line\":{\"color\":\"#8c564b\",\"dash\":\"1, 0\",\"width\":1.0},\"mode\":\"lines\",\"opacity\":1.0,\"x\":[245.0,245.0,255.0,255.0],\"y\":[0.0,0.26457513110645964,0.26457513110645964,0.0],\"type\":\"scatter\"},{\"hoverinfo\":\"text\",\"line\":{\"color\":\"#8c564b\",\"dash\":\"1, 0\",\"width\":1.0},\"mode\":\"lines\",\"opacity\":1.0,\"x\":[235.0,235.0,250.0,250.0],\"y\":[0.0,0.4123105625617659,0.4123105625617659,0.26457513110645964],\"type\":\"scatter\"},{\"hoverinfo\":\"text\",\"line\":{\"color\":\"#8c564b\",\"dash\":\"1, 0\",\"width\":1.0},\"mode\":\"lines\",\"opacity\":1.0,\"x\":[265.0,265.0,275.0,275.0],\"y\":[0.0,0.26457513110645864,0.26457513110645864,0.0],\"type\":\"scatter\"},{\"hoverinfo\":\"text\",\"line\":{\"color\":\"#8c564b\",\"dash\":\"1, 0\",\"width\":1.0},\"mode\":\"lines\",\"opacity\":1.0,\"x\":[285.0,285.0,295.0,295.0],\"y\":[0.0,0.4898979485566356,0.4898979485566356,0.0],\"type\":\"scatter\"},{\"hoverinfo\":\"text\",\"line\":{\"color\":\"#8c564b\",\"dash\":\"1, 0\",\"width\":1.0},\"mode\":\"lines\",\"opacity\":1.0,\"x\":[270.0,270.0,290.0,290.0],\"y\":[0.26457513110645864,0.5099019513592786,0.5099019513592786,0.4898979485566356],\"type\":\"scatter\"},{\"hoverinfo\":\"text\",\"line\":{\"color\":\"#8c564b\",\"dash\":\"1, 0\",\"width\":1.0},\"mode\":\"lines\",\"opacity\":1.0,\"x\":[242.5,242.5,280.0,280.0],\"y\":[0.4123105625617659,0.5291502622129179,0.5291502622129179,0.5099019513592786],\"type\":\"scatter\"},{\"hoverinfo\":\"text\",\"line\":{\"color\":\"#8c564b\",\"dash\":\"1, 0\",\"width\":1.0},\"mode\":\"lines\",\"opacity\":1.0,\"x\":[225.0,225.0,261.25,261.25],\"y\":[0.0,0.5385164807134504,0.5385164807134504,0.5291502622129179],\"type\":\"scatter\"},{\"hoverinfo\":\"text\",\"line\":{\"color\":\"#8c564b\",\"dash\":\"1, 0\",\"width\":1.0},\"mode\":\"lines\",\"opacity\":1.0,\"x\":[215.0,215.0,243.125,243.125],\"y\":[0.0,0.5385164807134505,0.5385164807134505,0.5385164807134504],\"type\":\"scatter\"},{\"hoverinfo\":\"text\",\"line\":{\"color\":\"#8c564b\",\"dash\":\"1, 0\",\"width\":1.0},\"mode\":\"lines\",\"opacity\":1.0,\"x\":[205.0,205.0,229.0625,229.0625],\"y\":[0.0,0.5567764362830021,0.5567764362830021,0.5385164807134505],\"type\":\"scatter\"},{\"hoverinfo\":\"text\",\"line\":{\"color\":\"#1f77b4\",\"dash\":\"1, 0\",\"width\":1.0},\"mode\":\"lines\",\"opacity\":1.0,\"x\":[195.0,195.0,217.03125,217.03125],\"y\":[0.0,0.6324555320336759,0.6324555320336759,0.5567764362830021],\"type\":\"scatter\"},{\"hoverinfo\":\"text\",\"line\":{\"color\":\"#1f77b4\",\"dash\":\"1, 0\",\"width\":1.0},\"mode\":\"lines\",\"opacity\":1.0,\"x\":[163.75,163.75,206.015625,206.015625],\"y\":[0.3872983346207412,0.6480740698407862,0.6480740698407862,0.6324555320336759],\"type\":\"scatter\"},{\"hoverinfo\":\"text\",\"line\":{\"color\":\"#1f77b4\",\"dash\":\"1, 0\",\"width\":1.0},\"mode\":\"lines\",\"opacity\":1.0,\"x\":[145.0,145.0,184.8828125,184.8828125],\"y\":[0.0,0.7348469228349535,0.7348469228349535,0.6480740698407862],\"type\":\"scatter\"},{\"hoverinfo\":\"text\",\"line\":{\"color\":\"#1f77b4\",\"dash\":\"1, 0\",\"width\":1.0},\"mode\":\"lines\",\"opacity\":1.0,\"x\":[130.0,130.0,164.94140625,164.94140625],\"y\":[0.4123105625617661,0.818535277187245,0.818535277187245,0.7348469228349535],\"type\":\"scatter\"},{\"hoverinfo\":\"text\",\"line\":{\"color\":\"#1f77b4\",\"dash\":\"1, 0\",\"width\":1.0},\"mode\":\"lines\",\"opacity\":1.0,\"x\":[15.01953125,15.01953125,147.470703125,147.470703125],\"y\":[0.6244997998398398,1.6401219466856727,1.6401219466856727,0.818535277187245],\"type\":\"scatter\"},{\"hoverinfo\":\"text\",\"hovertext\":\"<b># of items</b> : 1<br><b>linkage id</b> : 41\",\"marker\":{\"color\":\"#2ca02c\",\"line\":{\"color\":\"#2ca02c\",\"width\":2},\"size\":14.0},\"mode\":\"markers+text\",\"opacity\":1.0,\"text\":\"2\",\"x\":[5.0],\"y\":[0],\"type\":\"scatter\",\"textfont\":{\"size\":10.0,\"color\":\"#fff\"}},{\"hoverinfo\":\"text\",\"hovertext\":\"<b># of items</b> : 1<br><b>linkage id</b> : 22\",\"marker\":{\"color\":\"#ff7f0e\",\"line\":{\"color\":\"#ff7f0e\",\"width\":2},\"size\":8.0},\"mode\":\"markers+text\",\"opacity\":1.0,\"text\":\"\",\"x\":[15.0],\"y\":[0],\"type\":\"scatter\",\"textfont\":{\"size\":10.0,\"color\":\"#fff\"}},{\"hoverinfo\":\"text\",\"hovertext\":\"<b># of items</b> : 1<br><b>linkage id</b> : 14\",\"marker\":{\"color\":\"#ff7f0e\",\"line\":{\"color\":\"#ff7f0e\",\"width\":2},\"size\":8.0},\"mode\":\"markers+text\",\"opacity\":1.0,\"text\":\"\",\"x\":[25.0],\"y\":[0],\"type\":\"scatter\",\"textfont\":{\"size\":10.0,\"color\":\"#fff\"}},{\"hoverinfo\":\"text\",\"hovertext\":\"<b># of items</b> : 1<br><b>linkage id</b> : 15\",\"marker\":{\"color\":\"#ff7f0e\",\"line\":{\"color\":\"#ff7f0e\",\"width\":2},\"size\":8.0},\"mode\":\"markers+text\",\"opacity\":1.0,\"text\":\"\",\"x\":[35.0],\"y\":[0],\"type\":\"scatter\",\"textfont\":{\"size\":10.0,\"color\":\"#fff\"}},{\"hoverinfo\":\"text\",\"hovertext\":\"<b># of items</b> : 1<br><b>linkage id</b> : 44\",\"marker\":{\"color\":\"#ff7f0e\",\"line\":{\"color\":\"#ff7f0e\",\"width\":2},\"size\":8.0},\"mode\":\"markers+text\",\"opacity\":1.0,\"text\":\"\",\"x\":[45.0],\"y\":[0],\"type\":\"scatter\",\"textfont\":{\"size\":10.0,\"color\":\"#fff\"}},{\"hoverinfo\":\"text\",\"hovertext\":\"<b># of items</b> : 1<br><b>linkage id</b> : 33\",\"marker\":{\"color\":\"#ff7f0e\",\"line\":{\"color\":\"#ff7f0e\",\"width\":2},\"size\":8.0},\"mode\":\"markers+text\",\"opacity\":1.0,\"text\":\"\",\"x\":[55.0],\"y\":[0],\"type\":\"scatter\",\"textfont\":{\"size\":10.0,\"color\":\"#fff\"}},{\"hoverinfo\":\"text\",\"hovertext\":\"<b># of items</b> : 1<br><b>linkage id</b> : 32\",\"marker\":{\"color\":\"#ff7f0e\",\"line\":{\"color\":\"#ff7f0e\",\"width\":2},\"size\":8.0},\"mode\":\"markers+text\",\"opacity\":1.0,\"text\":\"\",\"x\":[65.0],\"y\":[0],\"type\":\"scatter\",\"textfont\":{\"size\":10.0,\"color\":\"#fff\"}},{\"hoverinfo\":\"text\",\"hovertext\":\"<b># of items</b> : 1<br><b>linkage id</b> : 16\",\"marker\":{\"color\":\"#ff7f0e\",\"line\":{\"color\":\"#ff7f0e\",\"width\":2},\"size\":8.0},\"mode\":\"markers+text\",\"opacity\":1.0,\"text\":\"\",\"x\":[75.0],\"y\":[0],\"type\":\"scatter\",\"textfont\":{\"size\":10.0,\"color\":\"#fff\"}},{\"hoverinfo\":\"text\",\"hovertext\":\"<b># of items</b> : 2<br><b>linkage id</b> : 231\",\"marker\":{\"color\":\"#ff7f0e\",\"line\":{\"color\":\"#ff7f0e\",\"width\":2},\"size\":8.0},\"mode\":\"markers+text\",\"opacity\":1.0,\"text\":\"\",\"x\":[85.0],\"y\":[0],\"type\":\"scatter\",\"textfont\":{\"size\":10.0,\"color\":\"#fff\"}},{\"hoverinfo\":\"text\",\"hovertext\":\"<b># of items</b> : 38<br><b>linkage id</b> : 235\",\"marker\":{\"color\":\"#ff7f0e\",\"line\":{\"color\":\"#ff7f0e\",\"width\":2},\"size\":8.0},\"mode\":\"markers+text\",\"opacity\":1.0,\"text\":\"\",\"x\":[95.0],\"y\":[0],\"type\":\"scatter\",\"textfont\":{\"size\":10.0,\"color\":\"#fff\"}},{\"hoverinfo\":\"text\",\"hovertext\":\"<b># of items</b> : 1<br><b>linkage id</b> : 5\",\"marker\":{\"color\":\"#ff7f0e\",\"line\":{\"color\":\"#ff7f0e\",\"width\":2},\"size\":8.0},\"mode\":\"markers+text\",\"opacity\":1.0,\"text\":\"\",\"x\":[105.0],\"y\":[0],\"type\":\"scatter\",\"textfont\":{\"size\":10.0,\"color\":\"#fff\"}},{\"hoverinfo\":\"text\",\"hovertext\":\"<b># of items</b> : 1<br><b>linkage id</b> : 18\",\"marker\":{\"color\":\"#ff7f0e\",\"line\":{\"color\":\"#ff7f0e\",\"width\":2},\"size\":8.0},\"mode\":\"markers+text\",\"opacity\":1.0,\"text\":\"\",\"x\":[115.0],\"y\":[0],\"type\":\"scatter\",\"textfont\":{\"size\":10.0,\"color\":\"#fff\"}},{\"hoverinfo\":\"text\",\"hovertext\":\"<b># of items</b> : 1<br><b>linkage id</b> : 117\",\"marker\":{\"color\":\"#d62728\",\"line\":{\"color\":\"#d62728\",\"width\":2},\"size\":8.0},\"mode\":\"markers+text\",\"opacity\":1.0,\"text\":\"\",\"x\":[125.0],\"y\":[0],\"type\":\"scatter\",\"textfont\":{\"size\":10.0,\"color\":\"#fff\"}},{\"hoverinfo\":\"text\",\"hovertext\":\"<b># of items</b> : 1<br><b>linkage id</b> : 131\",\"marker\":{\"color\":\"#d62728\",\"line\":{\"color\":\"#d62728\",\"width\":2},\"size\":8.0},\"mode\":\"markers+text\",\"opacity\":1.0,\"text\":\"\",\"x\":[135.0],\"y\":[0],\"type\":\"scatter\",\"textfont\":{\"size\":10.0,\"color\":\"#fff\"}},{\"hoverinfo\":\"text\",\"hovertext\":\"<b># of items</b> : 1<br><b>linkage id</b> : 106\",\"marker\":{\"color\":\"#7f7f7f\",\"line\":{\"color\":\"#7f7f7f\",\"width\":2},\"size\":14.0},\"mode\":\"markers+text\",\"opacity\":1.0,\"text\":\"7\",\"x\":[145.0],\"y\":[0],\"type\":\"scatter\",\"textfont\":{\"size\":10.0,\"color\":\"#fff\"}},{\"hoverinfo\":\"text\",\"hovertext\":\"<b># of items</b> : 1<br><b>linkage id</b> : 98\",\"marker\":{\"color\":\"#9467bd\",\"line\":{\"color\":\"#9467bd\",\"width\":2},\"size\":8.0},\"mode\":\"markers+text\",\"opacity\":1.0,\"text\":\"\",\"x\":[155.0],\"y\":[0],\"type\":\"scatter\",\"textfont\":{\"size\":10.0,\"color\":\"#fff\"}},{\"hoverinfo\":\"text\",\"hovertext\":\"<b># of items</b> : 1<br><b>linkage id</b> : 60\",\"marker\":{\"color\":\"#9467bd\",\"line\":{\"color\":\"#9467bd\",\"width\":2},\"size\":8.0},\"mode\":\"markers+text\",\"opacity\":1.0,\"text\":\"\",\"x\":[165.0],\"y\":[0],\"type\":\"scatter\",\"textfont\":{\"size\":10.0,\"color\":\"#fff\"}},{\"hoverinfo\":\"text\",\"hovertext\":\"<b># of items</b> : 1<br><b>linkage id</b> : 57\",\"marker\":{\"color\":\"#9467bd\",\"line\":{\"color\":\"#9467bd\",\"width\":2},\"size\":8.0},\"mode\":\"markers+text\",\"opacity\":1.0,\"text\":\"\",\"x\":[175.0],\"y\":[0],\"type\":\"scatter\",\"textfont\":{\"size\":10.0,\"color\":\"#fff\"}},{\"hoverinfo\":\"text\",\"hovertext\":\"<b># of items</b> : 1<br><b>linkage id</b> : 93\",\"marker\":{\"color\":\"#9467bd\",\"line\":{\"color\":\"#9467bd\",\"width\":2},\"size\":8.0},\"mode\":\"markers+text\",\"opacity\":1.0,\"text\":\"\",\"x\":[185.0],\"y\":[0],\"type\":\"scatter\",\"textfont\":{\"size\":10.0,\"color\":\"#fff\"}},{\"hoverinfo\":\"text\",\"hovertext\":\"<b># of items</b> : 1<br><b>linkage id</b> : 109\",\"marker\":{\"color\":\"#e377c2\",\"line\":{\"color\":\"#e377c2\",\"width\":2},\"size\":14.0},\"mode\":\"markers+text\",\"opacity\":1.0,\"text\":\"6\",\"x\":[195.0],\"y\":[0],\"type\":\"scatter\",\"textfont\":{\"size\":10.0,\"color\":\"#fff\"}},{\"hoverinfo\":\"text\",\"hovertext\":\"<b># of items</b> : 1<br><b>linkage id</b> : 108\",\"marker\":{\"color\":\"#8c564b\",\"line\":{\"color\":\"#8c564b\",\"width\":2},\"size\":8.0},\"mode\":\"markers+text\",\"opacity\":1.0,\"text\":\"\",\"x\":[205.0],\"y\":[0],\"type\":\"scatter\",\"textfont\":{\"size\":10.0,\"color\":\"#fff\"}},{\"hoverinfo\":\"text\",\"hovertext\":\"<b># of items</b> : 1<br><b>linkage id</b> : 134\",\"marker\":{\"color\":\"#8c564b\",\"line\":{\"color\":\"#8c564b\",\"width\":2},\"size\":8.0},\"mode\":\"markers+text\",\"opacity\":1.0,\"text\":\"\",\"x\":[215.0],\"y\":[0],\"type\":\"scatter\",\"textfont\":{\"size\":10.0,\"color\":\"#fff\"}},{\"hoverinfo\":\"text\",\"hovertext\":\"<b># of items</b> : 1<br><b>linkage id</b> : 135\",\"marker\":{\"color\":\"#8c564b\",\"line\":{\"color\":\"#8c564b\",\"width\":2},\"size\":8.0},\"mode\":\"markers+text\",\"opacity\":1.0,\"text\":\"\",\"x\":[225.0],\"y\":[0],\"type\":\"scatter\",\"textfont\":{\"size\":10.0,\"color\":\"#fff\"}},{\"hoverinfo\":\"text\",\"hovertext\":\"<b># of items</b> : 1<br><b>linkage id</b> : 118\",\"marker\":{\"color\":\"#8c564b\",\"line\":{\"color\":\"#8c564b\",\"width\":2},\"size\":8.0},\"mode\":\"markers+text\",\"opacity\":1.0,\"text\":\"\",\"x\":[235.0],\"y\":[0],\"type\":\"scatter\",\"textfont\":{\"size\":10.0,\"color\":\"#fff\"}},{\"hoverinfo\":\"text\",\"hovertext\":\"<b># of items</b> : 1<br><b>linkage id</b> : 105\",\"marker\":{\"color\":\"#8c564b\",\"line\":{\"color\":\"#8c564b\",\"width\":2},\"size\":8.0},\"mode\":\"markers+text\",\"opacity\":1.0,\"text\":\"\",\"x\":[245.0],\"y\":[0],\"type\":\"scatter\",\"textfont\":{\"size\":10.0,\"color\":\"#fff\"}},{\"hoverinfo\":\"text\",\"hovertext\":\"<b># of items</b> : 1<br><b>linkage id</b> : 122\",\"marker\":{\"color\":\"#8c564b\",\"line\":{\"color\":\"#8c564b\",\"width\":2},\"size\":8.0},\"mode\":\"markers+text\",\"opacity\":1.0,\"text\":\"\",\"x\":[255.0],\"y\":[0],\"type\":\"scatter\",\"textfont\":{\"size\":10.0,\"color\":\"#fff\"}},{\"hoverinfo\":\"text\",\"hovertext\":\"<b># of items</b> : 1<br><b>linkage id</b> : 68\",\"marker\":{\"color\":\"#8c564b\",\"line\":{\"color\":\"#8c564b\",\"width\":2},\"size\":8.0},\"mode\":\"markers+text\",\"opacity\":1.0,\"text\":\"\",\"x\":[265.0],\"y\":[0],\"type\":\"scatter\",\"textfont\":{\"size\":10.0,\"color\":\"#fff\"}},{\"hoverinfo\":\"text\",\"hovertext\":\"<b># of items</b> : 1<br><b>linkage id</b> : 87\",\"marker\":{\"color\":\"#8c564b\",\"line\":{\"color\":\"#8c564b\",\"width\":2},\"size\":8.0},\"mode\":\"markers+text\",\"opacity\":1.0,\"text\":\"\",\"x\":[275.0],\"y\":[0],\"type\":\"scatter\",\"textfont\":{\"size\":10.0,\"color\":\"#fff\"}},{\"hoverinfo\":\"text\",\"hovertext\":\"<b># of items</b> : 1<br><b>linkage id</b> : 62\",\"marker\":{\"color\":\"#8c564b\",\"line\":{\"color\":\"#8c564b\",\"width\":2},\"size\":8.0},\"mode\":\"markers+text\",\"opacity\":1.0,\"text\":\"\",\"x\":[285.0],\"y\":[0],\"type\":\"scatter\",\"textfont\":{\"size\":10.0,\"color\":\"#fff\"}},{\"hoverinfo\":\"text\",\"hovertext\":\"<b># of items</b> : 83<br><b>linkage id</b> : 286\",\"marker\":{\"color\":\"#8c564b\",\"line\":{\"color\":\"#8c564b\",\"width\":2},\"size\":8.0},\"mode\":\"markers+text\",\"opacity\":1.0,\"text\":\"\",\"x\":[295.0],\"y\":[0],\"type\":\"scatter\",\"textfont\":{\"size\":10.0,\"color\":\"#fff\"}},{\"hoverinfo\":\"text\",\"hovertext\":\"<b># of items</b> : 40<br><b>linkage id</b> : 236\",\"marker\":{\"color\":\"#fff\",\"line\":{\"color\":\"#ff7f0e\",\"width\":2},\"size\":14.0},\"mode\":\"markers+text\",\"opacity\":1.0,\"text\":\"\",\"x\":[90.0],\"y\":[0.3000000000000001],\"type\":\"scatter\",\"textfont\":{\"size\":10.0,\"color\":\"#fff\"}},{\"hoverinfo\":\"text\",\"hovertext\":\"<b># of items</b> : 2<br><b>linkage id</b> : 249\",\"marker\":{\"color\":\"#fff\",\"line\":{\"color\":\"#ff7f0e\",\"width\":2},\"size\":14.0},\"mode\":\"markers+text\",\"opacity\":1.0,\"text\":\"\",\"x\":[110.0],\"y\":[0.33166247903553986],\"type\":\"scatter\",\"textfont\":{\"size\":10.0,\"color\":\"#fff\"}},{\"hoverinfo\":\"text\",\"hovertext\":\"<b># of items</b> : 42<br><b>linkage id</b> : 255\",\"marker\":{\"color\":\"#fff\",\"line\":{\"color\":\"#ff7f0e\",\"width\":2},\"size\":14.0},\"mode\":\"markers+text\",\"opacity\":1.0,\"text\":\"\",\"x\":[100.0],\"y\":[0.3464101615137753],\"type\":\"scatter\",\"textfont\":{\"size\":10.0,\"color\":\"#fff\"}},{\"hoverinfo\":\"text\",\"hovertext\":\"<b># of items</b> : 43<br><b>linkage id</b> : 256\",\"marker\":{\"color\":\"#fff\",\"line\":{\"color\":\"#ff7f0e\",\"width\":2},\"size\":14.0},\"mode\":\"markers+text\",\"opacity\":1.0,\"text\":\"\",\"x\":[87.5],\"y\":[0.3464101615137753],\"type\":\"scatter\",\"textfont\":{\"size\":10.0,\"color\":\"#fff\"}},{\"hoverinfo\":\"text\",\"hovertext\":\"<b># of items</b> : 44<br><b>linkage id</b> : 258\",\"marker\":{\"color\":\"#fff\",\"line\":{\"color\":\"#ff7f0e\",\"width\":2},\"size\":14.0},\"mode\":\"markers+text\",\"opacity\":1.0,\"text\":\"\",\"x\":[76.25],\"y\":[0.3464101615137755],\"type\":\"scatter\",\"textfont\":{\"size\":10.0,\"color\":\"#fff\"}},{\"hoverinfo\":\"text\",\"hovertext\":\"<b># of items</b> : 45<br><b>linkage id</b> : 259\",\"marker\":{\"color\":\"#fff\",\"line\":{\"color\":\"#ff7f0e\",\"width\":2},\"size\":14.0},\"mode\":\"markers+text\",\"opacity\":1.0,\"text\":\"\",\"x\":[65.625],\"y\":[0.3464101615137755],\"type\":\"scatter\",\"textfont\":{\"size\":10.0,\"color\":\"#fff\"}},{\"hoverinfo\":\"text\",\"hovertext\":\"<b># of items</b> : 46<br><b>linkage id</b> : 263\",\"marker\":{\"color\":\"#fff\",\"line\":{\"color\":\"#ff7f0e\",\"width\":2},\"size\":14.0},\"mode\":\"markers+text\",\"opacity\":1.0,\"text\":\"\",\"x\":[55.3125],\"y\":[0.3605551275463988],\"type\":\"scatter\",\"textfont\":{\"size\":10.0,\"color\":\"#fff\"}},{\"hoverinfo\":\"text\",\"hovertext\":\"<b># of items</b> : 47<br><b>linkage id</b> : 269\",\"marker\":{\"color\":\"#fff\",\"line\":{\"color\":\"#ff7f0e\",\"width\":2},\"size\":14.0},\"mode\":\"markers+text\",\"opacity\":1.0,\"text\":\"\",\"x\":[45.15625],\"y\":[0.3605551275463992],\"type\":\"scatter\",\"textfont\":{\"size\":10.0,\"color\":\"#fff\"}},{\"hoverinfo\":\"text\",\"hovertext\":\"<b># of items</b> : 48<br><b>linkage id</b> : 278\",\"marker\":{\"color\":\"#fff\",\"line\":{\"color\":\"#ff7f0e\",\"width\":2},\"size\":14.0},\"mode\":\"markers+text\",\"opacity\":1.0,\"text\":\"\",\"x\":[35.078125],\"y\":[0.412310562561766],\"type\":\"scatter\",\"textfont\":{\"size\":10.0,\"color\":\"#fff\"}},{\"hoverinfo\":\"text\",\"hovertext\":\"<b># of items</b> : 49<br><b>linkage id</b> : 285\",\"marker\":{\"color\":\"#ff7f0e\",\"line\":{\"color\":\"#ff7f0e\",\"width\":2},\"size\":14.0},\"mode\":\"markers+text\",\"opacity\":1.0,\"text\":\"1\",\"x\":[25.0390625],\"y\":[0.45825756949558394],\"type\":\"scatter\",\"textfont\":{\"size\":10.0,\"color\":\"#fff\"}},{\"hoverinfo\":\"text\",\"hovertext\":\"<b># of items</b> : 50<br><b>linkage id</b> : 293\",\"marker\":{\"color\":\"#1f77b4\",\"line\":{\"color\":\"#1f77b4\",\"width\":2},\"size\":14.0},\"mode\":\"markers+text\",\"opacity\":1.0,\"text\":\"\",\"x\":[15.01953125],\"y\":[0.6244997998398398],\"type\":\"scatter\",\"textfont\":{\"size\":10.0,\"color\":\"#fff\"}},{\"hoverinfo\":\"text\",\"hovertext\":\"<b># of items</b> : 2<br><b>linkage id</b> : 279\",\"marker\":{\"color\":\"#d62728\",\"line\":{\"color\":\"#d62728\",\"width\":2},\"size\":14.0},\"mode\":\"markers+text\",\"opacity\":1.0,\"text\":\"3\",\"x\":[130.0],\"y\":[0.4123105625617661],\"type\":\"scatter\",\"textfont\":{\"size\":10.0,\"color\":\"#fff\"}},{\"hoverinfo\":\"text\",\"hovertext\":\"<b># of items</b> : 2<br><b>linkage id</b> : 161\",\"marker\":{\"color\":\"#fff\",\"line\":{\"color\":\"#9467bd\",\"width\":2},\"size\":14.0},\"mode\":\"markers+text\",\"opacity\":1.0,\"text\":\"\",\"x\":[180.0],\"y\":[0.1414213562373093],\"type\":\"scatter\",\"textfont\":{\"size\":10.0,\"color\":\"#fff\"}},{\"hoverinfo\":\"text\",\"hovertext\":\"<b># of items</b> : 3<br><b>linkage id</b> : 265\",\"marker\":{\"color\":\"#fff\",\"line\":{\"color\":\"#9467bd\",\"width\":2},\"size\":14.0},\"mode\":\"markers+text\",\"opacity\":1.0,\"text\":\"\",\"x\":[172.5],\"y\":[0.3605551275463989],\"type\":\"scatter\",\"textfont\":{\"size\":10.0,\"color\":\"#fff\"}},{\"hoverinfo\":\"text\",\"hovertext\":\"<b># of items</b> : 4<br><b>linkage id</b> : 273\",\"marker\":{\"color\":\"#9467bd\",\"line\":{\"color\":\"#9467bd\",\"width\":2},\"size\":14.0},\"mode\":\"markers+text\",\"opacity\":1.0,\"text\":\"4\",\"x\":[163.75],\"y\":[0.3872983346207412],\"type\":\"scatter\",\"textfont\":{\"size\":10.0,\"color\":\"#fff\"}},{\"hoverinfo\":\"text\",\"hovertext\":\"<b># of items</b> : 2<br><b>linkage id</b> : 229\",\"marker\":{\"color\":\"#fff\",\"line\":{\"color\":\"#8c564b\",\"width\":2},\"size\":14.0},\"mode\":\"markers+text\",\"opacity\":1.0,\"text\":\"\",\"x\":[250.0],\"y\":[0.26457513110645964],\"type\":\"scatter\",\"textfont\":{\"size\":10.0,\"color\":\"#fff\"}},{\"hoverinfo\":\"text\",\"hovertext\":\"<b># of items</b> : 3<br><b>linkage id</b> : 277\",\"marker\":{\"color\":\"#fff\",\"line\":{\"color\":\"#8c564b\",\"width\":2},\"size\":14.0},\"mode\":\"markers+text\",\"opacity\":1.0,\"text\":\"\",\"x\":[242.5],\"y\":[0.4123105625617659],\"type\":\"scatter\",\"textfont\":{\"size\":10.0,\"color\":\"#fff\"}},{\"hoverinfo\":\"text\",\"hovertext\":\"<b># of items</b> : 2<br><b>linkage id</b> : 220\",\"marker\":{\"color\":\"#fff\",\"line\":{\"color\":\"#8c564b\",\"width\":2},\"size\":14.0},\"mode\":\"markers+text\",\"opacity\":1.0,\"text\":\"\",\"x\":[270.0],\"y\":[0.26457513110645864],\"type\":\"scatter\",\"textfont\":{\"size\":10.0,\"color\":\"#fff\"}},{\"hoverinfo\":\"text\",\"hovertext\":\"<b># of items</b> : 84<br><b>linkage id</b> : 287\",\"marker\":{\"color\":\"#fff\",\"line\":{\"color\":\"#8c564b\",\"width\":2},\"size\":14.0},\"mode\":\"markers+text\",\"opacity\":1.0,\"text\":\"\",\"x\":[290.0],\"y\":[0.4898979485566356],\"type\":\"scatter\",\"textfont\":{\"size\":10.0,\"color\":\"#fff\"}},{\"hoverinfo\":\"text\",\"hovertext\":\"<b># of items</b> : 86<br><b>linkage id</b> : 288\",\"marker\":{\"color\":\"#fff\",\"line\":{\"color\":\"#8c564b\",\"width\":2},\"size\":14.0},\"mode\":\"markers+text\",\"opacity\":1.0,\"text\":\"\",\"x\":[280.0],\"y\":[0.5099019513592786],\"type\":\"scatter\",\"textfont\":{\"size\":10.0,\"color\":\"#fff\"}},{\"hoverinfo\":\"text\",\"hovertext\":\"<b># of items</b> : 89<br><b>linkage id</b> : 289\",\"marker\":{\"color\":\"#fff\",\"line\":{\"color\":\"#8c564b\",\"width\":2},\"size\":14.0},\"mode\":\"markers+text\",\"opacity\":1.0,\"text\":\"\",\"x\":[261.25],\"y\":[0.5291502622129179],\"type\":\"scatter\",\"textfont\":{\"size\":10.0,\"color\":\"#fff\"}},{\"hoverinfo\":\"text\",\"hovertext\":\"<b># of items</b> : 90<br><b>linkage id</b> : 290\",\"marker\":{\"color\":\"#fff\",\"line\":{\"color\":\"#8c564b\",\"width\":2},\"size\":14.0},\"mode\":\"markers+text\",\"opacity\":1.0,\"text\":\"\",\"x\":[243.125],\"y\":[0.5385164807134504],\"type\":\"scatter\",\"textfont\":{\"size\":10.0,\"color\":\"#fff\"}},{\"hoverinfo\":\"text\",\"hovertext\":\"<b># of items</b> : 91<br><b>linkage id</b> : 291\",\"marker\":{\"color\":\"#fff\",\"line\":{\"color\":\"#8c564b\",\"width\":2},\"size\":14.0},\"mode\":\"markers+text\",\"opacity\":1.0,\"text\":\"\",\"x\":[229.0625],\"y\":[0.5385164807134505],\"type\":\"scatter\",\"textfont\":{\"size\":10.0,\"color\":\"#fff\"}},{\"hoverinfo\":\"text\",\"hovertext\":\"<b># of items</b> : 92<br><b>linkage id</b> : 292\",\"marker\":{\"color\":\"#8c564b\",\"line\":{\"color\":\"#8c564b\",\"width\":2},\"size\":14.0},\"mode\":\"markers+text\",\"opacity\":1.0,\"text\":\"5\",\"x\":[217.03125],\"y\":[0.5567764362830021],\"type\":\"scatter\",\"textfont\":{\"size\":10.0,\"color\":\"#fff\"}},{\"hoverinfo\":\"text\",\"hovertext\":\"<b># of items</b> : 93<br><b>linkage id</b> : 294\",\"marker\":{\"color\":\"#1f77b4\",\"line\":{\"color\":\"#1f77b4\",\"width\":2},\"size\":14.0},\"mode\":\"markers+text\",\"opacity\":1.0,\"text\":\"\",\"x\":[206.015625],\"y\":[0.6324555320336759],\"type\":\"scatter\",\"textfont\":{\"size\":10.0,\"color\":\"#fff\"}},{\"hoverinfo\":\"text\",\"hovertext\":\"<b># of items</b> : 97<br><b>linkage id</b> : 295\",\"marker\":{\"color\":\"#1f77b4\",\"line\":{\"color\":\"#1f77b4\",\"width\":2},\"size\":14.0},\"mode\":\"markers+text\",\"opacity\":1.0,\"text\":\"\",\"x\":[184.8828125],\"y\":[0.6480740698407862],\"type\":\"scatter\",\"textfont\":{\"size\":10.0,\"color\":\"#fff\"}},{\"hoverinfo\":\"text\",\"hovertext\":\"<b># of items</b> : 98<br><b>linkage id</b> : 296\",\"marker\":{\"color\":\"#1f77b4\",\"line\":{\"color\":\"#1f77b4\",\"width\":2},\"size\":14.0},\"mode\":\"markers+text\",\"opacity\":1.0,\"text\":\"\",\"x\":[164.94140625],\"y\":[0.7348469228349535],\"type\":\"scatter\",\"textfont\":{\"size\":10.0,\"color\":\"#fff\"}},{\"hoverinfo\":\"text\",\"hovertext\":\"<b># of items</b> : 100<br><b>linkage id</b> : 297\",\"marker\":{\"color\":\"#1f77b4\",\"line\":{\"color\":\"#1f77b4\",\"width\":2},\"size\":14.0},\"mode\":\"markers+text\",\"opacity\":1.0,\"text\":\"\",\"x\":[147.470703125],\"y\":[0.818535277187245],\"type\":\"scatter\",\"textfont\":{\"size\":10.0,\"color\":\"#fff\"}},{\"hoverinfo\":\"text\",\"hovertext\":\"<b># of items</b> : 150<br><b>linkage id</b> : 298\",\"marker\":{\"color\":\"#1f77b4\",\"line\":{\"color\":\"#1f77b4\",\"width\":2},\"size\":14.0},\"mode\":\"markers+text\",\"opacity\":1.0,\"text\":\"\",\"x\":[81.2451171875],\"y\":[1.6401219466856727],\"type\":\"scatter\",\"textfont\":{\"size\":10.0,\"color\":\"#fff\"}}],                        {\"autosize\":false,\"height\":450,\"hovermode\":\"closest\",\"showlegend\":false,\"width\":700,\"xaxis\":{\"mirror\":false,\"range\":[-9.5,309.5],\"rangemode\":\"tozero\",\"showgrid\":false,\"showline\":true,\"showticklabels\":true,\"side\":\"bottom\",\"tickangle\":0,\"tickmode\":\"array\",\"ticks\":\"outside\",\"ticktext\":[\"1\",\"1\",\"1\",\"1\",\"1\",\"1\",\"1\",\"1\",\"2\",\"38\",\"1\",\"1\",\"1\",\"1\",\"1\",\"1\",\"1\",\"1\",\"1\",\"1\",\"1\",\"1\",\"1\",\"1\",\"1\",\"1\",\"1\",\"1\",\"1\",\"83\"],\"tickvals\":[5.0,15.0,25.0,35.0,45.0,55.0,65.0,75.0,85.0,95.0,105.0,115.0,125.0,135.0,145.0,155.0,165.0,175.0,185.0,195.0,205.0,215.0,225.0,235.0,245.0,255.0,265.0,275.0,285.0,295.0],\"type\":\"linear\",\"zeroline\":false},\"yaxis\":{\"mirror\":false,\"range\":[-0.1,2],\"rangemode\":\"tozero\",\"showgrid\":false,\"showline\":true,\"showticklabels\":true,\"tickangle\":0,\"ticks\":\"outside\",\"type\":\"linear\",\"zeroline\":true},\"template\":{\"data\":{\"histogram2dcontour\":[{\"type\":\"histogram2dcontour\",\"colorbar\":{\"outlinewidth\":0,\"ticks\":\"\"},\"colorscale\":[[0.0,\"#0d0887\"],[0.1111111111111111,\"#46039f\"],[0.2222222222222222,\"#7201a8\"],[0.3333333333333333,\"#9c179e\"],[0.4444444444444444,\"#bd3786\"],[0.5555555555555556,\"#d8576b\"],[0.6666666666666666,\"#ed7953\"],[0.7777777777777778,\"#fb9f3a\"],[0.8888888888888888,\"#fdca26\"],[1.0,\"#f0f921\"]]}],\"choropleth\":[{\"type\":\"choropleth\",\"colorbar\":{\"outlinewidth\":0,\"ticks\":\"\"}}],\"histogram2d\":[{\"type\":\"histogram2d\",\"colorbar\":{\"outlinewidth\":0,\"ticks\":\"\"},\"colorscale\":[[0.0,\"#0d0887\"],[0.1111111111111111,\"#46039f\"],[0.2222222222222222,\"#7201a8\"],[0.3333333333333333,\"#9c179e\"],[0.4444444444444444,\"#bd3786\"],[0.5555555555555556,\"#d8576b\"],[0.6666666666666666,\"#ed7953\"],[0.7777777777777778,\"#fb9f3a\"],[0.8888888888888888,\"#fdca26\"],[1.0,\"#f0f921\"]]}],\"heatmap\":[{\"type\":\"heatmap\",\"colorbar\":{\"outlinewidth\":0,\"ticks\":\"\"},\"colorscale\":[[0.0,\"#0d0887\"],[0.1111111111111111,\"#46039f\"],[0.2222222222222222,\"#7201a8\"],[0.3333333333333333,\"#9c179e\"],[0.4444444444444444,\"#bd3786\"],[0.5555555555555556,\"#d8576b\"],[0.6666666666666666,\"#ed7953\"],[0.7777777777777778,\"#fb9f3a\"],[0.8888888888888888,\"#fdca26\"],[1.0,\"#f0f921\"]]}],\"heatmapgl\":[{\"type\":\"heatmapgl\",\"colorbar\":{\"outlinewidth\":0,\"ticks\":\"\"},\"colorscale\":[[0.0,\"#0d0887\"],[0.1111111111111111,\"#46039f\"],[0.2222222222222222,\"#7201a8\"],[0.3333333333333333,\"#9c179e\"],[0.4444444444444444,\"#bd3786\"],[0.5555555555555556,\"#d8576b\"],[0.6666666666666666,\"#ed7953\"],[0.7777777777777778,\"#fb9f3a\"],[0.8888888888888888,\"#fdca26\"],[1.0,\"#f0f921\"]]}],\"contourcarpet\":[{\"type\":\"contourcarpet\",\"colorbar\":{\"outlinewidth\":0,\"ticks\":\"\"}}],\"contour\":[{\"type\":\"contour\",\"colorbar\":{\"outlinewidth\":0,\"ticks\":\"\"},\"colorscale\":[[0.0,\"#0d0887\"],[0.1111111111111111,\"#46039f\"],[0.2222222222222222,\"#7201a8\"],[0.3333333333333333,\"#9c179e\"],[0.4444444444444444,\"#bd3786\"],[0.5555555555555556,\"#d8576b\"],[0.6666666666666666,\"#ed7953\"],[0.7777777777777778,\"#fb9f3a\"],[0.8888888888888888,\"#fdca26\"],[1.0,\"#f0f921\"]]}],\"surface\":[{\"type\":\"surface\",\"colorbar\":{\"outlinewidth\":0,\"ticks\":\"\"},\"colorscale\":[[0.0,\"#0d0887\"],[0.1111111111111111,\"#46039f\"],[0.2222222222222222,\"#7201a8\"],[0.3333333333333333,\"#9c179e\"],[0.4444444444444444,\"#bd3786\"],[0.5555555555555556,\"#d8576b\"],[0.6666666666666666,\"#ed7953\"],[0.7777777777777778,\"#fb9f3a\"],[0.8888888888888888,\"#fdca26\"],[1.0,\"#f0f921\"]]}],\"mesh3d\":[{\"type\":\"mesh3d\",\"colorbar\":{\"outlinewidth\":0,\"ticks\":\"\"}}],\"scatter\":[{\"fillpattern\":{\"fillmode\":\"overlay\",\"size\":10,\"solidity\":0.2},\"type\":\"scatter\"}],\"parcoords\":[{\"type\":\"parcoords\",\"line\":{\"colorbar\":{\"outlinewidth\":0,\"ticks\":\"\"}}}],\"scatterpolargl\":[{\"type\":\"scatterpolargl\",\"marker\":{\"colorbar\":{\"outlinewidth\":0,\"ticks\":\"\"}}}],\"bar\":[{\"error_x\":{\"color\":\"#2a3f5f\"},\"error_y\":{\"color\":\"#2a3f5f\"},\"marker\":{\"line\":{\"color\":\"#E5ECF6\",\"width\":0.5},\"pattern\":{\"fillmode\":\"overlay\",\"size\":10,\"solidity\":0.2}},\"type\":\"bar\"}],\"scattergeo\":[{\"type\":\"scattergeo\",\"marker\":{\"colorbar\":{\"outlinewidth\":0,\"ticks\":\"\"}}}],\"scatterpolar\":[{\"type\":\"scatterpolar\",\"marker\":{\"colorbar\":{\"outlinewidth\":0,\"ticks\":\"\"}}}],\"histogram\":[{\"marker\":{\"pattern\":{\"fillmode\":\"overlay\",\"size\":10,\"solidity\":0.2}},\"type\":\"histogram\"}],\"scattergl\":[{\"type\":\"scattergl\",\"marker\":{\"colorbar\":{\"outlinewidth\":0,\"ticks\":\"\"}}}],\"scatter3d\":[{\"type\":\"scatter3d\",\"line\":{\"colorbar\":{\"outlinewidth\":0,\"ticks\":\"\"}},\"marker\":{\"colorbar\":{\"outlinewidth\":0,\"ticks\":\"\"}}}],\"scattermapbox\":[{\"type\":\"scattermapbox\",\"marker\":{\"colorbar\":{\"outlinewidth\":0,\"ticks\":\"\"}}}],\"scatterternary\":[{\"type\":\"scatterternary\",\"marker\":{\"colorbar\":{\"outlinewidth\":0,\"ticks\":\"\"}}}],\"scattercarpet\":[{\"type\":\"scattercarpet\",\"marker\":{\"colorbar\":{\"outlinewidth\":0,\"ticks\":\"\"}}}],\"carpet\":[{\"aaxis\":{\"endlinecolor\":\"#2a3f5f\",\"gridcolor\":\"white\",\"linecolor\":\"white\",\"minorgridcolor\":\"white\",\"startlinecolor\":\"#2a3f5f\"},\"baxis\":{\"endlinecolor\":\"#2a3f5f\",\"gridcolor\":\"white\",\"linecolor\":\"white\",\"minorgridcolor\":\"white\",\"startlinecolor\":\"#2a3f5f\"},\"type\":\"carpet\"}],\"table\":[{\"cells\":{\"fill\":{\"color\":\"#EBF0F8\"},\"line\":{\"color\":\"white\"}},\"header\":{\"fill\":{\"color\":\"#C8D4E3\"},\"line\":{\"color\":\"white\"}},\"type\":\"table\"}],\"barpolar\":[{\"marker\":{\"line\":{\"color\":\"#E5ECF6\",\"width\":0.5},\"pattern\":{\"fillmode\":\"overlay\",\"size\":10,\"solidity\":0.2}},\"type\":\"barpolar\"}],\"pie\":[{\"automargin\":true,\"type\":\"pie\"}]},\"layout\":{\"autotypenumbers\":\"strict\",\"colorway\":[\"#636efa\",\"#EF553B\",\"#00cc96\",\"#ab63fa\",\"#FFA15A\",\"#19d3f3\",\"#FF6692\",\"#B6E880\",\"#FF97FF\",\"#FECB52\"],\"font\":{\"color\":\"#2a3f5f\"},\"hovermode\":\"closest\",\"hoverlabel\":{\"align\":\"left\"},\"paper_bgcolor\":\"white\",\"plot_bgcolor\":\"#E5ECF6\",\"polar\":{\"bgcolor\":\"#E5ECF6\",\"angularaxis\":{\"gridcolor\":\"white\",\"linecolor\":\"white\",\"ticks\":\"\"},\"radialaxis\":{\"gridcolor\":\"white\",\"linecolor\":\"white\",\"ticks\":\"\"}},\"ternary\":{\"bgcolor\":\"#E5ECF6\",\"aaxis\":{\"gridcolor\":\"white\",\"linecolor\":\"white\",\"ticks\":\"\"},\"baxis\":{\"gridcolor\":\"white\",\"linecolor\":\"white\",\"ticks\":\"\"},\"caxis\":{\"gridcolor\":\"white\",\"linecolor\":\"white\",\"ticks\":\"\"}},\"coloraxis\":{\"colorbar\":{\"outlinewidth\":0,\"ticks\":\"\"}},\"colorscale\":{\"sequential\":[[0.0,\"#0d0887\"],[0.1111111111111111,\"#46039f\"],[0.2222222222222222,\"#7201a8\"],[0.3333333333333333,\"#9c179e\"],[0.4444444444444444,\"#bd3786\"],[0.5555555555555556,\"#d8576b\"],[0.6666666666666666,\"#ed7953\"],[0.7777777777777778,\"#fb9f3a\"],[0.8888888888888888,\"#fdca26\"],[1.0,\"#f0f921\"]],\"sequentialminus\":[[0.0,\"#0d0887\"],[0.1111111111111111,\"#46039f\"],[0.2222222222222222,\"#7201a8\"],[0.3333333333333333,\"#9c179e\"],[0.4444444444444444,\"#bd3786\"],[0.5555555555555556,\"#d8576b\"],[0.6666666666666666,\"#ed7953\"],[0.7777777777777778,\"#fb9f3a\"],[0.8888888888888888,\"#fdca26\"],[1.0,\"#f0f921\"]],\"diverging\":[[0,\"#8e0152\"],[0.1,\"#c51b7d\"],[0.2,\"#de77ae\"],[0.3,\"#f1b6da\"],[0.4,\"#fde0ef\"],[0.5,\"#f7f7f7\"],[0.6,\"#e6f5d0\"],[0.7,\"#b8e186\"],[0.8,\"#7fbc41\"],[0.9,\"#4d9221\"],[1,\"#276419\"]]},\"xaxis\":{\"gridcolor\":\"white\",\"linecolor\":\"white\",\"ticks\":\"\",\"title\":{\"standoff\":15},\"zerolinecolor\":\"white\",\"automargin\":true,\"zerolinewidth\":2},\"yaxis\":{\"gridcolor\":\"white\",\"linecolor\":\"white\",\"ticks\":\"\",\"title\":{\"standoff\":15},\"zerolinecolor\":\"white\",\"automargin\":true,\"zerolinewidth\":2},\"scene\":{\"xaxis\":{\"backgroundcolor\":\"#E5ECF6\",\"gridcolor\":\"white\",\"linecolor\":\"white\",\"showbackground\":true,\"ticks\":\"\",\"zerolinecolor\":\"white\",\"gridwidth\":2},\"yaxis\":{\"backgroundcolor\":\"#E5ECF6\",\"gridcolor\":\"white\",\"linecolor\":\"white\",\"showbackground\":true,\"ticks\":\"\",\"zerolinecolor\":\"white\",\"gridwidth\":2},\"zaxis\":{\"backgroundcolor\":\"#E5ECF6\",\"gridcolor\":\"white\",\"linecolor\":\"white\",\"showbackground\":true,\"ticks\":\"\",\"zerolinecolor\":\"white\",\"gridwidth\":2}},\"shapedefaults\":{\"line\":{\"color\":\"#2a3f5f\"}},\"annotationdefaults\":{\"arrowcolor\":\"#2a3f5f\",\"arrowhead\":0,\"arrowwidth\":1},\"geo\":{\"bgcolor\":\"white\",\"landcolor\":\"#E5ECF6\",\"subunitcolor\":\"white\",\"showland\":true,\"showlakes\":true,\"lakecolor\":\"white\"},\"title\":{\"x\":0.05},\"mapbox\":{\"style\":\"light\"}}}},                        {\"responsive\": true}                    ).then(function(){\n",
       "                            \n",
       "var gd = document.getElementById('d9aa9a83-1de9-4ce6-9b5c-184c8ebbc506');\n",
       "var x = new MutationObserver(function (mutations, observer) {{\n",
       "        var display = window.getComputedStyle(gd).display;\n",
       "        if (!display || display === 'none') {{\n",
       "            console.log([gd, 'removed!']);\n",
       "            Plotly.purge(gd);\n",
       "            observer.disconnect();\n",
       "        }}\n",
       "}});\n",
       "\n",
       "// Listen for the removal of the full notebook cells\n",
       "var notebookContainer = gd.closest('#notebook-container');\n",
       "if (notebookContainer) {{\n",
       "    x.observe(notebookContainer, {childList: true});\n",
       "}}\n",
       "\n",
       "// Listen for the clearing of the current output cell\n",
       "var outputEl = gd.closest('.output');\n",
       "if (outputEl) {{\n",
       "    x.observe(outputEl, {childList: true});\n",
       "}}\n",
       "\n",
       "                        })                };                });            </script>        </div>"
      ]
     },
     "metadata": {},
     "output_type": "display_data"
    }
   ],
   "source": [
    "#plot in plotly\n",
    "from idendro.targets.plotly import to_plotly\n",
    "\n",
    "a = to_plotly(dendrogram=dendrogram, width=700, height=450)\n",
    "\n",
    "a.update_yaxes(range=[-0.1,2], zeroline=True)"
   ]
  }
 ],
 "metadata": {
  "kernelspec": {
   "display_name": "idendro",
   "language": "python",
   "name": "python3"
  },
  "language_info": {
   "codemirror_mode": {
    "name": "ipython",
    "version": 3
   },
   "file_extension": ".py",
   "mimetype": "text/x-python",
   "name": "python",
   "nbconvert_exporter": "python",
   "pygments_lexer": "ipython3",
   "version": "3.10.6"
  },
  "orig_nbformat": 4,
  "vscode": {
   "interpreter": {
    "hash": "c65e684e66d07d621a56d60ea18d00083a3aa685fb3125bee996e4f969a9bef8"
   }
  }
 },
 "nbformat": 4,
 "nbformat_minor": 2
}
